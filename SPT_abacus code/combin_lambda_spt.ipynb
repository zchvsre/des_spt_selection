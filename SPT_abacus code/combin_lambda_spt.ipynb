{
 "cells": [
  {
   "cell_type": "code",
   "execution_count": null,
   "id": "4eca3fc3-1cf9-41af-a4a4-09d2a2d5c24f",
   "metadata": {},
   "outputs": [
    {
     "ename": "",
     "evalue": "",
     "output_type": "error",
     "traceback": [
      "\u001b[1;31mRunning cells with 'Python 3.6.15 64-bit' requires ipykernel package.\n",
      "Run the following command to install 'ipykernel' into the Python environment. \n",
      "Command: '/usr/bin/python3 -m pip install ipykernel -U --user --force-reinstall'"
     ]
    }
   ],
   "source": [
    "import fitsio as fio\n",
    "import redmapper\n",
    "import pandas as pd\n",
    "import numpy as np\n",
    "import plotly.express as px\n",
    "import seaborn as sns\n",
    "import matplotlib.pyplot as plt\n",
    "import matplotlib\n",
    "import h5py \n",
    "%matplotlib inline\n",
    "import os.path\n",
    "\n",
    "sns.set_theme()\n",
    "sns.set_style(\"ticks\")\n",
    "sns.set(rc = {'figure.figsize':(15,8)})"
   ]
  },
  {
   "cell_type": "code",
   "execution_count": 2,
   "id": "2b49e832-c8ad-44b1-909b-b5b8e1ce9942",
   "metadata": {},
   "outputs": [],
   "source": [
    "import warnings\n",
    "warnings.filterwarnings('ignore')"
   ]
  },
  {
   "cell_type": "code",
   "execution_count": 3,
   "id": "a575615c-59bd-4452-a3f5-06bd99c9c5b5",
   "metadata": {},
   "outputs": [],
   "source": [
    "%run -i /global/project/projectdirs/des/zhou/spt_lensing/bin/plot_lambda_zeta.py"
   ]
  },
  {
   "cell_type": "code",
   "execution_count": 4,
   "id": "e0220c66-e366-4bd4-adf2-36e6957bd0a7",
   "metadata": {},
   "outputs": [],
   "source": [
    "projection_depth_array = [\"1\",\"15\",\"30\",\"30_noperc\",\"60\"]"
   ]
  },
  {
   "cell_type": "code",
   "execution_count": 5,
   "id": "0db2de61-e940-46e7-a05a-036777d47b75",
   "metadata": {},
   "outputs": [],
   "source": [
    "project_path = \"/global/cfs/cdirs/des/zhou/spt_lensing/\"\n",
    "spt_path = project_path + \"data/halos_spt.pkl\""
   ]
  },
  {
   "cell_type": "code",
   "execution_count": 6,
   "id": "13f9c3f7-3fda-43b8-9b41-5628a8e18290",
   "metadata": {},
   "outputs": [],
   "source": [
    "richness_path_array = [None] * 5\n",
    "\n",
    "for i,depth in enumerate(projection_depth_array):\n",
    "    if depth == \"30_no_perc\":\n",
    "        richness_path = os.path.abspath(r\"/global/cfs/cdirs/des/zhou/spt_lensing/abacus/memHOD_11.2_12.4_0.65_1.0_0.2_0.0_0_z0p3_richness_d30_noperc.hdf5\")\n",
    "    else:\n",
    "        richness_path = project_path + \"abacus/memHOD_11.2_12.4_0.65_1.0_0.2_0.0_0_z0p3.richness_d{}.hdf5\".format(str(depth))\n",
    "    richness_path_array[i] = richness_path"
   ]
  },
  {
   "cell_type": "code",
   "execution_count": 7,
   "id": "4e2be358-9084-4bf7-8db3-b6becf36a8bd",
   "metadata": {},
   "outputs": [],
   "source": [
    "d30_path = richness_path_array[2]"
   ]
  },
  {
   "cell_type": "code",
   "execution_count": 8,
   "id": "00157e15-0edc-4898-959c-59e486e322f0",
   "metadata": {},
   "outputs": [],
   "source": [
    "richness_bins=[5,10,14,20,30,45,60]\n",
    "xi_bins = [5,10,20,30,40]"
   ]
  },
  {
   "cell_type": "code",
   "execution_count": 9,
   "id": "f3a88cd2-bbf9-4f3e-90ad-26f0f7564667",
   "metadata": {},
   "outputs": [
    {
     "name": "stdout",
     "output_type": "stream",
     "text": [
      "['/global/cfs/cdirs/des/zhou/spt_lensing/abacus/memHOD_11.2_12.4_0.65_1.0_0.2_0.0_0_z0p3.richness_d1.hdf5', '/global/cfs/cdirs/des/zhou/spt_lensing/abacus/memHOD_11.2_12.4_0.65_1.0_0.2_0.0_0_z0p3.richness_d15.hdf5', '/global/cfs/cdirs/des/zhou/spt_lensing/abacus/memHOD_11.2_12.4_0.65_1.0_0.2_0.0_0_z0p3.richness_d30.hdf5', '/global/cfs/cdirs/des/zhou/spt_lensing/abacus/memHOD_11.2_12.4_0.65_1.0_0.2_0.0_0_z0p3.richness_d30_noperc.hdf5', '/global/cfs/cdirs/des/zhou/spt_lensing/abacus/memHOD_11.2_12.4_0.65_1.0_0.2_0.0_0_z0p3.richness_d60.hdf5']\n"
     ]
    }
   ],
   "source": [
    "print(richness_path_array)"
   ]
  },
  {
   "cell_type": "code",
   "execution_count": 10,
   "id": "a82fd588-07c9-4e5b-a452-57d3c185d9cb",
   "metadata": {},
   "outputs": [],
   "source": [
    "spt_df = pd.read_pickle(spt_path)\n",
    "spt_df.reset_index()\n",
    "spt_df.set_index(\"id\",inplace=True)"
   ]
  },
  {
   "cell_type": "markdown",
   "id": "8a4ccc9c-fe56-48c1-b88a-be10b0371ed0",
   "metadata": {},
   "source": [
    "# Combine SPT signal table and Richness table"
   ]
  },
  {
   "cell_type": "code",
   "execution_count": 11,
   "id": "17e3e4d4-8d8c-4dac-9890-00b220331613",
   "metadata": {},
   "outputs": [],
   "source": [
    "def combine_spt_richness(projection_depth,spt_df):\n",
    "\n",
    "    if depth == \"30_no_perc\":\n",
    "        richness_path = os.path.abspath(r\"/global/cfs/cdirs/des/zhou/spt_lensing/abacus/memHOD_11.2_12.4_0.65_1.0_0.2_0.0_0_z0p3_richness_d30_noperc.hdf5\")\n",
    "    else:\n",
    "        richness_path = project_path + \"abacus/memHOD_11.2_12.4_0.65_1.0_0.2_0.0_0_z0p3.richness_d{}.hdf5\".format(str(depth))\n",
    "    \n",
    "    f = h5py.File(richness_path, 'r')\n",
    "    \n",
    "    halos = f['halos']\n",
    "    \n",
    "    column_names = [\"gid\",\"R_lambda_{}\".format(projection_depth),\"lambda_{}\".format(projection_depth)]\n",
    "\n",
    "    \n",
    "    richness_df = pd.DataFrame(data=dict(zip(column_names,(halos['gid'],halos['R_lambda'],halos['lambda']))),)\n",
    "    richness_df.set_index(\"gid\",inplace=True)\n",
    "\n",
    "    \n",
    "    df = pd.merge(richness_df,spt_df,how=\"outer\",right_index=True,left_index=True)\n",
    "    \n",
    "    print(\"Size of richness catalog:\",len(richness_df))\n",
    "    print(\"Size of SPT selected catalog:\",len(spt_df))\n",
    "    print(\"Size of union:\",len(df))\n",
    "\n",
    "    return(df)"
   ]
  },
  {
   "cell_type": "code",
   "execution_count": 12,
   "id": "598c0c0f-84c4-4293-b6d9-10034ab0fff1",
   "metadata": {},
   "outputs": [
    {
     "name": "stdout",
     "output_type": "stream",
     "text": [
      "Size of richness catalog: 2076502\n",
      "Size of SPT selected catalog: 9103916\n",
      "Size of union: 9186495\n",
      "15\n",
      "Size of richness catalog: 1997162\n",
      "Size of SPT selected catalog: 9186495\n",
      "Size of union: 9186495\n",
      "4.348862654598936\n",
      "30\n",
      "Size of richness catalog: 1997162\n",
      "Size of SPT selected catalog: 9186495\n",
      "Size of union: 9186495\n",
      "4.599252011315183\n",
      "30_noperc\n",
      "Size of richness catalog: 1997162\n",
      "Size of SPT selected catalog: 9186495\n",
      "Size of union: 9186495\n",
      "5.877535393657218\n",
      "60\n",
      "Size of richness catalog: 2076502\n",
      "Size of SPT selected catalog: 9186495\n",
      "Size of union: 9345175\n",
      "5.6887497304470065\n"
     ]
    }
   ],
   "source": [
    "df = combine_spt_richness(projection_depth_array[0],spt_df)\n",
    "\n",
    "for depth in projection_depth_array[1:]:\n",
    "    print(depth)\n",
    "    df = combine_spt_richness(depth,df)\n",
    "    print(df['lambda_{}'.format(depth)].mean())"
   ]
  },
  {
   "cell_type": "code",
   "execution_count": 13,
   "id": "96c9f184-ff2c-415e-94b2-a255a21d6d7b",
   "metadata": {},
   "outputs": [
    {
     "data": {
      "text/html": [
       "<div>\n",
       "<style scoped>\n",
       "    .dataframe tbody tr th:only-of-type {\n",
       "        vertical-align: middle;\n",
       "    }\n",
       "\n",
       "    .dataframe tbody tr th {\n",
       "        vertical-align: top;\n",
       "    }\n",
       "\n",
       "    .dataframe thead th {\n",
       "        text-align: right;\n",
       "    }\n",
       "</style>\n",
       "<table border=\"1\" class=\"dataframe\">\n",
       "  <thead>\n",
       "    <tr style=\"text-align: right;\">\n",
       "      <th></th>\n",
       "      <th>R_lambda_60</th>\n",
       "      <th>lambda_60</th>\n",
       "      <th>R_lambda_30_noperc</th>\n",
       "      <th>lambda_30_noperc</th>\n",
       "      <th>R_lambda_30</th>\n",
       "      <th>lambda_30</th>\n",
       "      <th>R_lambda_15</th>\n",
       "      <th>lambda_15</th>\n",
       "      <th>R_lambda_1</th>\n",
       "      <th>lambda_1</th>\n",
       "      <th>...</th>\n",
       "      <th>pos_y</th>\n",
       "      <th>pos_z</th>\n",
       "      <th>mean_ln_zeta</th>\n",
       "      <th>mean_ln_lambda</th>\n",
       "      <th>zeta</th>\n",
       "      <th>xi</th>\n",
       "      <th>xi_gt_45</th>\n",
       "      <th>xi_gt_5</th>\n",
       "      <th>zeta_gt_2</th>\n",
       "      <th>select</th>\n",
       "    </tr>\n",
       "  </thead>\n",
       "  <tbody>\n",
       "    <tr>\n",
       "      <th>0</th>\n",
       "      <td>NaN</td>\n",
       "      <td>NaN</td>\n",
       "      <td>NaN</td>\n",
       "      <td>NaN</td>\n",
       "      <td>NaN</td>\n",
       "      <td>NaN</td>\n",
       "      <td>NaN</td>\n",
       "      <td>NaN</td>\n",
       "      <td>NaN</td>\n",
       "      <td>NaN</td>\n",
       "      <td>...</td>\n",
       "      <td>415.166016</td>\n",
       "      <td>856.251831</td>\n",
       "      <td>-8.618753</td>\n",
       "      <td>None</td>\n",
       "      <td>0.000188</td>\n",
       "      <td>4.178435</td>\n",
       "      <td>0.0</td>\n",
       "      <td>0.0</td>\n",
       "      <td>0.0</td>\n",
       "      <td>0.0</td>\n",
       "    </tr>\n",
       "    <tr>\n",
       "      <th>1</th>\n",
       "      <td>0.495934</td>\n",
       "      <td>3.0</td>\n",
       "      <td>0.525306</td>\n",
       "      <td>4.0</td>\n",
       "      <td>0.495934</td>\n",
       "      <td>3.0</td>\n",
       "      <td>0.495934</td>\n",
       "      <td>3.0</td>\n",
       "      <td>0.495934</td>\n",
       "      <td>3.0</td>\n",
       "      <td>...</td>\n",
       "      <td>414.536774</td>\n",
       "      <td>856.803711</td>\n",
       "      <td>-4.997203</td>\n",
       "      <td>None</td>\n",
       "      <td>0.006090</td>\n",
       "      <td>0.965050</td>\n",
       "      <td>0.0</td>\n",
       "      <td>0.0</td>\n",
       "      <td>0.0</td>\n",
       "      <td>0.0</td>\n",
       "    </tr>\n",
       "    <tr>\n",
       "      <th>2</th>\n",
       "      <td>NaN</td>\n",
       "      <td>NaN</td>\n",
       "      <td>NaN</td>\n",
       "      <td>NaN</td>\n",
       "      <td>NaN</td>\n",
       "      <td>NaN</td>\n",
       "      <td>NaN</td>\n",
       "      <td>NaN</td>\n",
       "      <td>NaN</td>\n",
       "      <td>NaN</td>\n",
       "      <td>...</td>\n",
       "      <td>415.929810</td>\n",
       "      <td>856.218750</td>\n",
       "      <td>-7.717088</td>\n",
       "      <td>None</td>\n",
       "      <td>0.000589</td>\n",
       "      <td>3.032619</td>\n",
       "      <td>0.0</td>\n",
       "      <td>0.0</td>\n",
       "      <td>0.0</td>\n",
       "      <td>0.0</td>\n",
       "    </tr>\n",
       "    <tr>\n",
       "      <th>3</th>\n",
       "      <td>0.525306</td>\n",
       "      <td>4.0</td>\n",
       "      <td>0.525306</td>\n",
       "      <td>4.0</td>\n",
       "      <td>0.525306</td>\n",
       "      <td>4.0</td>\n",
       "      <td>0.525306</td>\n",
       "      <td>4.0</td>\n",
       "      <td>0.525306</td>\n",
       "      <td>4.0</td>\n",
       "      <td>...</td>\n",
       "      <td>416.008942</td>\n",
       "      <td>856.025208</td>\n",
       "      <td>-6.653800</td>\n",
       "      <td>None</td>\n",
       "      <td>0.001281</td>\n",
       "      <td>2.686348</td>\n",
       "      <td>0.0</td>\n",
       "      <td>0.0</td>\n",
       "      <td>0.0</td>\n",
       "      <td>0.0</td>\n",
       "    </tr>\n",
       "    <tr>\n",
       "      <th>4</th>\n",
       "      <td>NaN</td>\n",
       "      <td>NaN</td>\n",
       "      <td>NaN</td>\n",
       "      <td>NaN</td>\n",
       "      <td>NaN</td>\n",
       "      <td>NaN</td>\n",
       "      <td>NaN</td>\n",
       "      <td>NaN</td>\n",
       "      <td>NaN</td>\n",
       "      <td>NaN</td>\n",
       "      <td>...</td>\n",
       "      <td>416.560669</td>\n",
       "      <td>855.756653</td>\n",
       "      <td>-8.724588</td>\n",
       "      <td>None</td>\n",
       "      <td>0.000172</td>\n",
       "      <td>1.018350</td>\n",
       "      <td>0.0</td>\n",
       "      <td>0.0</td>\n",
       "      <td>0.0</td>\n",
       "      <td>0.0</td>\n",
       "    </tr>\n",
       "    <tr>\n",
       "      <th>...</th>\n",
       "      <td>...</td>\n",
       "      <td>...</td>\n",
       "      <td>...</td>\n",
       "      <td>...</td>\n",
       "      <td>...</td>\n",
       "      <td>...</td>\n",
       "      <td>...</td>\n",
       "      <td>...</td>\n",
       "      <td>...</td>\n",
       "      <td>...</td>\n",
       "      <td>...</td>\n",
       "      <td>...</td>\n",
       "      <td>...</td>\n",
       "      <td>...</td>\n",
       "      <td>...</td>\n",
       "      <td>...</td>\n",
       "      <td>...</td>\n",
       "      <td>...</td>\n",
       "      <td>...</td>\n",
       "      <td>...</td>\n",
       "      <td>...</td>\n",
       "    </tr>\n",
       "    <tr>\n",
       "      <th>9859095</th>\n",
       "      <td>NaN</td>\n",
       "      <td>NaN</td>\n",
       "      <td>NaN</td>\n",
       "      <td>NaN</td>\n",
       "      <td>NaN</td>\n",
       "      <td>NaN</td>\n",
       "      <td>NaN</td>\n",
       "      <td>NaN</td>\n",
       "      <td>NaN</td>\n",
       "      <td>NaN</td>\n",
       "      <td>...</td>\n",
       "      <td>561.514404</td>\n",
       "      <td>888.496399</td>\n",
       "      <td>-9.094530</td>\n",
       "      <td>None</td>\n",
       "      <td>0.000094</td>\n",
       "      <td>1.446782</td>\n",
       "      <td>0.0</td>\n",
       "      <td>0.0</td>\n",
       "      <td>0.0</td>\n",
       "      <td>0.0</td>\n",
       "    </tr>\n",
       "    <tr>\n",
       "      <th>9859096</th>\n",
       "      <td>NaN</td>\n",
       "      <td>NaN</td>\n",
       "      <td>NaN</td>\n",
       "      <td>NaN</td>\n",
       "      <td>NaN</td>\n",
       "      <td>NaN</td>\n",
       "      <td>NaN</td>\n",
       "      <td>NaN</td>\n",
       "      <td>NaN</td>\n",
       "      <td>NaN</td>\n",
       "      <td>...</td>\n",
       "      <td>560.016357</td>\n",
       "      <td>882.976013</td>\n",
       "      <td>-8.724588</td>\n",
       "      <td>None</td>\n",
       "      <td>0.000202</td>\n",
       "      <td>0.982131</td>\n",
       "      <td>0.0</td>\n",
       "      <td>0.0</td>\n",
       "      <td>0.0</td>\n",
       "      <td>0.0</td>\n",
       "    </tr>\n",
       "    <tr>\n",
       "      <th>9859099</th>\n",
       "      <td>NaN</td>\n",
       "      <td>NaN</td>\n",
       "      <td>NaN</td>\n",
       "      <td>NaN</td>\n",
       "      <td>NaN</td>\n",
       "      <td>NaN</td>\n",
       "      <td>NaN</td>\n",
       "      <td>NaN</td>\n",
       "      <td>NaN</td>\n",
       "      <td>NaN</td>\n",
       "      <td>...</td>\n",
       "      <td>571.308411</td>\n",
       "      <td>854.020569</td>\n",
       "      <td>-8.961055</td>\n",
       "      <td>None</td>\n",
       "      <td>0.000121</td>\n",
       "      <td>3.074231</td>\n",
       "      <td>0.0</td>\n",
       "      <td>0.0</td>\n",
       "      <td>0.0</td>\n",
       "      <td>0.0</td>\n",
       "    </tr>\n",
       "    <tr>\n",
       "      <th>9859102</th>\n",
       "      <td>NaN</td>\n",
       "      <td>NaN</td>\n",
       "      <td>NaN</td>\n",
       "      <td>NaN</td>\n",
       "      <td>NaN</td>\n",
       "      <td>NaN</td>\n",
       "      <td>NaN</td>\n",
       "      <td>NaN</td>\n",
       "      <td>NaN</td>\n",
       "      <td>NaN</td>\n",
       "      <td>...</td>\n",
       "      <td>564.850891</td>\n",
       "      <td>851.839539</td>\n",
       "      <td>-10.646326</td>\n",
       "      <td>None</td>\n",
       "      <td>0.000024</td>\n",
       "      <td>0.810190</td>\n",
       "      <td>0.0</td>\n",
       "      <td>0.0</td>\n",
       "      <td>0.0</td>\n",
       "      <td>0.0</td>\n",
       "    </tr>\n",
       "    <tr>\n",
       "      <th>9859103</th>\n",
       "      <td>NaN</td>\n",
       "      <td>NaN</td>\n",
       "      <td>NaN</td>\n",
       "      <td>NaN</td>\n",
       "      <td>NaN</td>\n",
       "      <td>NaN</td>\n",
       "      <td>NaN</td>\n",
       "      <td>NaN</td>\n",
       "      <td>NaN</td>\n",
       "      <td>NaN</td>\n",
       "      <td>...</td>\n",
       "      <td>548.500488</td>\n",
       "      <td>844.104858</td>\n",
       "      <td>-9.787875</td>\n",
       "      <td>None</td>\n",
       "      <td>0.000047</td>\n",
       "      <td>3.673126</td>\n",
       "      <td>0.0</td>\n",
       "      <td>0.0</td>\n",
       "      <td>0.0</td>\n",
       "      <td>0.0</td>\n",
       "    </tr>\n",
       "  </tbody>\n",
       "</table>\n",
       "<p>9345175 rows × 25 columns</p>\n",
       "</div>"
      ],
      "text/plain": [
       "         R_lambda_60  lambda_60  R_lambda_30_noperc  lambda_30_noperc  \\\n",
       "0                NaN        NaN                 NaN               NaN   \n",
       "1           0.495934        3.0            0.525306               4.0   \n",
       "2                NaN        NaN                 NaN               NaN   \n",
       "3           0.525306        4.0            0.525306               4.0   \n",
       "4                NaN        NaN                 NaN               NaN   \n",
       "...              ...        ...                 ...               ...   \n",
       "9859095          NaN        NaN                 NaN               NaN   \n",
       "9859096          NaN        NaN                 NaN               NaN   \n",
       "9859099          NaN        NaN                 NaN               NaN   \n",
       "9859102          NaN        NaN                 NaN               NaN   \n",
       "9859103          NaN        NaN                 NaN               NaN   \n",
       "\n",
       "         R_lambda_30  lambda_30  R_lambda_15  lambda_15  R_lambda_1  lambda_1  \\\n",
       "0                NaN        NaN          NaN        NaN         NaN       NaN   \n",
       "1           0.495934        3.0     0.495934        3.0    0.495934       3.0   \n",
       "2                NaN        NaN          NaN        NaN         NaN       NaN   \n",
       "3           0.525306        4.0     0.525306        4.0    0.525306       4.0   \n",
       "4                NaN        NaN          NaN        NaN         NaN       NaN   \n",
       "...              ...        ...          ...        ...         ...       ...   \n",
       "9859095          NaN        NaN          NaN        NaN         NaN       NaN   \n",
       "9859096          NaN        NaN          NaN        NaN         NaN       NaN   \n",
       "9859099          NaN        NaN          NaN        NaN         NaN       NaN   \n",
       "9859102          NaN        NaN          NaN        NaN         NaN       NaN   \n",
       "9859103          NaN        NaN          NaN        NaN         NaN       NaN   \n",
       "\n",
       "         ...       pos_y       pos_z  mean_ln_zeta  mean_ln_lambda      zeta  \\\n",
       "0        ...  415.166016  856.251831     -8.618753            None  0.000188   \n",
       "1        ...  414.536774  856.803711     -4.997203            None  0.006090   \n",
       "2        ...  415.929810  856.218750     -7.717088            None  0.000589   \n",
       "3        ...  416.008942  856.025208     -6.653800            None  0.001281   \n",
       "4        ...  416.560669  855.756653     -8.724588            None  0.000172   \n",
       "...      ...         ...         ...           ...             ...       ...   \n",
       "9859095  ...  561.514404  888.496399     -9.094530            None  0.000094   \n",
       "9859096  ...  560.016357  882.976013     -8.724588            None  0.000202   \n",
       "9859099  ...  571.308411  854.020569     -8.961055            None  0.000121   \n",
       "9859102  ...  564.850891  851.839539    -10.646326            None  0.000024   \n",
       "9859103  ...  548.500488  844.104858     -9.787875            None  0.000047   \n",
       "\n",
       "               xi  xi_gt_45  xi_gt_5 zeta_gt_2  select  \n",
       "0        4.178435       0.0      0.0       0.0     0.0  \n",
       "1        0.965050       0.0      0.0       0.0     0.0  \n",
       "2        3.032619       0.0      0.0       0.0     0.0  \n",
       "3        2.686348       0.0      0.0       0.0     0.0  \n",
       "4        1.018350       0.0      0.0       0.0     0.0  \n",
       "...           ...       ...      ...       ...     ...  \n",
       "9859095  1.446782       0.0      0.0       0.0     0.0  \n",
       "9859096  0.982131       0.0      0.0       0.0     0.0  \n",
       "9859099  3.074231       0.0      0.0       0.0     0.0  \n",
       "9859102  0.810190       0.0      0.0       0.0     0.0  \n",
       "9859103  3.673126       0.0      0.0       0.0     0.0  \n",
       "\n",
       "[9345175 rows x 25 columns]"
      ]
     },
     "execution_count": 13,
     "metadata": {},
     "output_type": "execute_result"
    }
   ],
   "source": [
    "df"
   ]
  },
  {
   "cell_type": "code",
   "execution_count": 14,
   "id": "61ce754a-7298-438b-bd9b-72994a2a95b4",
   "metadata": {},
   "outputs": [],
   "source": [
    "#no mask\n",
    "lambda_spt_combined_path=\"data/lambda_spt_combined.pkl\"\n",
    "df.to_pickle(os.path.join(project_path,lambda_spt_combined_path))"
   ]
  },
  {
   "cell_type": "markdown",
   "id": "8eb368b9-2bc1-4b61-97c4-c8dfed139548",
   "metadata": {
    "tags": []
   },
   "source": [
    "# Add $<\\ln \\lambda | M_{500c},z>$"
   ]
  },
  {
   "cell_type": "markdown",
   "id": "59b33504-3f31-474b-ace3-a16659cbe394",
   "metadata": {},
   "source": [
    "Add mean_ln_lambda from richness-mass relation from Saro et. al. 2015\n",
    "\n",
    "$\\begin{aligned}\n",
    "\\left\\langle\\ln \\lambda \\mid M_{500}, z\\right\\rangle=& \\ln A_{\\lambda}+B_{\\lambda} \\ln \\left(\\frac{M_{500}}{3 \\times 10^{14} h^{-1} \\mathrm{M}_{\\odot}}\\right) \\\\\n",
    "&+C_{\\lambda} \\ln \\left(\\frac{E(z)}{E(z=0.6)}\\right)\n",
    "\\end{aligned}$"
   ]
  },
  {
   "cell_type": "code",
   "execution_count": 15,
   "id": "0d62f3ea-15c3-4674-b40d-50801bf521a7",
   "metadata": {},
   "outputs": [
    {
     "name": "stdout",
     "output_type": "stream",
     "text": [
      "1404\n"
     ]
    }
   ],
   "source": [
    "halo_df = df[(~np.isnan(df['lambda_30']))&(~np.isnan(df['M500c']))]\n",
    "halo_df = halo_df[halo_df['zeta_gt_2']==1]\n",
    "print(len(halo_df))"
   ]
  },
  {
   "cell_type": "code",
   "execution_count": 16,
   "id": "4a100e30-26ea-4a3b-922c-14cc39ecfb1c",
   "metadata": {},
   "outputs": [],
   "source": [
    "assert ~np.any(np.isnan(halo_df['pos_x']))"
   ]
  },
  {
   "cell_type": "code",
   "execution_count": 17,
   "id": "1fc024ef-05f8-4b1a-8088-d7ba69634b65",
   "metadata": {},
   "outputs": [],
   "source": [
    "assert ~np.any(np.isnan(halo_df['lambda_30']))\n",
    "assert ~np.any(np.isnan(halo_df['M500c']))"
   ]
  },
  {
   "cell_type": "code",
   "execution_count": 18,
   "id": "10d79183-9bc4-40c6-95ed-b82b11fd2c11",
   "metadata": {},
   "outputs": [
    {
     "name": "stdout",
     "output_type": "stream",
     "text": [
      "Cosmology \"Abacus\" \n",
      "    flat = True, Om0 = 0.3142, Ode0 = 0.6858, Ob0 = 0.0491, H0 = 67.26, sigma8 = 0.8100, ns = 9.9652\n",
      "    de_model = lambda, relspecies = True, Tcmb0 = 2.7255, Neff = 3.0400, powerlaw = False\n"
     ]
    }
   ],
   "source": [
    "from colossus.cosmology import cosmology\n",
    "h = 0.6726\n",
    "params = {'flat' : True, 'H0' : 67.26,  'Om0' : 0.14212/h**2, 'Ob0' : 0.02222/h**2, 'sigma8' : 0.81, 'ns' : 9.9652, 'w0' : -1.0, 'Neff' : 3.04}\n",
    "cosmo = cosmology.setCosmology('Abacus',params)\n",
    "print(cosmo)\n",
    "h_70 = cosmo.H0/70"
   ]
  },
  {
   "cell_type": "code",
   "execution_count": 19,
   "id": "ab08d6db-cc97-4cd0-a02f-04a971ce27fc",
   "metadata": {},
   "outputs": [],
   "source": [
    "A_lambda = 66.1\n",
    "B_lambda = 1.14\n",
    "C_lambda = 0.73\n",
    "D_lambda = 0.16\n",
    "growth_ratio = np.log(cosmo.Ez(0.3)/cosmo.Ez(0.6))"
   ]
  },
  {
   "cell_type": "code",
   "execution_count": 20,
   "id": "b5cf92f0-88d1-4fd1-a300-bdce913ee15b",
   "metadata": {},
   "outputs": [],
   "source": [
    "import scipy as sp"
   ]
  },
  {
   "cell_type": "code",
   "execution_count": 21,
   "id": "ce441890-6a5b-4130-85db-9c07f725b970",
   "metadata": {},
   "outputs": [],
   "source": [
    "def get_mean_ln_lambda(M,A_lambda_,B_lambda_,C_lambda_):\n",
    "    mean_ln_lambda = np.log(A_lambda_) + B_lambda_*np.log(M*h_70/3E14) + C_lambda_*growth_ratio\n",
    "    return(mean_ln_lambda)"
   ]
  },
  {
   "cell_type": "code",
   "execution_count": 22,
   "id": "022676af-2451-483f-9060-53f0d3bab088",
   "metadata": {},
   "outputs": [
    {
     "name": "stdout",
     "output_type": "stream",
     "text": [
      "(array([33.83401608,  0.4820774 ,  1.95572013]), array([[inf, inf, inf],\n",
      "       [inf, inf, inf],\n",
      "       [inf, inf, inf]]))\n",
      "A,B,C are  [33.83401608  0.4820774   1.95572013]\n"
     ]
    }
   ],
   "source": [
    "p0 = 60, 1, 0.5\n",
    "best_fit = sp.optimize.curve_fit(get_mean_ln_lambda, halo_df['M500c'].to_numpy(),np.log(halo_df['lambda_30'].to_numpy()), p0)\n",
    "print(best_fit)\n",
    "best_fit_params = best_fit[0]\n",
    "print(\"A,B,C are \", best_fit[0])"
   ]
  },
  {
   "cell_type": "code",
   "execution_count": 23,
   "id": "89adcf9a-8c10-4fb7-9eb7-f2430abb89c6",
   "metadata": {},
   "outputs": [],
   "source": [
    "halo_df['mean_ln_lambda_30'] = get_mean_ln_lambda(halo_df['M500c'],*best_fit_params)"
   ]
  },
  {
   "cell_type": "code",
   "execution_count": 24,
   "id": "52fad6ff-c573-4f54-8c38-d219db360545",
   "metadata": {},
   "outputs": [],
   "source": [
    "halo_df_path = \"data/lambda_spt_combined_30_zgt_2.pkl\"\n",
    "halo_df.to_pickle(os.path.join(project_path,halo_df_path))"
   ]
  },
  {
   "cell_type": "code",
   "execution_count": 25,
   "id": "f9bc281e-919f-42da-b414-17b27768dccf",
   "metadata": {},
   "outputs": [],
   "source": [
    "from astropy import constants\n",
    "M_sun = constants.M_sun.value"
   ]
  },
  {
   "cell_type": "code",
   "execution_count": 26,
   "id": "1f9cd19a-4f01-4f7a-8f4e-27bc3dfb83b3",
   "metadata": {},
   "outputs": [
    {
     "data": {
      "text/plain": [
       "107        3.700427e+14\n",
       "273        4.593285e+14\n",
       "329        4.879248e+14\n",
       "466        8.198132e+14\n",
       "582        7.121884e+14\n",
       "               ...     \n",
       "9250915    2.793193e+14\n",
       "9250915    2.793193e+14\n",
       "9250915    2.793193e+14\n",
       "9250915    2.793193e+14\n",
       "9252098    2.415535e+14\n",
       "Name: M500c, Length: 1404, dtype: float32"
      ]
     },
     "execution_count": 26,
     "metadata": {},
     "output_type": "execute_result"
    }
   ],
   "source": [
    "halo_df['M500c']"
   ]
  },
  {
   "cell_type": "code",
   "execution_count": 27,
   "id": "a64ca2ec-5891-4808-90ff-246ab734b70b",
   "metadata": {},
   "outputs": [
    {
     "name": "stdout",
     "output_type": "stream",
     "text": [
      "[2.94779283 2.94805381 2.94831464 ... 3.84367552 3.84371622 3.84375692]\n"
     ]
    }
   ],
   "source": [
    "M500c_range = np.linspace(halo_df['M500c'].min(),halo_df['M500c'].max(),10000)\n",
    "mean_ln_lambda = get_mean_ln_lambda(M500c_range,*best_fit_params)\n",
    "print(mean_ln_lambda)"
   ]
  },
  {
   "cell_type": "code",
   "execution_count": 28,
   "id": "983818d7-fb4c-438f-bdaf-51b51656ef02",
   "metadata": {},
   "outputs": [
    {
     "name": "stdout",
     "output_type": "stream",
     "text": [
      "[1.97260265e+14 1.97367080e+14 1.97473896e+14 ... 1.26509608e+15\n",
      " 1.26520290e+15 1.26530971e+15]\n"
     ]
    }
   ],
   "source": [
    "print(M500c_range)"
   ]
  },
  {
   "cell_type": "code",
   "execution_count": 29,
   "id": "0b161c18-d5ca-4ab7-b19c-21b0da97109b",
   "metadata": {},
   "outputs": [],
   "source": [
    "import matplotlib as mpl\n",
    "cmap = mpl.cm.viridis\n",
    "norm = mpl.colors.Normalize(vmin=halo_df['zeta_gt_2'].min(),vmax=halo_df['zeta'].max())\n",
    "from matplotlib.lines import Line2D"
   ]
  },
  {
   "cell_type": "code",
   "execution_count": 31,
   "id": "492c121c-968c-4c75-9e88-dd2b425f7eb3",
   "metadata": {},
   "outputs": [
    {
     "data": {
      "image/png": "[encoded data removed]",
      "text/plain": [
       "<Figure size 1080x576 with 1 Axes>"
      ]
     },
     "metadata": {},
     "output_type": "display_data"
    }
   ],
   "source": [
    "sns.set_style('ticks')\n",
    "markers = {1: \"o\", 0: \"X\"}\n",
    "\n",
    "plot2 = sns.lineplot(M500c_range, np.exp(mean_ln_lambda))\n",
    "plot1 = sns.scatterplot(x='M500c',y='lambda_30',data=halo_df,size=\"select\",sizes=(75,25),alpha=0.8,hue=\"select\",palette=[\"r\",\"g\"],style=\"select\",markers=markers,legend=False)\n",
    "\n",
    "plot1.set(xscale=\"log\",yscale=\"log\",title=\"$\\lambda$ vs M500c\")\n",
    "custom = [Line2D([], [], marker='o', color='g', linestyle='None'),\n",
    "          Line2D([], [], marker='x', color='r', linestyle='None')]\n",
    "\n",
    "plot1.axhline(2)\n",
    "plt.legend(custom, ['Selected', 'Not Selected'], loc='upper left')\n",
    "# plt.text(0.8*1E11,2.5, \"z>2 line to exclude $M < 10^{12}$\", color='black')\n",
    "\n",
    "plt.show()"
   ]
  },
  {
   "cell_type": "code",
   "execution_count": null,
   "id": "6fced1b5-b60e-4fe8-9385-c7e450e26190",
   "metadata": {},
   "outputs": [],
   "source": []
  },
  {
   "cell_type": "code",
   "execution_count": null,
   "id": "1488f06d-9684-46be-b116-3bd3ebf2f7e7",
   "metadata": {},
   "outputs": [],
   "source": []
  }
 ],
 "metadata": {
  "kernelspec": {
   "display_name": "Python 3.9.12 ('spt_selection')",
   "language": "python",
   "name": "python3"
  },
  "language_info": {
   "codemirror_mode": {
    "name": "ipython",
    "version": 3
   },
   "file_extension": ".py",
   "mimetype": "text/x-python",
   "name": "python",
   "nbconvert_exporter": "python",
   "pygments_lexer": "ipython3",
   "version": "3.9.12"
  },
  "vscode": {
   "interpreter": {
    "hash": "c147944480477d5c2c324e86d434fa19d922f8ab11037224dca3b2a6e1f0c24c"
   }
  }
 },
 "nbformat": 4,
 "nbformat_minor": 5
}
