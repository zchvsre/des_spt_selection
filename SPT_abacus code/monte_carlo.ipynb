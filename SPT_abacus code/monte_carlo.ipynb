{
 "cells": [
  {
   "cell_type": "code",
   "execution_count": 2,
   "metadata": {},
   "outputs": [],
   "source": [
    "import pandas as pd\n",
    "import numpy as np\n",
    "import matplotlib.pyplot as plt\n",
    "import matplotlib\n",
    "import os\n",
    "%matplotlib inline"
   ]
  },
  {
   "cell_type": "code",
   "execution_count": 3,
   "metadata": {},
   "outputs": [
    {
     "name": "stderr",
     "output_type": "stream",
     "text": [
      "/global/homes/z/zchusre/.conda/envs/desdesi/lib/python3.8/site-packages/pyfits/__init__.py:21: PyFITSDeprecationWarning: PyFITS is deprecated, please use astropy.io.fits\n",
      "  warnings.warn('PyFITS is deprecated, please use astropy.io.fits',\n"
     ]
    }
   ],
   "source": [
    "import fitsio as fio\n",
    "import redmapper\n",
    "import pandas as pd\n",
    "import numpy as np\n",
    "import plotly.express as px\n",
    "import seaborn as sns\n",
    "import matplotlib.pyplot as plt\n",
    "import matplotlib\n",
    "import h5py \n",
    "import os.path\n",
    "\n",
    "# sns.set_theme()\n",
    "# sns.set_style(\"ticks\")\n",
    "# sns.set(rc = {'figure.figsize':(12,8)})"
   ]
  },
  {
   "cell_type": "code",
   "execution_count": 4,
   "metadata": {},
   "outputs": [],
   "source": [
    "project_path = \"/global/cfs/cdirs/des/zhou/spt_lensing/\""
   ]
  },
  {
   "cell_type": "code",
   "execution_count": 5,
   "metadata": {},
   "outputs": [],
   "source": [
    "lambda_spt_combined_path=\"data/lambda_spt_combined.pkl\""
   ]
  },
  {
   "cell_type": "code",
   "execution_count": 6,
   "metadata": {},
   "outputs": [],
   "source": [
    "df = pd.read_pickle(os.path.join(project_path,lambda_spt_combined_path))"
   ]
  },
  {
   "cell_type": "markdown",
   "metadata": {},
   "source": [
    "$\\langle\\Sigma \\mid \\lambda \\operatorname{bin}, \\zeta \\operatorname{bin}\\rangle=\\int_{\\lambda_{\\min }}^{\\lambda_{\\max }} d \\lambda \\int_{\\zeta_{\\min }}^{\\zeta \\max } d \\zeta \\Sigma P(\\Sigma \\mid \\lambda, \\zeta)$"
   ]
  },
  {
   "cell_type": "code",
   "execution_count": 7,
   "metadata": {},
   "outputs": [
    {
     "name": "stdout",
     "output_type": "stream",
     "text": [
      "9341936\n"
     ]
    }
   ],
   "source": [
    "# halo_df = df[(~np.isnan(df['lambda_30']))&(~np.isnan(df['M500c']))]\n",
    "halo_df = df[(~np.isnan(df['M500c']))]\n",
    "# halo_df = halo_df[halo_df['zeta_gt_2']==1]\n",
    "print(len(halo_df))"
   ]
  },
  {
   "cell_type": "code",
   "execution_count": 8,
   "metadata": {},
   "outputs": [
    {
     "name": "stdout",
     "output_type": "stream",
     "text": [
      "699186\n",
      "699186\n"
     ]
    }
   ],
   "source": [
    "mass_mask = halo_df['M500c'] > 1E13\n",
    "print(np.sum(mass_mask))\n",
    "halo_df = halo_df[mass_mask]\n",
    "print(len(halo_df))"
   ]
  },
  {
   "cell_type": "markdown",
   "metadata": {},
   "source": [
    "To predict it analytically seems difficult.  We could try Monte Carlo first: \n",
    "\n",
    "For a given M500c, draw lnλ and lnζ, $\\ln M_{WL}$ (using scaling relation and 3x3 covariance matrix)\n",
    "\n",
    "<lnλ|M> = A + B lnM, scatter\n",
    "\n",
    "<lnζ|M> = A + B lnM, scatter\n",
    "\n",
    "<lnMWL|M> = lnM, scatter\n",
    "\n",
    "Draw with correlated scatter with lnλ (let's assume scatter=0.1, correlation coefficient r)\n",
    "\n",
    "Bin λ and ζ and calculate the <MWL|det>, <MWL|no det>, <MWL|all>\n",
    "\n",
    "Repeat, see how these <MWL> changes with r"
   ]
  },
  {
   "cell_type": "code",
   "execution_count": 9,
   "metadata": {},
   "outputs": [
    {
     "name": "stdout",
     "output_type": "stream",
     "text": [
      "Cosmology \"Abacus\" \n",
      "    flat = True, Om0 = 0.3142, Ode0 = 0.6858, Ob0 = 0.0491, H0 = 67.26, sigma8 = 0.8100, ns = 9.9652\n",
      "    de_model = lambda, relspecies = True, Tcmb0 = 2.7255, Neff = 3.0400, powerlaw = False\n"
     ]
    }
   ],
   "source": [
    "from colossus.cosmology import cosmology\n",
    "h = 0.6726\n",
    "params = {'flat' : True, 'H0' : 67.26,  'Om0' : 0.14212/h**2, 'Ob0' : 0.02222/h**2, 'sigma8' : 0.81, 'ns' : 9.9652, 'w0' : -1.0, 'Neff' : 3.04}\n",
    "cosmo = cosmology.setCosmology('Abacus',params)\n",
    "print(cosmo)\n",
    "h_70 = cosmo.H0/70"
   ]
  },
  {
   "cell_type": "markdown",
   "metadata": {},
   "source": [
    "$\\langle\\ln (\\lambda) \\mid M\\rangle=\\ln \\lambda_{0}+\\mathrm{A}_{\\lambda} \\ln \\left(\\mathrm{M} / \\mathrm{M}_{\\mathrm{piv}}\\right)+\\mathrm{B}_{\\lambda} \\ln ((1+\\mathrm{z}) / 1.45)$"
   ]
  },
  {
   "cell_type": "code",
   "execution_count": 17,
   "metadata": {},
   "outputs": [],
   "source": [
    "A_lambda = 0.939\n",
    "B_lambda = 0.32\n",
    "ln_lambda_0 = 4.25\n",
    "sigma_ln_lambda_intrinsic = 0.3\n",
    "M_piv = 5E14\n",
    "\n",
    "A_SZ = 5.24\n",
    "B_SZ = 1.534\n",
    "C_SZ = 0.465\n",
    "sigma_ln_sz= 0.161\n",
    "gamma_f = 1.2\n",
    "SPT_xi_cut = 4.5\n",
    "\n",
    "sigma_ln_M_wl = 0.1\n",
    "\n",
    "\n",
    "#lambda relations \n",
    "def get_mean_ln_lambda(M,z,A_lambda_,B_lambda_,ln_lambda_0_):\n",
    "    return(ln_lambda_0_+A_lambda_*np.log(M*h/M_piv)+B_lambda_*np.log((1+z)/1.45))\n",
    "\n",
    "def get_sigma_ln_lambda(sigma_ln_lambda_intrinsic_,mean_ln_lambda_):\n",
    "    # return(np.sqrt(sig_intrinsic**2 + (np.exp(mean_lambda_)-1)/np.exp(2*mean_lambda_)))\n",
    "    return(np.sqrt(sigma_ln_lambda_intrinsic_**2))\n",
    "\n",
    "#M_wl relations\n",
    "def get_mean_ln_M_wl(M500c):\n",
    "    return(np.log(M500c))\n",
    "\n",
    "#zeta relations \n",
    "def get_mean_ln_zeta(M500c, z, A_SZ_,B_SZ_,C_SZ_):\n",
    "    ln_zeta = np.log(A_SZ_) + B_SZ_*np.log((M500c*h_70)/(4.3E14)) + C_SZ_*np.log(cosmo.Ez(z)/cosmo.Ez(0.6))\n",
    "    return ln_zeta\n",
    "\n",
    "# What should the lognormal parameters be if we use a simple lognormal distribution of zeta?"
   ]
  },
  {
   "cell_type": "code",
   "execution_count": 18,
   "metadata": {},
   "outputs": [
    {
     "data": {
      "text/plain": [
       "<AxesSubplot:>"
      ]
     },
     "execution_count": 18,
     "metadata": {},
     "output_type": "execute_result"
    },
    {
     "data": {
      "image/png": "[encoded data removed]",
      "text/plain": [
       "<Figure size 432x288 with 1 Axes>"
      ]
     },
     "metadata": {
      "needs_background": "light"
     },
     "output_type": "display_data"
    }
   ],
   "source": [
    "halo_df['xi'].hist(bins=30)"
   ]
  },
  {
   "cell_type": "code",
   "execution_count": 19,
   "metadata": {},
   "outputs": [
    {
     "data": {
      "text/plain": [
       "<AxesSubplot:>"
      ]
     },
     "execution_count": 19,
     "metadata": {},
     "output_type": "execute_result"
    },
    {
     "data": {
      "image/png": "[encoded data removed]",
      "text/plain": [
       "<Figure size 432x288 with 1 Axes>"
      ]
     },
     "metadata": {
      "needs_background": "light"
     },
     "output_type": "display_data"
    }
   ],
   "source": [
    "mass_mask = (halo_df['M500c'] >= 1E14) & (halo_df['M500c'] >= 1.2E14)\n",
    "halo_df[mass_mask]['M500c'].hist()"
   ]
  },
  {
   "cell_type": "code",
   "execution_count": 20,
   "metadata": {},
   "outputs": [],
   "source": [
    "from scipy.stats import multivariate_normal\n",
    "M500c_array = halo_df['M500c'].to_numpy()\n",
    "z_array = halo_df['z'].to_numpy()"
   ]
  },
  {
   "cell_type": "code",
   "execution_count": 32,
   "metadata": {},
   "outputs": [],
   "source": [
    "def get_cov_matrix(M500c,z,r_):\n",
    "    mean_ln_lambda = get_mean_ln_lambda(M500c, z, A_lambda, B_lambda, ln_lambda_0)\n",
    "    sigma_ln_lambda = get_sigma_ln_lambda(sigma_ln_lambda_intrinsic, mean_ln_lambda)\n",
    "    cov_matrix = np.array([\n",
    "                          [sigma_ln_lambda**2,          r_*sigma_ln_M_wl*sigma_ln_lambda,     0],\n",
    "                          [r_*sigma_ln_M_wl*sigma_ln_lambda, sigma_ln_M_wl**2,                0],\n",
    "                          [0,                      0,                  sigma_ln_sz**2]\n",
    "                          ])\n",
    "    return(cov_matrix)"
   ]
  },
  {
   "cell_type": "code",
   "execution_count": 33,
   "metadata": {},
   "outputs": [],
   "source": [
    "test = get_cov_matrix(1E14, 0.3, 1)"
   ]
  },
  {
   "cell_type": "code",
   "execution_count": 34,
   "metadata": {},
   "outputs": [
    {
     "name": "stdout",
     "output_type": "stream",
     "text": [
      "0.161\n",
      "0.1\n"
     ]
    }
   ],
   "source": [
    "print(sigma_ln_sz)\n",
    "print(sigma_ln_M_wl)"
   ]
  },
  {
   "cell_type": "code",
   "execution_count": 35,
   "metadata": {},
   "outputs": [
    {
     "data": {
      "text/plain": [
       "(array([1.25766e+05, 1.15989e+05, 1.15280e+05, 1.21535e+05, 9.29390e+04,\n",
       "        5.16890e+04, 2.41110e+04, 1.62810e+04, 1.11480e+04, 7.85200e+03,\n",
       "        5.42800e+03, 5.07700e+03, 3.51500e+03, 1.59500e+03, 5.78000e+02,\n",
       "        2.43000e+02, 9.50000e+01, 4.40000e+01, 1.20000e+01, 9.00000e+00]),\n",
       " array([13.001052 , 13.106164 , 13.211275 , 13.316387 , 13.421499 ,\n",
       "        13.526611 , 13.631723 , 13.736835 , 13.841947 , 13.947059 ,\n",
       "        14.05217  , 14.157282 , 14.262394 , 14.367506 , 14.472618 ,\n",
       "        14.577729 , 14.682841 , 14.787953 , 14.8930645, 14.998177 ,\n",
       "        15.103289 ], dtype=float32),\n",
       " <BarContainer object of 20 artists>)"
      ]
     },
     "execution_count": 35,
     "metadata": {},
     "output_type": "execute_result"
    },
    {
     "data": {
      "image/png": "[encoded data removed]",
      "text/plain": [
       "<Figure size 432x288 with 1 Axes>"
      ]
     },
     "metadata": {
      "needs_background": "light"
     },
     "output_type": "display_data"
    }
   ],
   "source": [
    "plt.hist(np.log10(halo_df['M500c']),bins=20)"
   ]
  },
  {
   "cell_type": "code",
   "execution_count": 39,
   "metadata": {},
   "outputs": [],
   "source": [
    "def get_mean(M500c,z):\n",
    "    mean_ln_lambda = get_mean_ln_lambda(M500c, z, A_lambda, B_lambda, ln_lambda_0)\n",
    "    mean_ln_M_wl = get_mean_ln_M_wl(M500c)\n",
    "    mean_ln_zeta = get_mean_ln_zeta(M500c, z, A_SZ, B_SZ, C_SZ)\n",
    "    return(mean_ln_lambda, mean_ln_M_wl, mean_ln_zeta)"
   ]
  },
  {
   "cell_type": "code",
   "execution_count": 40,
   "metadata": {},
   "outputs": [
    {
     "data": {
      "text/plain": [
       "Text(0.5, 1.0, 'Richness d=30')"
      ]
     },
     "execution_count": 40,
     "metadata": {},
     "output_type": "execute_result"
    },
    {
     "data": {
      "image/png": "[encoded data removed]",
      "text/plain": [
       "<Figure size 432x288 with 1 Axes>"
      ]
     },
     "metadata": {
      "needs_background": "light"
     },
     "output_type": "display_data"
    }
   ],
   "source": [
    "halo_df['lambda_30'].hist(bins=30)\n",
    "plt.title(\"Richness d=30\")"
   ]
  },
  {
   "cell_type": "code",
   "execution_count": 41,
   "metadata": {},
   "outputs": [
    {
     "data": {
      "text/plain": [
       "Text(0.5, 1.0, 'Histogram of richness')"
      ]
     },
     "execution_count": 41,
     "metadata": {},
     "output_type": "execute_result"
    },
    {
     "data": {
      "image/png": "[encoded data removed]",
      "text/plain": [
       "<Figure size 432x288 with 1 Axes>"
      ]
     },
     "metadata": {
      "needs_background": "light"
     },
     "output_type": "display_data"
    }
   ],
   "source": [
    "test = get_mean(M500c_array,0.3) #MC mean\n",
    "plt.hist(np.exp(test[0]),bins=30)\n",
    "plt.title(\"Histogram of richness\")"
   ]
  },
  {
   "cell_type": "code",
   "execution_count": 42,
   "metadata": {},
   "outputs": [
    {
     "data": {
      "text/plain": [
       "(array([8.5730e+04, 8.0229e+04, 7.5796e+04, 7.5774e+04, 8.0407e+04,\n",
       "        8.0634e+04, 6.6284e+04, 4.8580e+04, 2.9764e+04, 1.7304e+04,\n",
       "        1.2807e+04, 1.0281e+04, 7.8070e+03, 6.2800e+03, 4.9130e+03,\n",
       "        3.6920e+03, 3.4790e+03, 3.3340e+03, 2.6080e+03, 1.6040e+03,\n",
       "        8.9800e+02, 4.3600e+02, 2.5700e+02, 1.2800e+02, 7.3000e+01,\n",
       "        3.3000e+01, 3.3000e+01, 9.0000e+00, 5.0000e+00, 7.0000e+00]),\n",
       " array([13.001052 , 13.071127 , 13.141201 , 13.211275 , 13.28135  ,\n",
       "        13.351425 , 13.421499 , 13.491573 , 13.561648 , 13.631723 ,\n",
       "        13.7017975, 13.771872 , 13.841947 , 13.912022 , 13.982096 ,\n",
       "        14.05217  , 14.122245 , 14.19232  , 14.262394 , 14.332468 ,\n",
       "        14.402543 , 14.472618 , 14.542692 , 14.612766 , 14.682841 ,\n",
       "        14.752916 , 14.82299  , 14.8930645, 14.96314  , 15.033215 ,\n",
       "        15.103289 ], dtype=float32),\n",
       " <BarContainer object of 30 artists>)"
      ]
     },
     "execution_count": 42,
     "metadata": {},
     "output_type": "execute_result"
    },
    {
     "data": {
      "image/png": "[encoded data removed]",
      "text/plain": [
       "<Figure size 432x288 with 1 Axes>"
      ]
     },
     "metadata": {
      "needs_background": "light"
     },
     "output_type": "display_data"
    }
   ],
   "source": [
    "#Mass histogram from the halo catalog\n",
    "plt.hist(np.log10(M500c_array),bins=30)"
   ]
  },
  {
   "cell_type": "code",
   "execution_count": 43,
   "metadata": {},
   "outputs": [],
   "source": [
    "def get_MC_for_r(halo_df, r):\n",
    "    richness_array = np.empty(len(halo_df))\n",
    "    M_wl_array = np.empty(len(halo_df))\n",
    "    zeta_array = np.empty(len(halo_df))\n",
    "    \n",
    "    for i in range(len(halo_df)):   \n",
    "        \n",
    "        covariance = get_cov_matrix(M500c_array[i], z_array[i],r)\n",
    "        # print(covariance)\n",
    "        \n",
    "        ln_richness, ln_M_wl, ln_zeta = multivariate_normal.rvs(mean=get_mean(M500c_array[i],z_array[i]),\n",
    "                                    cov=covariance)\n",
    "        \n",
    "        richness_array[i] = np.exp(ln_richness)\n",
    "        M_wl_array[i] = np.exp(ln_M_wl)\n",
    "        zeta_array[i] = np.exp(ln_zeta)\n",
    "\n",
    "    halo_df[f'MC_richness_{r}'] = richness_array\n",
    "    halo_df[f'MC_M_wl_{r}'] = M_wl_array\n",
    "    halo_df[f'MC_zeta_{r}'] = zeta_array"
   ]
  },
  {
   "cell_type": "code",
   "execution_count": 67,
   "metadata": {},
   "outputs": [],
   "source": [
    "# richness_bins = [0,20,30,45,60,np.inf]\n",
    "lnlam_bins = np.linspace(np.log(20), np.log(100), 10)\n",
    "richness_bins=np.exp(lnlam_bins)"
   ]
  },
  {
   "cell_type": "code",
   "execution_count": 68,
   "metadata": {},
   "outputs": [],
   "source": [
    "r_bins = np.linspace(0,1,5)\n",
    "# r_bins = [1]\n",
    "# r_bins = np.array([0,1])\n",
    "# print(r_bins)\n",
    "for r in r_bins:\n",
    "    get_MC_for_r(halo_df, r)\n",
    "    halo_df[f'MC_richness_bin_{r}'], richness_cats  = pd.cut(halo_df[f'MC_richness_{r}'],richness_bins,\n",
    "                                                   retbins=True)"
   ]
  },
  {
   "cell_type": "code",
   "execution_count": 69,
   "metadata": {
    "tags": []
   },
   "outputs": [
    {
     "data": {
      "text/plain": [
       "Index(['R_lambda_60', 'lambda_60', 'R_lambda_30_noperc', 'lambda_30_noperc',\n",
       "       'R_lambda_30', 'lambda_30', 'R_lambda_15', 'lambda_15', 'R_lambda_1',\n",
       "       'lambda_1', 'parent_id', 'M500c', 'M200b', 'z', 'pos_x', 'pos_y',\n",
       "       'pos_z', 'mean_ln_zeta', 'mean_ln_lambda', 'zeta', 'xi', 'xi_gt_45',\n",
       "       'xi_gt_5', 'zeta_gt_2', 'select', 'MC_richness_0.0', 'MC_M_wl_0.0',\n",
       "       'MC_zeta_0.0', 'MC_richness_bin_0.0', 'MC_richness_0.25',\n",
       "       'MC_M_wl_0.25', 'MC_zeta_0.25', 'MC_richness_bin_0.25',\n",
       "       'MC_richness_0.5', 'MC_M_wl_0.5', 'MC_zeta_0.5', 'MC_richness_bin_0.5',\n",
       "       'MC_richness_0.75', 'MC_M_wl_0.75', 'MC_zeta_0.75',\n",
       "       'MC_richness_bin_0.75', 'MC_richness_1.0', 'MC_M_wl_1.0', 'MC_zeta_1.0',\n",
       "       'MC_richness_bin_1.0', 'MC_M_bin'],\n",
       "      dtype='object')"
      ]
     },
     "execution_count": 69,
     "metadata": {},
     "output_type": "execute_result"
    }
   ],
   "source": [
    "halo_df.columns"
   ]
  },
  {
   "cell_type": "code",
   "execution_count": 47,
   "metadata": {},
   "outputs": [],
   "source": [
    "sns.set_style('ticks')"
   ]
  },
  {
   "cell_type": "code",
   "execution_count": 70,
   "metadata": {},
   "outputs": [
    {
     "data": {
      "text/plain": [
       "699186"
      ]
     },
     "execution_count": 70,
     "metadata": {},
     "output_type": "execute_result"
    }
   ],
   "source": [
    "len(halo_df)"
   ]
  },
  {
   "cell_type": "code",
   "execution_count": 73,
   "metadata": {},
   "outputs": [
    {
     "data": {
      "text/plain": [
       "10"
      ]
     },
     "execution_count": 73,
     "metadata": {},
     "output_type": "execute_result"
    }
   ],
   "source": [
    "len(richness_bins)"
   ]
  },
  {
   "cell_type": "code",
   "execution_count": 85,
   "metadata": {},
   "outputs": [
    {
     "name": "stdout",
     "output_type": "stream",
     "text": [
      "[0.75323586 0.64977005 0.65079885 0.56608246 0.47007954 0.47793831\n",
      " 0.49650517 0.62619878 0.48621569]\n",
      "----------------------------------------------------------------\n",
      "[0.74771714 0.58630983 0.5182994  0.51865626 0.42487577 0.49183216\n",
      " 0.45707062 0.86383699 0.68089305]\n",
      "----------------------------------------------------------------\n",
      "[0.54194593 0.55831199 0.52680005 0.42041184 0.44792755 0.42983159\n",
      " 0.42143456 0.38696101        nan]\n",
      "----------------------------------------------------------------\n",
      "[0.61863213 0.5161799  0.47500998 0.41703032 0.38061775 0.36557735\n",
      " 0.45765267 0.47531896        nan]\n",
      "----------------------------------------------------------------\n"
     ]
    },
    {
     "name": "stderr",
     "output_type": "stream",
     "text": [
      "No artists with labels found to put in legend.  Note that artists whose label start with an underscore are ignored when legend() is called with no argument.\n"
     ]
    },
    {
     "name": "stdout",
     "output_type": "stream",
     "text": [
      "[0.49317884 0.47719934 0.42551405 0.3738808  0.35397274 0.37018545\n",
      " 0.4240058  0.35100818 0.42640513]\n",
      "----------------------------------------------------------------\n"
     ]
    },
    {
     "data": {
      "text/plain": [
       "<matplotlib.legend.Legend at 0x15549afd89d0>"
      ]
     },
     "execution_count": 85,
     "metadata": {},
     "output_type": "execute_result"
    },
    {
     "data": {
      "image/png": "[encoded data removed]",
      "text/plain": [
       "<Figure size 2160x360 with 5 Axes>"
      ]
     },
     "metadata": {},
     "output_type": "display_data"
    },
    {
     "data": {
      "image/png": "[encoded data removed]",
      "text/plain": [
       "<Figure size 576x576 with 1 Axes>"
      ]
     },
     "metadata": {},
     "output_type": "display_data"
    }
   ],
   "source": [
    "fig, axes = plt.subplots(ncols=5,figsize=[30,5],sharey=True)\n",
    "\n",
    "fig_ratio, ax_ratio = plt.subplots(figsize=[8,8])\n",
    "\n",
    "n_richness_bins = len(richness_bins)-1\n",
    "\n",
    "\n",
    "def plot_M_wl(ax, M_wl_det, M_wl_no_det, M_wl_all, r):\n",
    "    ax.plot(range(5),M_wl_det,label=\"det\")\n",
    "    ax.plot(range(5),M_wl_no_det,label=\"no_det\")\n",
    "    ax.plot(range(5),M_wl_all,label=\"all\")\n",
    "    locs, labels = plt.xticks()\n",
    "    xticks = (np.arange(0,5,5), [\"1\"])\n",
    "    ax.set_xticks(range(5))\n",
    "    ax.set_xticklabels([f\"[{richness_bins[i]:3},\\n{richness_bins[i+1]:3}]\" for i in range(n_richness_bins)])\n",
    "    ax.text(0.5, 0.95, rf'r={r}', horizontalalignment='center', verticalalignment='center', transform=ax.transAxes)\n",
    "    ax.tick_params(axis='x', labelsize=9)\n",
    "    \n",
    "def plot_M_wl_ratio(ax, M_wl_det, M_wl_no_det, r):\n",
    "    print(np.log(M_wl_det.to_numpy())-np.log(M_wl_no_det.to_numpy()))\n",
    "    locs, labels = plt.xticks()\n",
    "    ax.set_xticks(range(n_richness_bins))\n",
    "    ax.plot(range(n_richness_bins), np.log(M_wl_det.to_numpy())-np.log(M_wl_no_det.to_numpy()), 'o-', label=f\"r={r}\")\n",
    "    ax.set_xticklabels([f\"[{round(richness_bins[i])},\\n{round(richness_bins[i+1])}]\" for i in range(n_richness_bins)])\n",
    "    ax.set_xlabel(r\"$\\lambda$ Bin\")\n",
    "    ax.set_ylabel(r\"$\\ln M_{wl}(det) - \\ln M_{wl}(no-det)$\")\n",
    "    ax.tick_params(axis='x', labelsize=9)\n",
    "\n",
    "verbose = False \n",
    "\n",
    "for i,r in enumerate(r_bins):\n",
    "    # SPT selection line here \n",
    "    SPT_mask = halo_df[f'MC_zeta_{r}'] >= 4\n",
    "    # SPT_mask = halo_df['select'] == 1\n",
    "    \n",
    "    M_wl_det = halo_df[SPT_mask].groupby(halo_df[SPT_mask][f'MC_richness_bin_{r}']).mean()[f'MC_M_wl_{r}']\n",
    "    M_wl_no_det = halo_df[~SPT_mask].groupby(halo_df[~SPT_mask][f'MC_richness_bin_{r}']).mean()[f'MC_M_wl_{r}']\n",
    "    M_wl_all = halo_df.groupby(halo_df[f'MC_richness_bin_{r}']).mean()[f'MC_M_wl_{r}']\n",
    "    \n",
    "    # plot_M_wl(axes[i],M_wl_det, M_wl_no_det, M_wl_all, r)\n",
    "    \n",
    "    plot_M_wl_ratio(ax_ratio, M_wl_det, M_wl_no_det, r)\n",
    "    \n",
    "    #print halos counts \n",
    "    \n",
    "    if verbose is True:\n",
    "    \n",
    "        print(\"Correlation coefficient is:\", r)\n",
    "        print(\"Number of det, no_det, all:\", len(halo_df[SPT_mask]), len(halo_df[~SPT_mask]), len(halo_df))\n",
    "\n",
    "        print(\"Count for SPT Detect\")\n",
    "        print(halo_df[SPT_mask].groupby(halo_df[SPT_mask][f'MC_richness_bin_{r}']).count()['zeta'])\n",
    "        print(\"\\n\")\n",
    "        print(\"Count for non-SPT Detect\")\n",
    "        print(halo_df[~SPT_mask].groupby(halo_df[~SPT_mask][f'MC_richness_bin_{r}']).count()['zeta'])\n",
    "        print(\"\\n\")\n",
    "        print(\"Count for All\")\n",
    "        print(halo_df.groupby(halo_df[f'MC_richness_bin_{r}']).count()['zeta'])\n",
    "        print(\"----------------------------------------------------------------\")\n",
    "    \n",
    "    #print correlations within each richness bin given r\n",
    "        for richness in np.unique(pd.cut(halo_df[f'MC_richness_{r}'],richness_bins)):\n",
    "            print(f\"Curretn r {r}\")\n",
    "            print(f\"Current richess bin: {richness}\")\n",
    "            richness_mask = halo_df[f'MC_richness_bin_{r}'] == richness\n",
    "            print(halo_df[richness_mask][[f'MC_richness_{r}', f'MC_M_wl_{r}', 'zeta', 'M500c']].corr())\n",
    "    \n",
    "    print(\"----------------------------------------------------------------\")\n",
    "    \n",
    "plt.subplots_adjust(wspace=0)\n",
    "# plt.yscale('log')\n",
    "axes[0].set_ylabel(u\"WL Mass [$M_\\u2609$]\")\n",
    "axes[0].legend()\n",
    "\n",
    "ax_ratio.legend()"
   ]
  },
  {
   "cell_type": "code",
   "execution_count": 52,
   "metadata": {},
   "outputs": [],
   "source": [
    "# 0.1 dex mass bins \n",
    "# 1 bin for 1E15 \n",
    "# change richness bins"
   ]
  },
  {
   "cell_type": "code",
   "execution_count": 53,
   "metadata": {},
   "outputs": [
    {
     "data": {
      "text/plain": [
       "<matplotlib.collections.PathCollection at 0x15549916c850>"
      ]
     },
     "execution_count": 53,
     "metadata": {},
     "output_type": "execute_result"
    },
    {
     "data": {
      "image/png": "[encoded data removed]",
      "text/plain": [
       "<Figure size 432x288 with 1 Axes>"
      ]
     },
     "metadata": {},
     "output_type": "display_data"
    }
   ],
   "source": [
    "plt.scatter(np.log(halo_df[f'MC_richness_0.0']),np.log(halo_df[f'MC_M_wl_0.0']))"
   ]
  },
  {
   "cell_type": "code",
   "execution_count": 54,
   "metadata": {},
   "outputs": [
    {
     "data": {
      "text/plain": [
       "<matplotlib.collections.PathCollection at 0x15549daf4940>"
      ]
     },
     "execution_count": 54,
     "metadata": {},
     "output_type": "execute_result"
    },
    {
     "data": {
      "image/png": "[encoded data removed]",
      "text/plain": [
       "<Figure size 432x288 with 1 Axes>"
      ]
     },
     "metadata": {},
     "output_type": "display_data"
    }
   ],
   "source": [
    "plt.scatter(np.log(halo_df[f'MC_richness_1.0']),np.log(halo_df[f'MC_M_wl_1.0']))"
   ]
  },
  {
   "cell_type": "code",
   "execution_count": 55,
   "metadata": {},
   "outputs": [
    {
     "name": "stdout",
     "output_type": "stream",
     "text": [
      "                 MC_richness_0.0  MC_M_wl_0.0      zeta     M500c\n",
      "MC_richness_0.0         1.000000     0.906553  0.830557  0.915761\n",
      "MC_M_wl_0.0             0.906553     1.000000  0.911454  0.990914\n",
      "zeta                    0.830557     0.911454  1.000000  0.918773\n",
      "M500c                   0.915761     0.990914  0.918773  1.000000\n",
      "\n",
      "\n",
      "                  MC_richness_0.25  MC_M_wl_0.25      zeta     M500c\n",
      "MC_richness_0.25          1.000000      0.920570  0.830095  0.915381\n",
      "MC_M_wl_0.25              0.920570      1.000000  0.908146  0.990834\n",
      "zeta                      0.830095      0.908146  1.000000  0.918773\n",
      "M500c                     0.915381      0.990834  0.918773  1.000000\n",
      "\n",
      "\n",
      "                 MC_richness_0.5  MC_M_wl_0.5      zeta     M500c\n",
      "MC_richness_0.5         1.000000     0.932884  0.827240  0.914844\n",
      "MC_M_wl_0.5             0.932884     1.000000  0.910348  0.991012\n",
      "zeta                    0.827240     0.910348  1.000000  0.918773\n",
      "M500c                   0.914844     0.991012  0.918773  1.000000\n",
      "\n",
      "\n",
      "                  MC_richness_0.75  MC_M_wl_0.75      zeta     M500c\n",
      "MC_richness_0.75          1.000000      0.947342  0.830193  0.916523\n",
      "MC_M_wl_0.75              0.947342      1.000000  0.911881  0.991147\n",
      "zeta                      0.830193      0.911881  1.000000  0.918773\n",
      "M500c                     0.916523      0.991147  0.918773  1.000000\n",
      "\n",
      "\n",
      "                 MC_richness_1.0  MC_M_wl_1.0      zeta     M500c\n",
      "MC_richness_1.0         1.000000     0.960716  0.830149  0.916473\n",
      "MC_M_wl_1.0             0.960716     1.000000  0.910947  0.991092\n",
      "zeta                    0.830149     0.910947  1.000000  0.918773\n",
      "M500c                   0.916473     0.991092  0.918773  1.000000\n",
      "\n",
      "\n"
     ]
    }
   ],
   "source": [
    "for r in r_bins:\n",
    "    \n",
    "    print(halo_df[[f'MC_richness_{r}', f'MC_M_wl_{r}', 'zeta', 'M500c']].corr())\n",
    "    print(\"\\n\")"
   ]
  },
  {
   "cell_type": "code",
   "execution_count": 56,
   "metadata": {},
   "outputs": [],
   "source": [
    "M_bins = np.linspace(halo_df['M500c'].min(),halo_df['M500c'].max(),10)"
   ]
  },
  {
   "cell_type": "code",
   "execution_count": 57,
   "metadata": {},
   "outputs": [],
   "source": [
    "halo_df[f'MC_M_bin']  = pd.cut(halo_df[f'M500c'],M_bins)"
   ]
  },
  {
   "cell_type": "code",
   "execution_count": 58,
   "metadata": {},
   "outputs": [
    {
     "data": {
      "text/plain": [
       "<pandas.core.groupby.generic.DataFrameGroupBy object at 0x15549d4877f0>"
      ]
     },
     "execution_count": 58,
     "metadata": {},
     "output_type": "execute_result"
    }
   ],
   "source": [
    "halo_df.groupby('MC_M_bin')"
   ]
  }
 ],
 "metadata": {
  "kernelspec": {
   "display_name": "DESDESI",
   "language": "python",
   "name": "desdesi"
  },
  "language_info": {
   "codemirror_mode": {
    "name": "ipython",
    "version": 3
   },
   "file_extension": ".py",
   "mimetype": "text/x-python",
   "name": "python",
   "nbconvert_exporter": "python",
   "pygments_lexer": "ipython3",
   "version": "3.8.13"
  }
 },
 "nbformat": 4,
 "nbformat_minor": 4
}
