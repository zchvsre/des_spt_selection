{
 "cells": [
  {
   "cell_type": "markdown",
   "metadata": {},
   "source": [
    "# Calculate $w_p$\n",
    "\n"
   ]
  },
  {
   "cell_type": "code",
   "execution_count": 102,
   "metadata": {},
   "outputs": [],
   "source": [
    "# if __name__ == \"__main__\":\n",
    "#     import argparse\n",
    "#     parser = argparse.ArgumentParser()\n",
    "#     parser.add_argument('input_file')\n",
    "#     parser.add_argument('header_file')\n",
    "#     parser.add_argument('output_file')\n",
    "#     parser.add_argument('pimax')\n",
    "#     parser.add_argument('rp_min')\n",
    "#     parser.add_argument('rp_max')\n",
    "#     parser.add_argument('nbins')\n",
    "#     args = parser.parse_args()"
   ]
  },
  {
   "cell_type": "code",
   "execution_count": 6,
   "metadata": {},
   "outputs": [],
   "source": [
    "shuffle = True"
   ]
  },
  {
   "cell_type": "code",
   "execution_count": 7,
   "metadata": {},
   "outputs": [],
   "source": [
    "import os.path\n",
    "import numpy as np\n",
    "import pandas as pd\n",
    "import seaborn as sns"
   ]
  },
  {
   "cell_type": "code",
   "execution_count": 8,
   "metadata": {},
   "outputs": [],
   "source": [
    "import matplotlib.pyplot as plt\n",
    "import seaborn as sns\n",
    "import matplotlib\n",
    "%matplotlib inline"
   ]
  },
  {
   "cell_type": "code",
   "execution_count": 9,
   "metadata": {},
   "outputs": [
    {
     "data": {
      "text/plain": [
       "'0.11.2'"
      ]
     },
     "execution_count": 9,
     "metadata": {},
     "output_type": "execute_result"
    }
   ],
   "source": [
    "import seaborn as sns\n",
    "sns.__version__"
   ]
  },
  {
   "cell_type": "code",
   "execution_count": 10,
   "metadata": {},
   "outputs": [],
   "source": [
    "sns.set_style(\"dark\")\n",
    "sns.set_style(\"ticks\")\n",
    "sns.set(rc = {'figure.figsize':(15,8)})"
   ]
  },
  {
   "cell_type": "code",
   "execution_count": 11,
   "metadata": {},
   "outputs": [],
   "source": [
    "project_path = \"/global/cfs/cdirs/des/zhou/spt_lensing/\"\n",
    "infile_path = os.path.join(project_path,\"data/results.npz\")"
   ]
  },
  {
   "cell_type": "code",
   "execution_count": 129,
   "metadata": {},
   "outputs": [],
   "source": [
    "infile = np.load(infile_path) "
   ]
  },
  {
   "cell_type": "markdown",
   "metadata": {},
   "source": [
    "# Calculate $w_p$ from $\\xi$\n",
    "\n",
    "$\\begin{equation}\n",
    "w_{p, A B}\\left(r_{p}\\right)=2 \\int_{0}^{\\Pi_{\\max }} \\xi_{A B}(r, \\pi) d \\pi\n",
    "\\end{equation}$"
   ]
  },
  {
   "cell_type": "code",
   "execution_count": 130,
   "metadata": {},
   "outputs": [],
   "source": [
    "#Script passed on from A. Salcedo\n",
    "import numpy as np\n",
    "import scipy.integrate as integrate\n",
    "\n",
    "def wp(rp,binmin,binmax,xi,pimax=None):\n",
    "    \"\"\"compute wp(r_p) from tabulated xi(r).\"\"\"\n",
    "    \n",
    "    lower_bound = rp \n",
    "    upper_bound = np.sqrt(rp**2 + pimax**2)\n",
    "    binmask = np.logical_and(binmax > lower_bound, binmin < upper_bound)\n",
    "    masked_xi = xi[binmask]\n",
    "    r_i = binmin[binmask]\n",
    "    r_iplus = binmax[binmask]\n",
    "    s_plus = np.minimum(upper_bound, r_iplus)\n",
    "    s_minus = np.maximum(lower_bound, r_i)\n",
    "    # here we assume that xi is piecewise constant over the tabulated input bins\n",
    "    elementwise_integral = 2.0*masked_xi * \\\n",
    "                           (np.sqrt(s_plus**2 - rp**2) - np.sqrt(s_minus**2 - rp**2))\n",
    "    w_p = np.sum(elementwise_integral)\n",
    "\n",
    "    return w_p"
   ]
  },
  {
   "cell_type": "markdown",
   "metadata": {},
   "source": [
    "# Calcualte $\\Delta \\Sigma $ from $ w_p$ \n",
    "\n",
    "$\\begin{equation}\n",
    "\\Delta \\Sigma\\left(r_{p}\\right)=\\Omega_{m} \\rho_{\\text {crit }}\\left[\\frac{2}{r_{p}^{2}} \\int_{0}^{r_{p}} r^{\\prime} w_{p, c m}\\left(r^{\\prime}\\right) d r^{\\prime}-w_{p, c m}\\left(r_{p}\\right)\\right]\n",
    "\\end{equation}$"
   ]
  },
  {
   "cell_type": "code",
   "execution_count": 131,
   "metadata": {},
   "outputs": [],
   "source": [
    "def DeltaSigma(binmin,binmax,xi,pimax=None,mean_rho=None,H0=None, rp_min=None, rp_max=None, nbins=None):\n",
    "    # mean rho (in comoving Msun pc^-2, no little h)\n",
    "    h = H0/100.\n",
    "\n",
    "    # compute rp bins\n",
    "    #nbins = 40\n",
    "    #rp_min = 0.1\n",
    "    #rp_max = 125.0\n",
    "    rp_bins = np.logspace(np.log10(rp_min), np.log10(rp_max), nbins+1)\n",
    "    rp_binmin = rp_bins[0:-1]\n",
    "    rp_binmax = rp_bins[1:]\n",
    "    rp_mid = (rp_binmin + rp_binmax)/2.0\n",
    "\n",
    "    ds = np.zeros(rp_mid.shape[0])\n",
    "    integrand = lambda r: r*wp(r,binmin,binmax,xi,pimax=pimax)\n",
    "    for i in range(rp_mid.shape[0]):\n",
    "        integral, abserr = integrate.quad(integrand, 0., rp_mid[i], epsabs=1.0e-2, epsrel=1.0e-2)\n",
    "        ds[i] = (integral * (2.0/rp_mid[i]**2) - wp(rp_mid[i],binmin,binmax,xi,pimax=pimax)) * mean_rho\n",
    "\n",
    "    # convert Mpc/h unit to pc (no h)\n",
    "    #ds *= 1.0e6 / h\n",
    "    ds *= 1.0e6 / h**2.0 #delta sigma comes out in Msun h / pc^2 units\n",
    "    return rp_binmin, rp_binmax, ds"
   ]
  },
  {
   "cell_type": "code",
   "execution_count": 132,
   "metadata": {},
   "outputs": [],
   "source": [
    "h = 0.6726"
   ]
  },
  {
   "cell_type": "code",
   "execution_count": 133,
   "metadata": {},
   "outputs": [],
   "source": [
    "def DeltaSigma_from_files(header_file,filename,output_file,pimax,rp_min,rp_max,nbins):\n",
    "    # read in cosmological parameters from header_file\n",
    "    # import config\n",
    "    # cf = config.AbacusConfigFile(header_file)\n",
    "    # omega_m = cf.Omega_M # at z=0\n",
    "    # H_0 = cf.H0\n",
    "    \n",
    "    H_0 = 67.26\n",
    "    omega_m = 0.31415\n",
    "    \n",
    "    # compute mean_rho (comoving density units = Msun pc^-3)\n",
    "    speed_of_light_km_s = 2.998e5 # km/s\n",
    "    csq_over_G = 2.494e12 # 3c^2/(8*pi*G) Msun pc^-1\n",
    "    \n",
    "    mean_rho = omega_m * csq_over_G * (H_0/speed_of_light_km_s)**2 / 1.0e12 # Msun pc^-3\n",
    "    \n",
    "    print(filename)\n",
    "    \n",
    "    binmin,binmax,xi = np.loadtxt(filename,unpack=True)\n",
    "    print(np.mean(xi))\n",
    "    # print(binmin,binmax,xi)\n",
    "    \n",
    "    DS_binmin, DS_binmax, DS = DeltaSigma(binmin,binmax,xi,pimax=float(pimax),mean_rho=mean_rho,H0=H_0,rp_min=float(rp_min),rp_max=float(rp_max),nbins=int(nbins))\n",
    "    np.savetxt(output_file, np.c_[DS_binmin, DS_binmax, np.zeros(DS.shape[0]), DS],\n",
    "               delimiter='\\t')\n",
    "    return(np.array([DS_binmin,DS_binmax,DS]))"
   ]
  },
  {
   "cell_type": "code",
   "execution_count": 134,
   "metadata": {},
   "outputs": [],
   "source": [
    "pimax = 100 #h^-1 Mpc\n",
    "rp_min = 0.05\n",
    "rp_max = 100\n",
    "nbins = 20"
   ]
  },
  {
   "cell_type": "code",
   "execution_count": 135,
   "metadata": {},
   "outputs": [
    {
     "name": "stdout",
     "output_type": "stream",
     "text": [
      "/global/cfs/cdirs/des/zhou/spt_lensing/data/shuffle_result_DD_20_all_d30.txt\n",
      "0 0\n",
      "/global/cfs/cdirs/des/zhou/spt_lensing/data/shuffle_result_DD_20_all_d30.txt\n",
      "1994.3333333333333\n",
      "23.53597402227346\n",
      "/global/cfs/cdirs/des/zhou/spt_lensing/data/shuffle_result_DD_20_SPT_d30.txt\n",
      "0 1\n",
      "/global/cfs/cdirs/des/zhou/spt_lensing/data/shuffle_result_DD_20_SPT_d30.txt\n",
      "2044.6\n",
      "24.542196268528617\n",
      "/global/cfs/cdirs/des/zhou/spt_lensing/data/shuffle_result_DD_20_nonSPT_d30.txt\n",
      "0 2\n",
      "/global/cfs/cdirs/des/zhou/spt_lensing/data/shuffle_result_DD_20_nonSPT_d30.txt\n",
      "1652.3\n",
      "17.219804867148937\n",
      "/global/cfs/cdirs/des/zhou/spt_lensing/data/shuffle_result_DD_30_all_d30.txt\n",
      "1 0\n",
      "/global/cfs/cdirs/des/zhou/spt_lensing/data/shuffle_result_DD_30_all_d30.txt\n",
      "1864.4666666666667\n",
      "22.518797119931595\n",
      "/global/cfs/cdirs/des/zhou/spt_lensing/data/shuffle_result_DD_30_SPT_d30.txt\n",
      "1 1\n",
      "/global/cfs/cdirs/des/zhou/spt_lensing/data/shuffle_result_DD_30_SPT_d30.txt\n",
      "1920.6333333333334\n",
      "23.895182399680635\n",
      "/global/cfs/cdirs/des/zhou/spt_lensing/data/shuffle_result_DD_30_nonSPT_d30.txt\n",
      "1 2\n",
      "/global/cfs/cdirs/des/zhou/spt_lensing/data/shuffle_result_DD_30_nonSPT_d30.txt\n",
      "1773.8666666666666\n",
      "19.06342389394101\n",
      "/global/cfs/cdirs/des/zhou/spt_lensing/data/shuffle_result_DD_45_all_d30.txt\n",
      "2 0\n",
      "/global/cfs/cdirs/des/zhou/spt_lensing/data/shuffle_result_DD_45_all_d30.txt\n",
      "2276.5666666666666\n",
      "26.183699818595574\n",
      "/global/cfs/cdirs/des/zhou/spt_lensing/data/shuffle_result_DD_45_SPT_d30.txt\n",
      "2 1\n",
      "/global/cfs/cdirs/des/zhou/spt_lensing/data/shuffle_result_DD_45_SPT_d30.txt\n",
      "2317.0\n",
      "26.201518188322503\n",
      "/global/cfs/cdirs/des/zhou/spt_lensing/data/shuffle_result_DD_45_nonSPT_d30.txt\n",
      "2 2\n",
      "/global/cfs/cdirs/des/zhou/spt_lensing/data/shuffle_result_DD_45_nonSPT_d30.txt\n",
      "1893.0\n",
      "20.549534123413398\n",
      "/global/cfs/cdirs/des/zhou/spt_lensing/data/shuffle_result_DD_60_all_d30.txt\n",
      "3 0\n",
      "/global/cfs/cdirs/des/zhou/spt_lensing/data/shuffle_result_DD_60_all_d30.txt\n",
      "1389.9333333333334\n",
      "20.16319197892752\n",
      "/global/cfs/cdirs/des/zhou/spt_lensing/data/shuffle_result_DD_60_SPT_d30.txt\n",
      "3 1\n",
      "/global/cfs/cdirs/des/zhou/spt_lensing/data/shuffle_result_DD_60_SPT_d30.txt\n",
      "1289.7333333333333\n",
      "20.21145606277726\n",
      "/global/cfs/cdirs/des/zhou/spt_lensing/data/shuffle_result_DD_60_nonSPT_d30.txt\n",
      "3 2\n",
      "/global/cfs/cdirs/des/zhou/spt_lensing/data/shuffle_result_DD_60_nonSPT_d30.txt\n",
      "1694.9666666666667\n",
      "20.086548204375426\n"
     ]
    }
   ],
   "source": [
    "modes = [\"all\",\"SPT\",\"nonSPT\"]\n",
    "richness_bins=[5,10,14,20,30,45,60,np.inf]\n",
    "headerfile=\"\"\n",
    "output_file = os.path.join(project_path,\"data/DSigma.txt\")\n",
    "\n",
    "Delta_Sigma_array = [[None for _ in range(3)] for _ in range(4)]\n",
    "\n",
    "for i in range(len(richness_bins))[-5:-1]:\n",
    "    lambda_lower, lambda_upper = richness_bins[i],richness_bins[i+1]\n",
    "    for j,mode in enumerate(modes):\n",
    "        \n",
    "        if shuffle == True:\n",
    "            file_rel_path = f\"data/shuffle_result_DD_{lambda_lower}_{mode}_d30.txt\"\n",
    "        else:\n",
    "            file_rel_path = f\"data/result_DD_{lambda_lower}_{mode}_d30.txt\"\n",
    "        \n",
    "        filename_ = os.path.join(project_path,file_rel_path)\n",
    "        print(filename_)\n",
    "        assert os.path.exists(filename_)\n",
    "        print(i-3,j)\n",
    "        DSigma = DeltaSigma_from_files(headerfile,filename_,output_file,pimax,rp_min,rp_max,nbins)\n",
    "        print(np.mean(DSigma[2]))\n",
    "        Delta_Sigma_array[i-3][j]= DSigma"
   ]
  },
  {
   "cell_type": "code",
   "execution_count": 136,
   "metadata": {},
   "outputs": [
    {
     "name": "stdout",
     "output_type": "stream",
     "text": [
      "23.53597402227346\n",
      "24.542196268528617\n",
      "17.219804867148937\n",
      "22.518797119931595\n",
      "23.895182399680635\n",
      "19.06342389394101\n",
      "26.183699818595574\n",
      "26.201518188322503\n",
      "20.549534123413398\n",
      "20.16319197892752\n",
      "20.21145606277726\n",
      "20.086548204375426\n"
     ]
    }
   ],
   "source": [
    "for i in range(4):\n",
    "    for j in range(3):\n",
    "        print(np.mean(Delta_Sigma_array[i][j][2]))"
   ]
  },
  {
   "cell_type": "code",
   "execution_count": 137,
   "metadata": {},
   "outputs": [
    {
     "name": "stdout",
     "output_type": "stream",
     "text": [
      "14.611700015348674\n",
      "15.226239690946029\n",
      "15.721609767436822\n",
      "15.567281127757502\n"
     ]
    }
   ],
   "source": [
    "for DSigma in np.array(Delta_Sigma_array):\n",
    "    print(np.mean(DSigma[2]))"
   ]
  },
  {
   "cell_type": "code",
   "execution_count": 138,
   "metadata": {},
   "outputs": [
    {
     "name": "stdout",
     "output_type": "stream",
     "text": [
      "True\n"
     ]
    }
   ],
   "source": [
    "print(shuffle)\n",
    "if shuffle == True:\n",
    "    DSigma_rel_path = \"data/DSigma_shuffle.npy\"\n",
    "else:\n",
    "    DSigma_rel_path = \"data/DSigma.npy\"\n",
    "np.save(os.path.join(project_path,DSigma_rel_path),Delta_Sigma_array)"
   ]
  },
  {
   "cell_type": "code",
   "execution_count": 139,
   "metadata": {},
   "outputs": [],
   "source": [
    "# sns.set_style('ticks')"
   ]
  },
  {
   "cell_type": "code",
   "execution_count": 140,
   "metadata": {},
   "outputs": [
    {
     "name": "stdout",
     "output_type": "stream",
     "text": [
      "richness: 20,30\n",
      "all\n",
      "[-3.25960718e+01  4.42094282e+01  7.63354367e+01  9.02111582e+01\n",
      "  7.34131184e+01  6.57450168e+01  4.85307123e+01  3.67135486e+01\n",
      "  2.34814282e+01  1.53601420e+01  1.06915243e+01  6.63692288e+00\n",
      "  4.62078043e+00  2.85189803e+00  2.42992308e+00  1.13534709e+00\n",
      "  5.30589212e-01  2.47787389e-01  1.16460977e-01  5.43293701e-02]\n",
      "richness: 20,30\n",
      "SPT\n",
      "[-3.44375212e+01  3.69541674e+01  7.88081901e+01  1.03026799e+02\n",
      "  7.63756595e+01  6.76793320e+01  5.06707438e+01  3.80838681e+01\n",
      "  2.47262490e+01  1.59877417e+01  1.15116450e+01  7.56744209e+00\n",
      "  4.83040381e+00  3.46686253e+00  3.00979800e+00  1.40691314e+00\n",
      "  6.57816872e-01  3.06662856e-01  1.43852082e-01  6.72992337e-02]\n",
      "richness: 20,30\n",
      "nonSPT\n",
      "[-2.11897247e+01  5.42210717e+01  6.58646695e+01  6.90365294e+01\n",
      "  5.39022660e+01  4.33200886e+01  2.83934656e+01  1.98108969e+01\n",
      "  1.17110534e+01  7.28641640e+00  4.50850737e+00  2.77072479e+00\n",
      "  2.12062107e+00  1.41155803e+00  6.61017673e-01  3.08422464e-01\n",
      "  1.44412551e-01  6.74488996e-02  3.15795395e-02  1.50721911e-02]\n",
      "richness: 30,45\n",
      "all\n",
      "[-2.80130367e+01  3.49572118e+01  6.86757097e+01  7.94689395e+01\n",
      "  6.83381628e+01  6.81024767e+01  4.97069882e+01  3.80994145e+01\n",
      "  2.45794633e+01  1.59818655e+01  1.11390457e+01  7.02094164e+00\n",
      "  4.79675825e+00  2.93628711e+00  2.46744981e+00  1.15382217e+00\n",
      "  5.39390082e-01  2.51761744e-01  1.18089302e-01  5.52011664e-02]\n",
      "richness: 30,45\n",
      "SPT\n",
      "[-2.78249307e+01  3.06100600e+01  6.71145754e+01  8.53781387e+01\n",
      "  7.10267071e+01  7.45663110e+01  5.40482851e+01  4.19760846e+01\n",
      "  2.76381509e+01  1.75854131e+01  1.25982236e+01  8.12043076e+00\n",
      "  5.46587448e+00  3.75816028e+00  3.14230256e+00  1.47032741e+00\n",
      "  6.87807957e-01  3.20943048e-01  1.50414692e-01  7.03682388e-02]\n",
      "richness: 30,45\n",
      "nonSPT\n",
      "[-2.49543174e+01  5.46921058e+01  7.06714892e+01  7.43217735e+01\n",
      "  5.93514692e+01  5.01376760e+01  3.37152816e+01  2.38466037e+01\n",
      "  1.44426243e+01  9.35573796e+00  5.84370285e+00  3.70968220e+00\n",
      "  2.47603291e+00  1.66609244e+00  1.07253935e+00  5.00810109e-01\n",
      "  2.34402107e-01  1.09490398e-01  5.13164791e-02  2.39652270e-02]\n",
      "richness: 45,60\n",
      "all\n",
      "[-3.13711910e+01  5.68154163e+01  8.61678778e+01  9.53578810e+01\n",
      "  7.95142982e+01  7.15488829e+01  5.01356897e+01  3.91457748e+01\n",
      "  2.58577015e+01  1.68395514e+01  1.18451660e+01  7.94883428e+00\n",
      "  5.24311430e+00  3.23411530e+00  2.90196324e+00  1.35550745e+00\n",
      "  6.33936113e-01  2.96364463e-01  1.38264460e-01  6.48482372e-02]\n",
      "richness: 45,60\n",
      "SPT\n",
      "[-2.37776907e+01  6.06589094e+01  8.40062689e+01  8.39535812e+01\n",
      "  7.98745159e+01  7.10135902e+01  5.02485882e+01  3.94983243e+01\n",
      "  2.63339289e+01  1.72696546e+01  1.23882367e+01  8.26509214e+00\n",
      "  5.84848119e+00  3.42949104e+00  2.70051395e+00  1.26353766e+00\n",
      "  5.90253565e-01  2.75379558e-01  1.29357660e-01  6.03493657e-02]\n",
      "richness: 45,60\n",
      "nonSPT\n",
      "[-2.25259634e+01  4.67272145e+01  7.33745666e+01  8.13711104e+01\n",
      "  6.50196294e+01  5.55882035e+01  3.72638205e+01  2.78564736e+01\n",
      "  1.65860913e+01  1.10930207e+01  7.03726572e+00  4.54347167e+00\n",
      "  2.96688513e+00  1.89497999e+00  1.18091588e+00  5.50891940e-01\n",
      "  2.58009878e-01  1.21335316e-01  5.63925650e-02  2.63673375e-02]\n",
      "richness: 60,inf\n",
      "all\n",
      "[-1.70488091e+01  1.26844326e+01  2.13529061e+01  7.19501782e+01\n",
      "  7.02773167e+01  7.06242176e+01  5.03109487e+01  4.36305362e+01\n",
      "  2.77357166e+01  1.76880937e+01  1.29861344e+01  7.46311295e+00\n",
      "  4.68387250e+00  3.39544076e+00  2.97658353e+00  1.39097831e+00\n",
      "  6.50556864e-01  3.03798492e-01  1.41301447e-01  6.65231645e-02]\n",
      "richness: 60,inf\n",
      "SPT\n",
      "[-1.12558166e+01  8.42519791e+00  4.26562697e+00  6.48325247e+01\n",
      "  7.57394364e+01  7.04252359e+01  5.57290939e+01  4.84413293e+01\n",
      "  3.07002169e+01  1.97079663e+01  1.48612212e+01  8.13929901e+00\n",
      "  5.00692894e+00  3.54675674e+00  3.04904875e+00  1.42417680e+00\n",
      "  6.66073406e-01  3.11043215e-01  1.45627264e-01  6.81342815e-02]\n",
      "richness: 60,inf\n",
      "nonSPT\n",
      "[-3.13263397e+01  2.73359229e+01  6.60279217e+01  8.81859131e+01\n",
      "  6.77287408e+01  5.90496008e+01  4.06481933e+01  3.07860998e+01\n",
      "  1.88285707e+01  1.23476026e+01  8.13669435e+00  5.14764109e+00\n",
      "  3.49800767e+00  2.56295438e+00  1.49295811e+00  6.97115771e-01\n",
      "  3.26126438e-01  1.52592063e-01  7.13024126e-02  3.33457900e-02]\n"
     ]
    },
    {
     "data": {
      "image/png": "[encoded data removed]",
      "text/plain": [
       "<Figure size 2880x720 with 4 Axes>"
      ]
     },
     "metadata": {
      "needs_background": "light"
     },
     "output_type": "display_data"
    }
   ],
   "source": [
    "fig,axes = plt.subplots(ncols=4, figsize = [40,10],sharey=True)\n",
    "\n",
    "modes = [\"all\",\"SPT\",\"nonSPT\"]\n",
    "richness_bins=[5,10,14,20,30,45,60,np.inf]\n",
    "\n",
    "plt.rcParams.update({'font.size':20})\n",
    "\n",
    "\n",
    "for i in range(len(richness_bins))[-5:-1]:\n",
    "    lambda_lower, lambda_upper = richness_bins[i],richness_bins[i+1]\n",
    "    for j,mode in enumerate(modes):\n",
    "        ax = axes[i-3]\n",
    "        ax.text(0.80, 0.95, rf'$\\Lambda \\in [{lambda_lower},{lambda_upper}]$, $z=0.3$', horizontalalignment='center', verticalalignment='center', transform=ax.transAxes)\n",
    "        # print(i-3,j)\n",
    "        DSigma = Delta_Sigma_array[i-3][j]\n",
    "        print(f\"richness: {lambda_lower},{lambda_upper}\")\n",
    "        print(mode)\n",
    "        print(DSigma[2])\n",
    "        # plot1 = sns.lineplot(x=0.5*(DSigma[0]+DSigma[1]),y=DSigma[2],label=mode,ax=axes[i-3],legend=False)\n",
    "        if mode == \"all\":\n",
    "            color_= \"r\"\n",
    "        elif mode == \"SPT\":\n",
    "            color_ = \"g\"\n",
    "        elif mode == \"nonSPT\":\n",
    "            color_ = \"b\"\n",
    "        ax.scatter(x=0.5*(DSigma[0]+DSigma[1]),y=DSigma[2],label=mode,marker=\"x\",\n",
    "                  c=color_, s=300)\n",
    "        ax.set_yscale('log')\n",
    "        ax.set_xscale('log')\n",
    "        ax.set_ylim(0.01,1E3)\n",
    "        # print(np.mean(DSigma[2]))\n",
    "        # plot1.set(xscale=\"log\",yscale=\"log\",ylim=(0.01,1000))\n",
    "        # plot2.set(xscale=\"log\",yscale=\"log\",ylim=(0.01,1E3))\n",
    "        # plot2.legend(loc=\"lower left\")\n",
    "        ax.tick_params(axis='x', labelsize=20)\n",
    "        ax.tick_params(axis='y', labelsize=20)\n",
    "        ax.legend(loc=\"lower left\",prop={'size':20})\n",
    "    \n",
    "# fig.get_axes()[0].annotate(r'$\\Delta \\Sigma$', (0.5, 0.95), \n",
    "#                             xycoords='figure fraction', ha='center', \n",
    "#                             fontsize=15\n",
    "#                             )\n",
    "\n",
    "fig.suptitle(r\"$\\Delta \\Sigma$\")\n",
    "fig.tight_layout(pad=2)\n",
    "\n",
    "plt.subplots_adjust(wspace=0)"
   ]
  },
  {
   "cell_type": "code",
   "execution_count": 141,
   "metadata": {},
   "outputs": [],
   "source": [
    "    shuffle_DSigma_rel_path = \"data/DSigma_shuffle.npz\"\n",
    "    normal_DSigma_rel_path = \"data/DSigma.npz\"\n",
    "np.save(os.path.join(project_path,DSigma_rel_path),Delta_Sigma_array)"
   ]
  }
 ],
 "metadata": {
  "kernelspec": {
   "display_name": "DESDESI",
   "language": "python",
   "name": "desdesi"
  },
  "language_info": {
   "codemirror_mode": {
    "name": "ipython",
    "version": 3
   },
   "file_extension": ".py",
   "mimetype": "text/x-python",
   "name": "python",
   "nbconvert_exporter": "python",
   "pygments_lexer": "ipython3",
   "version": "3.8.13"
  }
 },
 "nbformat": 4,
 "nbformat_minor": 4
}
