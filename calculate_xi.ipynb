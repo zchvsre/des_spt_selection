{
 "cells": [
  {
   "cell_type": "code",
   "execution_count": 3,
   "id": "d58c3469-cfef-4ae6-957e-e29d0221adfb",
   "metadata": {},
   "outputs": [],
   "source": [
    "import scipy.special\n",
    "import matplotlib.pyplot as plt\n",
    "%matplotlib inline\n",
    "%load_ext autoreload \n",
    "%autoreload 1"
   ]
  },
  {
   "cell_type": "code",
   "execution_count": 4,
   "id": "c933b6c8-7a88-436e-9c09-d41c6efdd0ea",
   "metadata": {},
   "outputs": [],
   "source": [
    "from Corrfunc.utils import check_runtime_env"
   ]
  },
  {
   "cell_type": "code",
   "execution_count": 5,
   "id": "61774b42-0e7b-40b9-be15-537bd88f632a",
   "metadata": {},
   "outputs": [],
   "source": [
    "import os.path\n",
    "import numpy as np\n",
    "import pandas as pd\n",
    "# parser.add_argument('boxsize') #L\n",
    "# parser.add_argument('bin_file')\n",
    "# parser.add_argument('mock_file1')\n",
    "# parser.add_argument('mock_file2')\n",
    "# parser.add_argument('output_file')\n",
    "# parser.add_argument('--siglnMc') #scatter between intrinsic \n",
    "# parser.add_argument('--nc') #cluster number density\n",
    "# parser.add_argument('--zphot') #photo-z\n",
    "# parser.add_argument('--Qsel') #assembly bias term \n",
    "# parser.add_argument('--delg') #R_delta\n",
    "# parser.add_argument('--downsample_flag')"
   ]
  },
  {
   "cell_type": "code",
   "execution_count": 6,
   "id": "04099add-36da-4436-99c6-0eaf66b525c7",
   "metadata": {},
   "outputs": [
    {
     "name": "stderr",
     "output_type": "stream",
     "text": [
      "/global/homes/z/zchusre/.conda/envs/desdesi/lib/python3.8/site-packages/Corrfunc/utils.py:1071: UserWarning: Warning: Cray hugepages has a bug that may crash Corrfunc. You might be able to fix such a crash with `module unload craype-hugepages2M` (see https://github.com/manodeep/Corrfunc/issues/245 for details)\n",
      "  warnings.warn('Warning: Cray hugepages has a bug that may crash '\n"
     ]
    }
   ],
   "source": [
    "check_runtime_env()"
   ]
  },
  {
   "cell_type": "code",
   "execution_count": 7,
   "id": "e8fd14d1-1991-46f3-8455-bb435b2d69d4",
   "metadata": {},
   "outputs": [
    {
     "name": "stderr",
     "output_type": "stream",
     "text": [
      "<ipython-input-7-761f299786ce>:2: RuntimeWarning: divide by zero encountered in log\n",
      "  return 0.5*(1+scipy.special.erf(np.log(M)/0.6))\n"
     ]
    },
    {
     "data": {
      "text/plain": [
       "[<matplotlib.lines.Line2D at 0x2aab51629ee0>]"
      ]
     },
     "execution_count": 7,
     "metadata": {},
     "output_type": "execute_result"
    },
    {
     "data": {
      "image/png": "[encoded data removed]",
      "text/plain": [
       "<Figure size 432x288 with 1 Axes>"
      ]
     },
     "metadata": {
      "needs_background": "light"
     },
     "output_type": "display_data"
    }
   ],
   "source": [
    "def N_cen(M):\n",
    "    return 0.5*(1+scipy.special.erf(np.log(M)/0.6))\n",
    "\n",
    "x = np.linspace(0,2,1000)\n",
    "y = N_cen(x)\n",
    "\n",
    "plt.plot(x,y)"
   ]
  },
  {
   "cell_type": "markdown",
   "id": "7d785e92-0139-40b3-9adf-250223f9e795",
   "metadata": {},
   "source": [
    "The mean satellite number is defined by \n",
    "$<N_{sat}(M)> = <N_{cen}(M)> (\\frac{M-M_0}{M_1})^{\\alpha}$\n",
    "\n",
    "which has a power-law shape. "
   ]
  },
  {
   "cell_type": "markdown",
   "id": "791b69e6-ddd2-4098-a7d4-3f3293429eb0",
   "metadata": {},
   "source": [
    "# Calculate Observed Halo Mass "
   ]
  },
  {
   "cell_type": "markdown",
   "id": "a7a02bb1-d1b9-4f73-aee6-ea7381c0fb74",
   "metadata": {},
   "source": [
    "From Salcedo et al. 2020. \n",
    "The cluster-mass observable relation is a linear relation with a constant lognormal scatter:\n",
    "\n",
    "$\\ln M_{obs} = \\ln M_c + \\sigma_{\\ln M_c} X $\n",
    "\n",
    "The minimal mass for a halo to host a central is $\\log M_{min} = \\log M_{min,0} + Q_{env}(R_{\\delta} - 0.5)$, in which $Q_{env}$ is the environmental dependence of galaxy occupation parameter. $R_\\delta$ is the rank of halo environmental density measured with top-hat spheres of radius $8 h^{-1} \\text{Mpc}$"
   ]
  },
  {
   "cell_type": "markdown",
   "id": "3613bebe-d7b5-4fa6-8153-74df96d2d425",
   "metadata": {
    "tags": []
   },
   "source": [
    "# Halo occupation model\n",
    "\n",
    "The occupation number of the halos is parametrized by \n",
    "\n",
    "$<N_{cen}(M)> = \\frac{1}{2} [1+\\text{erf} (\\frac{\\log M - \\log M_{min}} {\\sigma_{\\log M}})] $\n",
    "\n",
    "whose shape can be plotted as the following"
   ]
  },
  {
   "cell_type": "markdown",
   "id": "c906d828-80d5-4bf1-84d1-43901bef0ad0",
   "metadata": {
    "tags": []
   },
   "source": [
    "# Calculate $\\xi$"
   ]
  },
  {
   "cell_type": "code",
   "execution_count": 8,
   "id": "b2590ef4-2a4c-4aa7-8bd1-616636407ecb",
   "metadata": {},
   "outputs": [],
   "source": [
    "project_path = \"/global/cfs/cdirs/des/zhou/spt_lensing/\"\n",
    "particle_rel_path = \"abacus/memHOD_11.2_12.4_0.65_1.0_0.2_0.0_0_z0p3.hdf5\"\n",
    "halo_rel_path = \"data/halos_spt_xi_5.hdf5\"\n",
    "output_rel_path =  \"data/testoutput\"\n",
    "bin_rel_path = \"bin_file.txt\""
   ]
  },
  {
   "cell_type": "code",
   "execution_count": 9,
   "id": "cdfceea7-0a8d-4a2a-b6f8-7bdc215d1b93",
   "metadata": {},
   "outputs": [],
   "source": [
    "particle_path = os.path.join(project_path, particle_rel_path)\n",
    "halo_path = os.path.join(project_path,halo_rel_path)\n",
    "output_path = os.path.join(project_path,output_rel_path)\n",
    "bin_path = os.path.join(project_path,bin_rel_path)"
   ]
  },
  {
   "cell_type": "code",
   "execution_count": 10,
   "id": "e065f77e-d9fb-48a0-80f6-973679ef53d2",
   "metadata": {},
   "outputs": [],
   "source": [
    "boxsize = 1100\n",
    "rmin = 0.05\n",
    "rmax = 125\n",
    "nbins=50\n",
    "bins = np.logspace(np.log10(rmin), np.log10(rmax), nbins + 1)\n",
    "binfile=bin_path\n",
    "mock_file1 = halo_path\n",
    "mock_file2 = particle_path\n",
    "output_file = output_path\n",
    "siglnMc = 0.4\n",
    "nc = 3.228E-6\n",
    "Qsel = 0\n",
    "nthreads = 4\n",
    "zphot = False"
   ]
  },
  {
   "cell_type": "code",
   "execution_count": 11,
   "id": "32e43ad1-ad5a-44e5-afec-83338f4b9fac",
   "metadata": {},
   "outputs": [],
   "source": [
    "import h5py as h5\n",
    "import os.path\n",
    "import numpy as np\n",
    "import math\n",
    "import Corrfunc\n",
    "from Corrfunc._countpairs import countpairs"
   ]
  },
  {
   "cell_type": "code",
   "execution_count": 12,
   "id": "11c3a38e-987e-4d61-9d3f-c8bc74c6b685",
   "metadata": {},
   "outputs": [],
   "source": [
    "f = open(bin_path,\"w\")\n",
    "for i in range(len(bins)-1):\n",
    "    f.write(\"{:.2f} {:.2f}\\n\".format(bins[i],bins[i+1]))\n",
    "f.close()"
   ]
  },
  {
   "cell_type": "code",
   "execution_count": 13,
   "id": "243a0636-96f1-4a6c-829e-5cd2d5f0ad29",
   "metadata": {},
   "outputs": [
    {
     "name": "stdout",
     "output_type": "stream",
     "text": [
      "0.05 0.06\n",
      "0.06 0.07\n",
      "0.07 0.08\n",
      "0.08 0.09\n",
      "0.09 0.11\n",
      "0.11 0.13\n",
      "0.13 0.15\n",
      "0.15 0.17\n",
      "0.17 0.20\n",
      "0.20 0.24\n",
      "0.24 0.28\n",
      "0.28 0.33\n",
      "0.33 0.38\n",
      "0.38 0.45\n",
      "0.45 0.52\n",
      "0.52 0.61\n",
      "0.61 0.71\n",
      "0.71 0.84\n",
      "0.84 0.98\n",
      "0.98 1.14\n",
      "1.14 1.34\n",
      "1.34 1.56\n",
      "1.56 1.83\n",
      "1.83 2.14\n",
      "2.14 2.50\n",
      "2.50 2.92\n",
      "2.92 3.42\n",
      "3.42 4.00\n",
      "4.00 4.67\n",
      "4.67 5.47\n",
      "5.47 6.39\n",
      "6.39 7.48\n",
      "7.48 8.74\n",
      "8.74 10.22\n",
      "10.22 11.95\n",
      "11.95 13.98\n",
      "13.98 16.35\n",
      "16.35 19.12\n",
      "19.12 22.35\n",
      "22.35 26.14\n",
      "26.14 30.57\n",
      "30.57 35.75\n",
      "35.75 41.80\n",
      "41.80 48.88\n",
      "48.88 57.16\n",
      "57.16 66.85\n",
      "66.85 78.17\n",
      "78.17 91.41\n",
      "91.41 106.89\n",
      "106.89 125.00\n",
      "\n"
     ]
    }
   ],
   "source": [
    "a_file = open(bin_path,'r')\n",
    "file_contents = a_file.read()\n",
    "print(file_contents)"
   ]
  },
  {
   "cell_type": "code",
   "execution_count": 14,
   "id": "6867ee52-3128-4151-828d-83be82e55317",
   "metadata": {},
   "outputs": [
    {
     "name": "stdout",
     "output_type": "stream",
     "text": [
      "<class 'h5py._hl.base.KeysViewHDF5'>\n",
      "<class 'h5py._hl.files.File'>\n",
      "<class 'h5py._hl.dataset.Dataset'>\n"
     ]
    }
   ],
   "source": [
    "f = h5.File(halo_path, 'r')\n",
    "print (type(f.keys()))\n",
    "print(type((f)))\n",
    "print(type(f['halos']))"
   ]
  },
  {
   "cell_type": "code",
   "execution_count": 15,
   "id": "e2d333db-a621-4a5a-a081-cafda89babbd",
   "metadata": {},
   "outputs": [],
   "source": [
    "f.close()"
   ]
  },
  {
   "cell_type": "code",
   "execution_count": 16,
   "id": "d6740e4f-7b93-4b45-8a27-1d357ed72887",
   "metadata": {},
   "outputs": [],
   "source": [
    "import Corrfunc\n",
    "from Corrfunc.theory.DD import DD"
   ]
  },
  {
   "cell_type": "code",
   "execution_count": 30,
   "id": "749043ea-708d-493c-b4c0-73c277d6bfd4",
   "metadata": {},
   "outputs": [],
   "source": [
    "def writeXi(boxsize,bin_file,mock_file1,mock_file2,output_file,siglnMc,nc,Qsel,nthreads):\n",
    "    Ncluster = math.floor( (boxsize**3.0) * float(nc) ) #number of cluster\n",
    "    infile = h5.File(mock_file1, 'r')\n",
    "    halos = infile['halos']\n",
    "    halos = halos[halos['M200b'] > 0] #halo mass that passes M_min\n",
    "    Nh = int(len(halos)) #number of halos\n",
    "    infile.close()\n",
    "    np.random.seed(0)\n",
    "    randnorms = np.random.normal(0.0, 1.0, Nh)\n",
    "    # percentiles = h5.File(str(args.delg), 'r')['halos']['percentile'] #Delta_gamma\n",
    "    halos['Mobs'] = np.exp( np.log(halos['M200b']) + float(siglnMc) * randnorms )\n",
    "                           # + float(args.Qsel) * (percentiles - 0.5))\n",
    "    halos.sort(order=\"Mobs\")\n",
    "    mock1 = halos[-Ncluster:] #only choose most massive clusters\n",
    "    dummy2 = h5.File(str(mock_file2), 'r')\n",
    "    mock2 = dummy2['particles']\n",
    "    \n",
    "    N1 = len(mock1)\n",
    "    N2 = len(mock2)\n",
    "\n",
    "    x1 = mock1['pos_x'].astype(np.float32)\n",
    "    y1 = mock1['pos_y'].astype(np.float32)\n",
    "\n",
    "    x2 = mock2['x'].astype(np.float32)\n",
    "    y2 = mock2['y'].astype(np.float32)\n",
    "\n",
    "    if zphot:\n",
    "      z1 = mock1['zphot'].astype(np.float32)\n",
    "      z2 = mock2['zphot'].astype(np.float32)\n",
    "    else:\n",
    "      z1 = mock1['pos_z'].astype(np.float32)\n",
    "      z2 = mock2['z'].astype(np.float32)\n",
    "        \n",
    "    # input_array = [x1,y1,z1,x2,y2,z2]\n",
    "    \n",
    "#     for item in input_array:\n",
    "#         print(item, len(item))\n",
    "    \n",
    "#     print(bin_file)\n",
    "    \n",
    "#     a_file = open(bin_path,'r')\n",
    "#     file_contents = a_file.read()\n",
    "#     print(file_contents)\n",
    "    \n",
    "    \n",
    "    \n",
    "    results_DD = DD(1,1, binfile, X1=x1, Y1=y1, Z1=z1, X2=x2, Y2=y2, Z2=z2,verbose=True, periodic=False)\n",
    "    for r in results_DD: print(\"{0:10.6f} {1:10.6f} {2:10.6f} {3:10d} {4:10.6f}\".format(r['rmin'], r['rmax'], r['ravg'],r['npairs'], r['weightavg'])) # doctest: +NORMALIZE_WHITESPACE\n",
    "\n",
    "    print(N1, N2, boxsize)\n",
    "    for i in range(0, len(results_DD)):\n",
    "        RR = N1*N2*(4.0/3.0)*np.pi*(results_DD[i][1]**3.0 - results_DD[i][0]**3.0) / boxsize**3.0\n",
    "        print(\"The value of RR is \", RR)\n",
    "        results_DD[i][3] = results_DD[i][3] + ((results_DD[i][3]/RR - 1.0),)\n",
    "     \n",
    "    for r in results_DD: print(\"{0:10.6f} {1:10.6f} {2:10.6f} {3:10d} {4:10.6f}\".format(r['rmin'], r['rmax'], r['ravg'],r['npairs'], r['weightavg'])) # doctest: +NORMALIZE_WHITESPACE\n",
    "    return(results_DD)"
   ]
  },
  {
   "cell_type": "code",
   "execution_count": 31,
   "id": "dc83d777-4f37-48c9-9ba3-f2d3f4776f25",
   "metadata": {},
   "outputs": [
    {
     "name": "stderr",
     "output_type": "stream",
     "text": [
      "In gridlink_float> Running with [nmesh_x, nmesh_y, nmesh_z]  = 17,17,8.  Time taken =   0.000 sec\n",
      "0%.........10%.........20%.........30%.........40%.........50%.........60%.........70%.........80%.........90%.........100% done. Time taken =  0.013 secs\n"
     ]
    },
    {
     "name": "stdout",
     "output_type": "stream",
     "text": [
      "  0.050000   0.060000   0.000000          0   0.000000\n",
      "  0.060000   0.070000   0.000000          4   0.000000\n",
      "  0.070000   0.080000   0.000000          2   0.000000\n",
      "  0.080000   0.090000   0.000000          2   0.000000\n",
      "  0.090000   0.110000   0.000000          6   0.000000\n",
      "  0.110000   0.130000   0.000000          2   0.000000\n",
      "  0.130000   0.150000   0.000000          6   0.000000\n",
      "  0.150000   0.170000   0.000000          4   0.000000\n",
      "  0.170000   0.200000   0.000000         14   0.000000\n",
      "  0.200000   0.240000   0.000000         24   0.000000\n",
      "  0.240000   0.280000   0.000000         10   0.000000\n",
      "  0.280000   0.330000   0.000000         24   0.000000\n",
      "  0.330000   0.380000   0.000000         18   0.000000\n",
      "  0.380000   0.450000   0.000000         28   0.000000\n",
      "  0.450000   0.520000   0.000000         32   0.000000\n",
      "  0.520000   0.610000   0.000000         48   0.000000\n",
      "  0.610000   0.710000   0.000000         32   0.000000\n",
      "  0.710000   0.840000   0.000000         44   0.000000\n",
      "  0.840000   0.980000   0.000000         14   0.000000\n",
      "  0.980000   1.140000   0.000000         18   0.000000\n",
      "  1.140000   1.340000   0.000000         18   0.000000\n",
      "  1.340000   1.560000   0.000000         18   0.000000\n",
      "  1.560000   1.830000   0.000000          2   0.000000\n",
      "  1.830000   2.140000   0.000000          2   0.000000\n",
      "  2.140000   2.500000   0.000000          4   0.000000\n",
      "  2.500000   2.920000   0.000000          2   0.000000\n",
      "  2.920000   3.420000   0.000000          4   0.000000\n",
      "  3.420000   4.000000   0.000000          2   0.000000\n",
      "  4.000000   4.670000   0.000000          6   0.000000\n",
      "  4.670000   5.470000   0.000000         10   0.000000\n",
      "  5.470000   6.390000   0.000000         20   0.000000\n",
      "  6.390000   7.480000   0.000000         16   0.000000\n",
      "  7.480000   8.740000   0.000000         30   0.000000\n",
      "  8.740000  10.220000   0.000000         52   0.000000\n",
      " 10.220000  11.950000   0.000000         70   0.000000\n",
      " 11.950000  13.980000   0.000000         56   0.000000\n",
      " 13.980000  16.350000   0.000000        106   0.000000\n",
      " 16.350000  19.120000   0.000000        162   0.000000\n",
      " 19.120000  22.350000   0.000000        252   0.000000\n",
      " 22.350000  26.140000   0.000000        418   0.000000\n",
      " 26.140000  30.570000   0.000000        642   0.000000\n",
      " 30.570000  35.750000   0.000000       1056   0.000000\n",
      " 35.750000  41.800000   0.000000       1488   0.000000\n",
      " 41.800000  48.880000   0.000000       2454   0.000000\n",
      " 48.880000  57.160000   0.000000       3718   0.000000\n",
      " 57.160000  66.850000   0.000000       5826   0.000000\n",
      " 66.850000  78.170000   0.000000       9542   0.000000\n",
      " 78.170000  91.410000   0.000000      14608   0.000000\n",
      " 91.410000 106.890000   0.000000      22878   0.000000\n",
      "106.890000 125.000000   0.000000      35858   0.000000\n",
      "4296 18284673 1100\n",
      "The value of RR is  0.02249590227604922\n",
      "The value of RR is  0.03139538009954127\n",
      "The value of RR is  0.041778104226948574\n",
      "The value of RR is  0.053644074658271215\n",
      "The value of RR is  0.14881904582617186\n",
      "The value of RR is  0.21408188319844662\n",
      "The value of RR is  0.2912106910020438\n",
      "The value of RR is  0.38020546923696424\n",
      "The value of RR is  0.7631302233644397\n",
      "The value of RR is  1.43973774566715\n",
      "The value of RR is  2.0093043263706414\n",
      "The value of RR is  3.457199926709324\n",
      "The value of RR is  4.680878127439475\n",
      "The value of RR is  8.96202137597377\n",
      "The value of RR is  12.232579476107079\n",
      "The value of RR is  21.352072168013187\n",
      "The value of RR is  32.366906428605766\n",
      "The value of RR is  58.04264157253217\n",
      "The value of RR is  86.14892299314117\n",
      "The value of RR is  133.57918446887635\n",
      "The value of RR is  228.55836712466044\n",
      "The value of RR is  343.6958558815226\n",
      "The value of RR is  576.5059485363563\n",
      "The value of RR is  907.7113872926079\n",
      "The value of RR is  1439.8999139297123\n",
      "The value of RR is  2292.131709262953\n",
      "The value of RR is  3733.9736870199254\n",
      "The value of RR is  5932.567929034503\n",
      "The value of RR is  9356.209655325458\n",
      "The value of RR is  15282.321754822167\n",
      "The value of RR is  24040.900078920036\n",
      "The value of RR is  38957.92719239082\n",
      "The value of RR is  61584.04835840737\n",
      "The value of RR is  98842.3035873165\n",
      "The value of RR is  157972.4620915024\n",
      "The value of RR is  253577.49805314632\n",
      "The value of RR is  405041.46028339776\n",
      "The value of RR is  647451.7583410044\n",
      "The value of RR is  1031979.8260774516\n",
      "The value of RR is  1655580.6548180245\n",
      "The value of RR is  2646846.762374072\n",
      "The value of RR is  4232766.720908464\n",
      "The value of RR is  6759622.5144867515\n",
      "The value of RR is  10815862.47249881\n",
      "The value of RR is  17297160.227410316\n",
      "The value of RR is  27684932.535407536\n",
      "The value of RR is  44228955.74703295\n",
      "The value of RR is  70736259.16672373\n",
      "The value of RR is  113089155.90596676\n",
      "The value of RR is  180920522.17209664\n",
      "  0.050000   0.060000   0.000000 18446744073709551615   0.000000\n",
      "  0.060000   0.070000   0.000000        130   0.000000\n",
      "  0.070000   0.080000   0.000000         48   0.000000\n",
      "  0.080000   0.090000   0.000000         38   0.000000\n",
      "  0.090000   0.110000   0.000000         45   0.000000\n",
      "  0.110000   0.130000   0.000000         10   0.000000\n",
      "  0.130000   0.150000   0.000000         25   0.000000\n",
      "  0.150000   0.170000   0.000000         13   0.000000\n",
      "  0.170000   0.200000   0.000000         31   0.000000\n",
      "  0.200000   0.240000   0.000000         39   0.000000\n",
      "  0.240000   0.280000   0.000000         13   0.000000\n",
      "  0.280000   0.330000   0.000000         29   0.000000\n",
      "  0.330000   0.380000   0.000000         20   0.000000\n",
      "  0.380000   0.450000   0.000000         30   0.000000\n",
      "  0.450000   0.520000   0.000000         33   0.000000\n",
      "  0.520000   0.610000   0.000000         49   0.000000\n",
      "  0.610000   0.710000   0.000000         31   0.000000\n",
      "  0.710000   0.840000   0.000000         43   0.000000\n",
      "  0.840000   0.980000   0.000000         13   0.000000\n",
      "  0.980000   1.140000   0.000000         17   0.000000\n",
      "  1.140000   1.340000   0.000000         17   0.000000\n",
      "  1.340000   1.560000   0.000000         17   0.000000\n",
      "  1.560000   1.830000   0.000000          1   0.000000\n",
      "  1.830000   2.140000   0.000000          1   0.000000\n",
      "  2.140000   2.500000   0.000000          3   0.000000\n",
      "  2.500000   2.920000   0.000000          1   0.000000\n",
      "  2.920000   3.420000   0.000000          3   0.000000\n",
      "  3.420000   4.000000   0.000000          1   0.000000\n",
      "  4.000000   4.670000   0.000000          5   0.000000\n",
      "  4.670000   5.470000   0.000000          9   0.000000\n",
      "  5.470000   6.390000   0.000000         19   0.000000\n",
      "  6.390000   7.480000   0.000000         15   0.000000\n",
      "  7.480000   8.740000   0.000000         29   0.000000\n",
      "  8.740000  10.220000   0.000000         51   0.000000\n",
      " 10.220000  11.950000   0.000000         69   0.000000\n",
      " 11.950000  13.980000   0.000000         55   0.000000\n",
      " 13.980000  16.350000   0.000000        105   0.000000\n",
      " 16.350000  19.120000   0.000000        161   0.000000\n",
      " 19.120000  22.350000   0.000000        251   0.000000\n",
      " 22.350000  26.140000   0.000000        417   0.000000\n",
      " 26.140000  30.570000   0.000000        641   0.000000\n",
      " 30.570000  35.750000   0.000000       1055   0.000000\n",
      " 35.750000  41.800000   0.000000       1487   0.000000\n",
      " 41.800000  48.880000   0.000000       2453   0.000000\n",
      " 48.880000  57.160000   0.000000       3717   0.000000\n",
      " 57.160000  66.850000   0.000000       5825   0.000000\n",
      " 66.850000  78.170000   0.000000       9541   0.000000\n",
      " 78.170000  91.410000   0.000000      14607   0.000000\n",
      " 91.410000 106.890000   0.000000      22877   0.000000\n",
      "106.890000 125.000000   0.000000      35857   0.000000\n"
     ]
    }
   ],
   "source": [
    "results_DD = writeXi(boxsize,bin_path,mock_file1,mock_file2,output_file,siglnMc,nc,Qsel,nthreads)"
   ]
  },
  {
   "cell_type": "code",
   "execution_count": 27,
   "id": "98840ddf-030d-4f0f-9f26-a69cd3eb8bf7",
   "metadata": {},
   "outputs": [],
   "source": [
    "output_txt = \"data/result_DD.txt\""
   ]
  },
  {
   "cell_type": "code",
   "execution_count": 29,
   "id": "3193bd9b-96a0-47c0-9395-f8eb118ff546",
   "metadata": {},
   "outputs": [],
   "source": [
    "outfile = open(os.path.join(project_path,output_txt), 'w')\n",
    "\n",
    "outfile.write(\"# rmin rmax xi\\n\")\n",
    "\n",
    "for bin in results_DD:\n",
    "  outfile.write(str(bin[0])+\" \"+str(bin[1])+\" \"+str(bin[3])+\"\\n\") \n",
    "\n",
    "outfile.close()"
   ]
  },
  {
   "cell_type": "code",
   "execution_count": 19,
   "id": "2cd624e8-e534-4c3f-9df1-bb4605137654",
   "metadata": {},
   "outputs": [],
   "source": [
    "results_path = os.path.join(project_path,\"data/results.npz\")\n",
    "np.savez(results_path,results_DD)"
   ]
  },
  {
   "cell_type": "code",
   "execution_count": 23,
   "id": "8a7bd0e2-651f-4498-98c4-45c0433c6076",
   "metadata": {},
   "outputs": [
    {
     "name": "stdout",
     "output_type": "stream",
     "text": [
      "Help on built-in function countpairs in module Corrfunc._countpairs:\n",
      "\n",
      "countpairs(...)\n",
      "    countpairs(autocorr, nthreads, binfile, X1, Y1, Z1, weights1=None, weight_type=None, periodic=True,\n",
      "               X2=None, Y2=None, Z2=None, weights2=None, verbose=False, boxsize=0.0,\n",
      "               output_ravg=False, xbin_refine_factor=2, ybin_refine_factor=2,\n",
      "               zbin_refine_factor=1, max_cells_per_dim=100, copy_particles=True,\n",
      "               enable_min_sep_opt=True, c_api_timer=False, isa=-1)\n",
      "    \n",
      "    Calculate the 3-D pair-counts, ξ(r), auto/cross-correlation \n",
      "    function given two sets of points represented by X1/Y1/Z1 and X2/Y2/Z2 \n",
      "    arrays.\n",
      "    \n",
      "    Note, that this module only returns pair counts and not the actual \n",
      "    correlation function ξ(r). See the mocks/wtheta/wtheta.c for \n",
      "    computing ξ(r) from the output of DD(r). Also note that the \n",
      "    python wrapper for this extension: `Corrfunc.theory.DD` is more user-friendly.\n",
      "    \n",
      "    If you see unrendered characters, then your current terminal (likely) does not \n",
      "    support UTF-8. Tun `xterm -u8` to get an UTF-8 compliant terminal (and hopefully) \n",
      "    a font-set that supports Greek characters. For details on how to display unicode \n",
      "    characters on xterm, see:\n",
      "    \n",
      "      http://unix.stackexchange.com/questions/196152/xterm-not-displaying-unicode\n",
      "    \n",
      "    If none of the fixes work, disable ``USE_UNICODE`` option in ``common.mk`` in \n",
      "    the ROOT DIRECTORY of ``Corrfunc`` and re-install the entire packge.\n",
      "    \n",
      "    Parameters \n",
      "    -----------\n",
      "    Every parameter can be passed as a keyword of the corresponding name.\n",
      "    \n",
      "    autocorr : boolean\n",
      "        Boolean flag for auto/cross-correlation. If autocorr is set to 1,\n",
      "        are not used (but must still be passed, perhaps again as X1/Y1/Z1).\n",
      "    \n",
      "    nthreads : integer\n",
      "        The number of OpenMP threads to use. Has no effect if OpenMP was not\n",
      "        enabled during library compilation.\n",
      "    \n",
      "    binfile : string\n",
      "        Filename specifying the ``r`` bins for ``DD``. The file should\n",
      "        contain white-space separated values  of (rmin, rmax)  for each\n",
      "        ``r`` wanted. The bins do not need to be contiguous but must be in\n",
      "        increasing order (smallest bins come first). \n",
      "    \n",
      "    X1/Y1/Z1 : array-like, real (float/double)\n",
      "        The array of X/Y/Z positions for the first set of points.\n",
      "        Calculations are done in the precision of the supplied arrays.\n",
      "    \n",
      "    weights1 : array-like, real (float/double), shape (n_weights_per_particle,n_particles), optional\n",
      "        Weights for computing a weighted pair count.\n",
      "    \n",
      "    weight_type : str, optional\n",
      "        The type of pair weighting to apply.\n",
      "        Options: \"pair_product\", None\n",
      "        Default: None.\n",
      "    \n",
      "    periodic : boolean\n",
      "        Boolean flag to indicate periodic boundary conditions.\n",
      "    \n",
      "    X2/Y2/Z2 : array-like, real (float/double)\n",
      "        Array of XYZ positions for the second set of points. *Must* be the same\n",
      "        precision as the X1/Y1/Z1 arrays. Only required when ``autocorr==0``.\n",
      "    \n",
      "    weights2\n",
      "     : array-like, real (float/double), shape (n_weights_per_particle,n_particles), optional\n",
      "        Weights for computing a weighted pair count.\n",
      "    \n",
      "    verbose : boolean (default false)\n",
      "        Boolean flag to control output of informational messages\n",
      "    \n",
      "    boxsize : double\n",
      "        The side-length of the cube in the cosmological simulation.\n",
      "        Present to facilitate exact calculations for periodic wrapping.\n",
      "        If boxsize is 0., then the wrapping is done based on\n",
      "        the maximum difference within each dimension of the X/Y/Z arrays.\n",
      "    \n",
      "    output_ravg : boolean (default false)\n",
      "        Boolean flag to output the average ``r`` for each bin. Code will\n",
      "        run slower if you set this flag. Also, note, if you are calculating\n",
      "        in single-precision, ``ravg`` will suffer from numerical loss of\n",
      "        precision and can not be trusted. If you need accurate ``ravg``\n",
      "        values, then pass in double precision arrays for the particle positions.\n",
      "    \n",
      "    (xyz)bin_refine_factor: integer (default (2,2,1) typical values in [1-3]) \n",
      "        Controls the refinement on the cell sizes. Can have up to a 20% impact \n",
      "        on runtime. \n",
      "    \n",
      "    max_cells_per_dim: integer (default 100, typical values in [50-300]) \n",
      "        Controls the maximum number of cells per dimension. Total number of cells \n",
      "        can be up to (max_cells_per_dim)^3. Only increase if ``rmax`` is too small \n",
      "        relative to the boxsize (and increasing helps the runtime). \n",
      "    \n",
      "    copy_particles: boolean (default True)\n",
      "        Boolean flag to make a copy of the particle positions\n",
      "        If set to False, the particles will be re-ordered in-place\n",
      "    \n",
      "    enable_min_sep_opt: boolean (default true)\n",
      "        Boolean flag to allow optimizations based on min. separation between pairs \n",
      "        of cells. Here to allow for comparison studies.\n",
      "    \n",
      "    c_api_timer : boolean (default false)\n",
      "        Boolean flag to measure actual time spent in the C libraries. Here\n",
      "        to allow for benchmarking and scaling studies.\n",
      "    \n",
      "    isa : integer (default -1)\n",
      "        Controls the runtime dispatch for the instruction set to use. Possible\n",
      "        options are: [-1, AVX512F, AVX, SSE42, FALLBACK]\n",
      "    \n",
      "        Setting isa to -1 will pick the fastest available instruction\n",
      "        set on the current computer. However, if you set ``isa`` to, say,\n",
      "        ``AVX`` and ``AVX`` is not available on the computer, then the code will\n",
      "        revert to using ``FALLBACK`` (even though ``SSE42`` might be available).\n",
      "    \n",
      "        Unless you are benchmarking the different instruction sets, you should\n",
      "        always leave ``isa`` to the default value. And if you *are* benchmarking,\n",
      "        then the integer values correspond to the ``enum`` for the instruction set\n",
      "        defined in ``utils/defs.h``.\n",
      "    \n",
      "    Returns\n",
      "    --------\n",
      "    \n",
      "    A tuple (results, time) \n",
      "    \n",
      "    results : A python list\n",
      "        A python list containing [rmin, rmax, ravg, npairs, weight_avg] for each radial bin\n",
      "        specified in the ``binfile``. If ``output_ravg`` is not set, then ``ravg``\n",
      "        will be set to 0.0 for all bins; similarly for ``weight_avg``. ``npairs`` contains the number of pairs\n",
      "        in that bin and can be used to compute the actual ξ(r) by\n",
      "        combining with (DR, RR) counts.\n",
      "    \n",
      "    time : double\n",
      "        if ``c_api_timer`` is set, then the return value contains the time spent\n",
      "        in the API; otherwise time is set to 0.0\n",
      "    \n",
      "    Example\n",
      "    -------\n",
      "    \n",
      "    >>> from Corrfunc._countpairs import countpairs\n",
      "    >>> from Corrfunc.io import read_catalog\n",
      "    >>> x,y,z = read_catalog()\n",
      "    >>> autocorr=1\n",
      "    >>> nthreads=2\n",
      "    >>> (DD, time) = countpairs(autocorr, nthreads, '../tests/bins',x, y, z, \n",
      "                                X2=x, Y2=y, Z2=z,verbose=True)\n",
      "\n"
     ]
    }
   ],
   "source": [
    "help(countpairs)"
   ]
  }
 ],
 "metadata": {
  "kernelspec": {
   "display_name": "DESDESI",
   "language": "python",
   "name": "desdesi"
  },
  "language_info": {
   "codemirror_mode": {
    "name": "ipython",
    "version": 3
   },
   "file_extension": ".py",
   "mimetype": "text/x-python",
   "name": "python",
   "nbconvert_exporter": "python",
   "pygments_lexer": "ipython3",
   "version": "3.8.3"
  }
 },
 "nbformat": 4,
 "nbformat_minor": 5
}
