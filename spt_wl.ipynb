{
 "cells": [
  {
   "cell_type": "code",
   "execution_count": 20,
   "id": "d58c3469-cfef-4ae6-957e-e29d0221adfb",
   "metadata": {},
   "outputs": [],
   "source": [
    "import scipy.special\n",
    "import matplotlib.pyplot as plt\n",
    "%matplotlib inline"
   ]
  },
  {
   "cell_type": "markdown",
   "id": "f1867a35-079f-49b1-8ed1-c0b9924bf0b0",
   "metadata": {},
   "source": [
    "# Questions:\n",
    "\n",
    "1.  "
   ]
  },
  {
   "cell_type": "code",
   "execution_count": 25,
   "id": "61774b42-0e7b-40b9-be15-537bd88f632a",
   "metadata": {},
   "outputs": [
    {
     "data": {
      "text/plain": [
       "_StoreAction(option_strings=['--downsample_flag'], dest='downsample_flag', nargs=None, const=None, default=None, type=None, choices=None, help=None, metavar=None)"
      ]
     },
     "execution_count": 25,
     "metadata": {},
     "output_type": "execute_result"
    }
   ],
   "source": [
    "from __future__ import print_function\n",
    "import argparse\n",
    "import h5py as h5\n",
    "import os.path as path\n",
    "import numpy as np\n",
    "import math\n",
    "import Corrfunc\n",
    "from Corrfunc._countpairs import countpairs\n",
    "\n",
    "parser = argparse.ArgumentParser()\n",
    "\n",
    "parser.add_argument('boxsize') #L\n",
    "parser.add_argument('bin_file')\n",
    "parser.add_argument('mock_file1')\n",
    "parser.add_argument('mock_file2')\n",
    "parser.add_argument('output_file')\n",
    "parser.add_argument('--siglnMc') #scatter between intrinsic \n",
    "parser.add_argument('--nc') #cluster number density\n",
    "parser.add_argument('--zphot') #photo-z\n",
    "parser.add_argument('--Qsel') #assembly bias term \n",
    "parser.add_argument('--delg') #R_delta\n",
    "parser.add_argument('--downsample_flag')"
   ]
  },
  {
   "cell_type": "markdown",
   "id": "a44182d1-192c-4b3d-b409-c9b2e0997f9d",
   "metadata": {},
   "source": [
    "# Halo occupation model\n",
    "\n",
    "The occupation number of the halos is parametrized by \n",
    "\n",
    "$<N_{cen}(M)> = \\frac{1}{2} [1+\\text{erf} (\\frac{\\log M - \\log M_{min}} {\\sigma_{\\log M}})] $\n",
    "\n",
    "whose shape can be plotted as the following"
   ]
  },
  {
   "cell_type": "code",
   "execution_count": 22,
   "id": "e8fd14d1-1991-46f3-8455-bb435b2d69d4",
   "metadata": {},
   "outputs": [
    {
     "name": "stderr",
     "output_type": "stream",
     "text": [
      "<ipython-input-22-761f299786ce>:2: RuntimeWarning: divide by zero encountered in log\n",
      "  return 0.5*(1+scipy.special.erf(np.log(M)/0.6))\n"
     ]
    },
    {
     "data": {
      "text/plain": [
       "[<matplotlib.lines.Line2D at 0x2aab520b7100>]"
      ]
     },
     "execution_count": 22,
     "metadata": {},
     "output_type": "execute_result"
    },
    {
     "data": {
      "image/png": "[encoded data removed]",
      "text/plain": [
       "<Figure size 432x288 with 1 Axes>"
      ]
     },
     "metadata": {
      "needs_background": "light"
     },
     "output_type": "display_data"
    }
   ],
   "source": [
    "def N_cen(M):\n",
    "    return 0.5*(1+scipy.special.erf(np.log(M)/0.6))\n",
    "\n",
    "x = np.linspace(0,2,1000)\n",
    "y = N_cen(x)\n",
    "\n",
    "plt.plot(x,y)"
   ]
  },
  {
   "cell_type": "markdown",
   "id": "7d785e92-0139-40b3-9adf-250223f9e795",
   "metadata": {},
   "source": [
    "The mean satellite number is defined by \n",
    "$<N_{sat}(M)> = <N_{cen}(M)> (\\frac{M-M_0}{M_1})^{\\alpha}$\n",
    "\n",
    "which has a power-law shape. "
   ]
  },
  {
   "cell_type": "markdown",
   "id": "791b69e6-ddd2-4098-a7d4-3f3293429eb0",
   "metadata": {},
   "source": [
    "# Calculate Observed Halo Mass "
   ]
  },
  {
   "cell_type": "markdown",
   "id": "a7a02bb1-d1b9-4f73-aee6-ea7381c0fb74",
   "metadata": {},
   "source": [
    "From Salcedo et al. 2020. \n",
    "The cluster-mass observable relation is a linear relation with a constant lognormal scatter:\n",
    "\n",
    "$\\ln M_{obs} = \\ln M_c + \\sigma_{\\ln M_c} X $\n",
    "\n",
    "The minimal mass for a halo to host a central is $\\log M_{min} = \\log M_{min,0} + Q_{env}(R_{\\delta} - 0.5)$, in which $Q_{env}$ is the environmental dependence of galaxy occupation parameter. $R_\\delta$ is the rank of halo environmental density measured with top-hat spheres of radius $8 h^{-1} \\text{Mpc}$"
   ]
  },
  {
   "cell_type": "code",
   "execution_count": 23,
   "id": "9bbe5fc5-1ac1-447c-8077-f2acf456f966",
   "metadata": {},
   "outputs": [
    {
     "name": "stderr",
     "output_type": "stream",
     "text": [
      "usage: ipykernel_launcher.py [-h] [--siglnMc SIGLNMC] [--nc NC] [--zphot ZPHOT] [--Qsel QSEL] [--delg DELG]\n",
      "                             [--downsample_flag DOWNSAMPLE_FLAG]\n",
      "                             boxsize bin_file mock_file1 mock_file2 output_file\n",
      "ipykernel_launcher.py: error: the following arguments are required: bin_file, mock_file1, mock_file2, output_file\n"
     ]
    },
    {
     "ename": "SystemExit",
     "evalue": "2",
     "output_type": "error",
     "traceback": [
      "An exception has occurred, use %tb to see the full traceback.\n",
      "\u001b[0;31mSystemExit\u001b[0m\u001b[0;31m:\u001b[0m 2\n"
     ]
    },
    {
     "name": "stderr",
     "output_type": "stream",
     "text": [
      "/global/homes/z/zchusre/.conda/envs/desdesi/lib/python3.8/site-packages/IPython/core/interactiveshell.py:3259: UserWarning: To exit: use 'exit', 'quit', or Ctrl-D.\n",
      "  warn(\"To exit: use 'exit', 'quit', or Ctrl-D.\", stacklevel=1)\n"
     ]
    }
   ],
   "source": [
    "args = parser.parse_args()\n",
    "\n",
    "boxsize = float(args.boxsize)\n",
    "nthreads = 4\n",
    "binfile = path.abspath(str(args.bin_file))\n",
    "\n",
    "if args.siglnMc:\n",
    "  Ncluster = math.floor( (boxsize**3.0) * float(args.nc) ) #number of cluster\n",
    "  infile = h5.File(str(args.mock_file1), 'r')\n",
    "  halos = infile['halos'] \n",
    "  halos = halos[halos['mass'] > 0] #halo mass that passes M_min\n",
    "  Nh = int(len(halos)) #number of halos\n",
    "  infile.close()\n",
    "  np.random.seed(0)\n",
    "  randnorms = np.random.normal(0.0, 1.0, Nh)\n",
    "  percentiles = h5.File(str(args.delg), 'r')['halos']['percentile'] #Delta_gamma\n",
    "  halos['mass'] = np.exp( np.log(halos['mass']) + float(args.siglnMc) * randnorms + float(args.Qsel) * (percentiles - 0.5))\n",
    "  halos.sort(order='mass')\n",
    "  mock1 = halos[-Ncluster:] #only choose most massive clusters\n",
    "  dummy2 = h5.File(str(args.mock_file2), 'r')\n",
    "  mock2 = dummy2['particles']\n",
    "else:\n",
    "  dummy1 = h5.File(str(args.mock_file1), 'r')\n",
    "  mock1 = dummy1['particles']\n",
    "  dummy2 = h5.File(str(args.mock_file2), 'r')\n",
    "  mock2 = dummy2['particles']\n",
    "  if args.downsample_flag: #1/10 downsampling\n",
    "    mock1 = mock1[::10]\n",
    "    mock2 = mock2[::10]"
   ]
  },
  {
   "cell_type": "code",
   "execution_count": 3,
   "id": "cbec64e3-11bb-449e-8501-c1badf4622f6",
   "metadata": {},
   "outputs": [
    {
     "ename": "NameError",
     "evalue": "name 'mock1' is not defined",
     "output_type": "error",
     "traceback": [
      "\u001b[0;31m---------------------------------------------------------------------------\u001b[0m",
      "\u001b[0;31mNameError\u001b[0m                                 Traceback (most recent call last)",
      "Input \u001b[0;32mIn [3]\u001b[0m, in \u001b[0;36m<module>\u001b[0;34m\u001b[0m\n\u001b[0;32m----> 1\u001b[0m N1 \u001b[38;5;241m=\u001b[39m \u001b[38;5;28mlen\u001b[39m(\u001b[43mmock1\u001b[49m)\n\u001b[1;32m      2\u001b[0m N2 \u001b[38;5;241m=\u001b[39m \u001b[38;5;28mlen\u001b[39m(mock2)\n\u001b[1;32m      4\u001b[0m x1 \u001b[38;5;241m=\u001b[39m mock1[\u001b[38;5;124m'\u001b[39m\u001b[38;5;124mx\u001b[39m\u001b[38;5;124m'\u001b[39m]\u001b[38;5;241m.\u001b[39mastype(np\u001b[38;5;241m.\u001b[39mfloat32)\n",
      "\u001b[0;31mNameError\u001b[0m: name 'mock1' is not defined"
     ]
    }
   ],
   "source": [
    "N1 = len(mock1)\n",
    "N2 = len(mock2)\n",
    "\n",
    "x1 = mock1['x'].astype(np.float32)\n",
    "y1 = mock1['y'].astype(np.float32)\n",
    "\n",
    "x2 = mock2['x'].astype(np.float32)\n",
    "y2 = mock2['y'].astype(np.float32)\n",
    "\n",
    "if args.zphot:\n",
    "  z1 = mock1['zphot'].astype(np.float32)\n",
    "  z2 = mock2['zphot'].astype(np.float32)\n",
    "else:\n",
    "  z1 = mock1['z'].astype(np.float32)\n",
    "  z2 = mock2['z'].astype(np.float32)\n",
    "\n",
    "results_DD = countpairs(0, nthreads, binfile, X1=x1, Y1=y1, Z1=z1, X2=x2, Y2=y2, Z2=z2, verbose=True)[0]\n",
    "\n",
    "#print(results_DD)\n",
    "\n",
    "for i in range(0, len(results_DD)):\n",
    "  RR = N1*N2*(4.0/3.0)*np.pi*(results_DD[i][1]**3.0 - results_DD[i][0]**3.0) / boxsize**3.0\n",
    "  results_DD[i] = results_DD[i] + ((results_DD[i][3]/RR - 1.0),)\n",
    "\n",
    "#print(results_DD)\n",
    "\n",
    "outfile = open(str(args.output_file), 'w')\n",
    "\n",
    "outfile.write(\"# rmin rmax npairs xi\\n\")\n",
    "\n",
    "for bin in results_DD:\n",
    "  outfile.write(str(bin[0])+\" \"+str(bin[1])+\" \"+str(bin[3])+\" \"+str(bin[5])+\"\\n\")\n",
    "\n",
    "outfile.close()\n",
    "\n",
    "if args.siglnMc:\n",
    "  False\n",
    "else:\n",
    "  dummy1.close()\n",
    "dummy2.close()"
   ]
  },
  {
   "cell_type": "code",
   "execution_count": 1,
   "id": "61d267d8-e2d5-4cf3-bb27-c9d8522edebc",
   "metadata": {},
   "outputs": [
    {
     "data": {
      "text/plain": [
       "'/global/project/projectdirs/des/zhou/spt_lensing'"
      ]
     },
     "execution_count": 1,
     "metadata": {},
     "output_type": "execute_result"
    }
   ],
   "source": [
    "pwd"
   ]
  },
  {
   "cell_type": "code",
   "execution_count": null,
   "id": "4f2fc8f1-9e87-4e4f-903c-20c37fef5c5f",
   "metadata": {},
   "outputs": [],
   "source": []
  }
 ],
 "metadata": {
  "kernelspec": {
   "display_name": "DESDESI",
   "language": "python",
   "name": "desdesi"
  },
  "language_info": {
   "codemirror_mode": {
    "name": "ipython",
    "version": 3
   },
   "file_extension": ".py",
   "mimetype": "text/x-python",
   "name": "python",
   "nbconvert_exporter": "python",
   "pygments_lexer": "ipython3",
   "version": "3.8.3"
  }
 },
 "nbformat": 4,
 "nbformat_minor": 5
}
