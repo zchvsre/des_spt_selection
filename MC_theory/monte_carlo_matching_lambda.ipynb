{
 "cells": [
  {
   "cell_type": "code",
   "execution_count": 1,
   "metadata": {},
   "outputs": [],
   "source": [
    "import numpy as np\n",
    "import matplotlib.pyplot as plt\n",
    "import os"
   ]
  },
  {
   "cell_type": "code",
   "execution_count": 2,
   "metadata": {
    "id": "WrhALXUbAwaa"
   },
   "outputs": [
    {
     "name": "stdout",
     "output_type": "stream",
     "text": [
      "[('id', '<i8'), ('parent_id', '<i8'), ('pos', '<f4', (3,)), ('vel', '<f4', (3,)), ('corevel', '<f4', (3,)), ('bulkvel', '<f4', (3,)), ('m', '<f4'), ('m_SO', '<f4'), ('r', '<f4'), ('child_r', '<f4'), ('vmax_r', '<f4'), ('mgrav', '<f4'), ('vmax', '<f4'), ('rvmax', '<f4'), ('rs', '<f4'), ('klypin_rs', '<f4'), ('vrms', '<f4'), ('J', '<f4', (3,)), ('energy', '<f4'), ('spin', '<f4'), ('alt_m', '<f4', (4,)), ('alt_m_SO', '<f4', (4,)), ('Xoff', '<f4'), ('Voff', '<f4'), ('b_to_a', '<f4'), ('c_to_a', '<f4'), ('A', '<f4', (3,)), ('b_to_a2', '<f4'), ('c_to_a2', '<f4'), ('A2', '<f4', (3,)), ('bullock_spin', '<f4'), ('kin_to_pot', '<f4'), ('m_pe_b', '<f4'), ('m_pe_d', '<f4'), ('halfmass_radius', '<f4'), ('num_p', '<i8'), ('num_child_particles', '<i8'), ('p_start', '<i8'), ('desc', '<i8'), ('flags', '<i8'), ('n_core', '<i8'), ('subsamp_start', '<i8'), ('subsamp_len', '<i8'), ('min_pos_err', '<f4'), ('min_vel_err', '<f4'), ('min_bulkvel_err', '<f4'), ('N', '<i4'), ('alt_N', '<i4', (4,)), ('N_SO', '<i4'), ('alt_N_SO', '<i4', (4,))]\n"
     ]
    }
   ],
   "source": [
    "# halo catalog\n",
    "import h5py\n",
    "project_path = \"/global/cfs/cdirs/des/zhou/spt_lensing/\"\n",
    "halo_fname = 'abacus/RShalos_allprops.hdf5'\n",
    "halo_path = os.path.join(project_path,halo_fname)\n",
    "f = h5py.File(halo_path,'r')\n",
    "halos = f['halos']\n",
    "print(halos.dtype)\n",
    "mass = halos['m'] # which mass is this?"
   ]
  },
  {
   "cell_type": "code",
   "execution_count": 16,
   "metadata": {},
   "outputs": [],
   "source": [
    "sel = mass > 1e+13 #only use the most massive halos\n",
    "#plt.hist(np.log10(mass[sel]))\n",
    "#plt.yscale('log')\n",
    "lnM = np.log(mass[sel])\n",
    "nh = len(lnM)"
   ]
  },
  {
   "cell_type": "code",
   "execution_count": 17,
   "metadata": {},
   "outputs": [],
   "source": [
    "## scaling relation\n",
    "Alam = 0.939\n",
    "Blam = 0.32\n",
    "Mpiv = 5e+14\n",
    "z = 0.3\n",
    "#lnlam_mean = lnlam0 + Alam * (lnM - np.log(Mpiv)) + Blam * np.log((1+z)/1.45)\n",
    "lnlam0 = 4.25 - Alam * np.log(Mpiv) + Blam * np.log((1+z)/1.45)\n",
    "lnlam_mean = lnlam0 + Alam * lnM\n",
    "\n",
    "lnASZ = np.log(5.24)\n",
    "BSZ = 1.534\n",
    "CSZ = 0.465\n",
    "\n",
    "# 0.161\n",
    "lnSZ_mean = lnASZ + BSZ * (lnM - np.log(4.3e+14)) + CSZ * np.log(1) # TODO\n",
    "\n",
    "import copy\n",
    "lnMwl_mean = copy.deepcopy(lnM)"
   ]
  },
  {
   "cell_type": "code",
   "execution_count": 29,
   "metadata": {},
   "outputs": [
    {
     "data": {
      "image/png": "[encoded data removed]",
      "text/plain": [
       "<Figure size 432x288 with 1 Axes>"
      ]
     },
     "metadata": {
      "needs_background": "light"
     },
     "output_type": "display_data"
    },
    {
     "data": {
      "image/png": "[encoded data removed]",
      "text/plain": [
       "<Figure size 432x288 with 1 Axes>"
      ]
     },
     "metadata": {
      "needs_background": "light"
     },
     "output_type": "display_data"
    }
   ],
   "source": [
    "## calculate local slope\n",
    "hist_data = plt.hist(lnM, alpha=0.2, bins=10)\n",
    "plt.title(\"Histogram of Halo Mass\")\n",
    "\n",
    "n = np.log(hist_data[0]) #numbers in each bin\n",
    "bins = hist_data[1] \n",
    "bins = 0.5*(bins[0:-1]+bins[1:])\n",
    "plt.figure()\n",
    "plt.plot(bins, n)\n",
    "plt.title(\"Logarithmic Number of Halos\")\n",
    "\n",
    "bin_mid = []\n",
    "slope_mid = []\n",
    "for i in range(len(bins)-1):\n",
    "    bin_mid.append(0.5*(bins[i+1] + bins[i]))\n",
    "    slope = (n[i+1] - n[i])/(bins[i+1] - bins[i])\n",
    "    slope_mid.append(-slope)\n",
    "    \n",
    "bin_mid.append(np.log(1e16))\n",
    "slope_mid.append(0)\n",
    "\n",
    "from scipy.interpolate import interp1d\n",
    "mf_slope_interp = interp1d(bin_mid, slope_mid)\n"
   ]
  },
  {
   "cell_type": "code",
   "execution_count": 30,
   "metadata": {},
   "outputs": [
    {
     "data": {
      "text/plain": [
       "array(1.44846671)"
      ]
     },
     "execution_count": 30,
     "metadata": {},
     "output_type": "execute_result"
    }
   ],
   "source": [
    "mf_slope_interp(np.log(1e+14))"
   ]
  },
  {
   "cell_type": "code",
   "execution_count": 32,
   "metadata": {},
   "outputs": [
    {
     "data": {
      "text/plain": [
       "(0.0, 5.0)"
      ]
     },
     "execution_count": 32,
     "metadata": {},
     "output_type": "execute_result"
    },
    {
     "data": {
      "image/png": "[encoded data removed]",
      "text/plain": [
       "<Figure size 432x288 with 1 Axes>"
      ]
     },
     "metadata": {
      "needs_background": "light"
     },
     "output_type": "display_data"
    }
   ],
   "source": [
    "plt.plot(np.log10(np.exp(bin_mid)),slope_mid)\n",
    "plt.xlim(13,15)\n",
    "plt.ylim(0,5)"
   ]
  },
  {
   "cell_type": "code",
   "execution_count": 26,
   "metadata": {},
   "outputs": [
    {
     "name": "stdout",
     "output_type": "stream",
     "text": [
      "[30.04556655883789, 30.15510368347168, 30.26464080810547, 30.374177932739258, 30.483715057373047, 30.593252182006836, 30.702789306640625, 30.81232452392578, 30.921863555908203, 31.03139877319336, 31.14093589782715, 31.250473022460938, 31.360010147094727, 31.469547271728516, 31.579084396362305, 31.688621520996094, 31.798158645629883, 31.907695770263672, 32.01723098754883, 32.12677001953125, 32.236305236816406, 32.34584426879883, 32.455379486083984, 32.564918518066406, 32.67445373535156, 32.783992767333984, 32.89352798461914, 33.00306701660156, 33.11260223388672, 33.22214126586914, 33.3316764831543, 33.44121551513672, 33.550750732421875, 33.66028594970703, 33.76982498168945, 33.87936019897461, 33.98889923095703, 34.09843444824219, 34.20797348022461, 34.317508697509766, 34.42704772949219, 34.536582946777344, 34.646121978759766, 34.75565719604492, 34.865196228027344, 34.9747314453125, 35.08427047729492, 35.19380569458008, 35.3033447265625, 36.841361487904734]\n"
     ]
    }
   ],
   "source": [
    "print(bin_mid)"
   ]
  },
  {
   "cell_type": "code",
   "execution_count": 7,
   "metadata": {},
   "outputs": [],
   "source": [
    "from scipy.stats import multivariate_normal\n",
    "from scipy.stats import norm"
   ]
  },
  {
   "cell_type": "code",
   "execution_count": 8,
   "metadata": {},
   "outputs": [],
   "source": [
    "class MonteCarloObservables(object):\n",
    "    def __init__(self, r, scatter_wl=0.2, scatter_lam=0.3, scatter_SZ=0.151):\n",
    "        self.r = r\n",
    "        self.scatter_wl = scatter_wl\n",
    "        self.scatter_lam = scatter_lam\n",
    "        self.scatter_SZ = scatter_SZ\n",
    "        #mean and covariance matrix\n",
    "        mv = multivariate_normal([0, 0], [[1, r], [r, 1]])\n",
    "        rv = mv.rvs(size=nh)\n",
    "        x = rv[:,0]\n",
    "        y = rv[:,1] #does this work? \n",
    "\n",
    "        gauss = norm(0, 1)\n",
    "        z = gauss.rvs(size=nh)\n",
    "\n",
    "        self.lnlam = lnlam_mean + scatter_lam * x\n",
    "        self.lnMwl = lnMwl_mean + scatter_wl * y\n",
    "        self.lnSZ = lnSZ_mean + scatter_SZ * z\n",
    "\n",
    "        \n",
    "    def selecting_lambda_matching_mass(self, lnlam_min=np.log(20), lnlam_max=np.log(30)):\n",
    "        sel = (self.lnlam > lnlam_min)&(self.lnlam < lnlam_max) # select on a lambda bin\n",
    "        lnMwl_sel = np.mean(self.lnMwl[sel]) # calculate the mean Mwl in the lambda bin\n",
    "\n",
    "        lnM_sel = lnM[sel] # calculate the mean M500c in the lambda bin \n",
    "        nbins = 100\n",
    "        lnMbins = np.linspace(min(lnM_sel)-0.1, max(lnM_sel)+0.1, nbins+1) #divide up the selected M500c bin\n",
    "\n",
    "        lnMwl_weighted = 0 # empty variable\n",
    "        \n",
    "        for i in range(nbins):\n",
    "            lnMmin = lnMbins[i]  #Mbin min\n",
    "            lnMmax = lnMbins[i+1] #Mbin max\n",
    "            sel2 = (lnM_sel >= lnMmin)&(lnM_sel < lnMmax) # Mbin amsk\n",
    "            weight = len(lnM_sel[sel2])/len(lnM_sel) # mass PDF of halos selected on richness\n",
    "            \n",
    "            if weight > 0:\n",
    "                sel3 = (lnM >= lnMmin)&(lnM < lnMmax) \n",
    "                lnMwl_weighted += np.mean(self.lnMwl[sel3]) * weight #weighted real Mwl\n",
    "\n",
    "        theory = self.r * self.scatter_wl * (self.lnlam - lnlam_mean)/self.scatter_lam \n",
    "        theory = np.mean(theory[sel])\n",
    "\n",
    "        return lnMwl_sel-lnMwl_weighted, theory  \n",
    "    \n",
    "\n",
    "    def selecting_lambda_matching_SZ(self, lnlam_min=np.log(20), lnlam_max=np.log(30)):\n",
    "        sel = (self.lnlam > lnlam_min)&(self.lnlam < lnlam_max)\n",
    "        lnMwl_sel = np.mean(self.lnMwl[sel])\n",
    "\n",
    "        lnSZ_sel = self.lnSZ[sel]\n",
    "        nbins = 100\n",
    "        lnSZbins = np.linspace(min(lnSZ_sel)-0.1, max(lnSZ_sel)+0.1, nbins+1)\n",
    "\n",
    "        lnMwl_weighted = 0\n",
    "        for i in range(nbins):\n",
    "            lnSZmin = lnSZbins[i]\n",
    "            lnSZmax = lnSZbins[i+1]\n",
    "            sel2 = (lnSZ_sel >= lnSZmin)&(lnSZ_sel < lnSZmax) # lambda selected\n",
    "            weight = len(lnSZ_sel[sel2])/len(lnSZ_sel)\n",
    "            if weight > 0:\n",
    "                sel3 = (self.lnSZ >= lnSZmin)&(self.lnSZ < lnSZmax) # all lambda\n",
    "                lnMwl_weighted += np.mean(self.lnMwl[sel3]) * weight\n",
    "\n",
    "        theory = self.r * self.scatter_wl * (self.lnlam - lnlam_mean)/self.scatter_lam \n",
    "        beta = 1.77 # slope at 1e14 #TODO\n",
    "        theory = np.mean(theory[sel]) + beta * (self.scatter_SZ / BSZ)**2 \n",
    "\n",
    "        return lnMwl_sel-lnMwl_weighted, theory  \n",
    "        \n",
    "    def selecting_SZ_matching_lambda(self, SZ_cut=np.log(4)): \n",
    "        sel = (self.lnSZ > SZ_cut)\n",
    "        lnMwl_sel = np.mean(self.lnMwl[sel])\n",
    "\n",
    "        lnlam_sel = self.lnlam[sel]\n",
    "        nbins = 100\n",
    "        lnlam_bins = np.linspace(min(lnlam_sel)-0.1, max(lnlam_sel)+0.1, nbins+1)\n",
    "\n",
    "        lnMwl_weighted = 0\n",
    "        mean_mass_theory = 0 # make pred one bin at a time\n",
    "\n",
    "        for i in range(nbins):\n",
    "            lnlam_min = lnlam_bins[i]\n",
    "            lnlam_max = lnlam_bins[i+1]\n",
    "            sel2 = (lnlam_sel >= lnlam_min)&(lnlam_sel < lnlam_max)\n",
    "            weight = len(lnlam_sel[sel2])/len(lnlam_sel)\n",
    "            if weight > 0:\n",
    "                sel3 = (self.lnlam >= lnlam_min)&(self.lnlam < lnlam_max)\n",
    "                lnMwl_weighted += np.mean(self.lnMwl[sel3]) * weight\n",
    "        \n",
    "#                 lnM_expected = (self.lnlam[sel3]-lnlam0) / Alam\n",
    "#                 beta = mf_slope_interp(lnM_expected)\n",
    "#                 pred = lnM_expected - beta * (self.scatter_lam / Alam)**2 \n",
    "#                 pred = np.mean(pred)\n",
    "#                 mean_mass_theory += pred * weight\n",
    "\n",
    "        theory = self.r * self.scatter_wl * (self.lnlam - lnlam_mean)/self.scatter_lam \n",
    "        beta = 1.77 # slope at 1e14 #TODO\n",
    "        theory = np.mean(theory[sel]) + beta * (self.scatter_lam / Alam)**2 \n",
    "        #theory = -np.mean(theory[sel]) + beta * (self.scatter_SZ / BSZ)**2 \n",
    "\n",
    "                \n",
    "        return lnMwl_sel, lnMwl_weighted, theory # TODO: This theory doesn't work  "
   ]
  },
  {
   "cell_type": "code",
   "execution_count": 9,
   "metadata": {},
   "outputs": [
    {
     "name": "stderr",
     "output_type": "stream",
     "text": [
      "/global/homes/z/zchusre/.conda/envs/spt_selection/lib/python3.9/site-packages/numpy/core/fromnumeric.py:3474: RuntimeWarning: Mean of empty slice.\n",
      "  return _methods._mean(a, axis=axis, dtype=dtype,\n",
      "/global/homes/z/zchusre/.conda/envs/spt_selection/lib/python3.9/site-packages/numpy/core/_methods.py:189: RuntimeWarning: invalid value encountered in double_scalars\n",
      "  ret = ret.dtype.type(ret / rcount)\n"
     ]
    },
    {
     "ename": "ValueError",
     "evalue": "min() arg is an empty sequence",
     "output_type": "error",
     "traceback": [
      "\u001b[0;31m---------------------------------------------------------------------------\u001b[0m",
      "\u001b[0;31mValueError\u001b[0m                                Traceback (most recent call last)",
      "Input \u001b[0;32mIn [9]\u001b[0m, in \u001b[0;36m<cell line: 8>\u001b[0;34m()\u001b[0m\n\u001b[1;32m      8\u001b[0m \u001b[38;5;28;01mfor\u001b[39;00m ir \u001b[38;5;129;01min\u001b[39;00m \u001b[38;5;28mrange\u001b[39m(nr):\n\u001b[1;32m      9\u001b[0m     mco \u001b[38;5;241m=\u001b[39m MonteCarloObservables(rlist[ir])\n\u001b[0;32m---> 10\u001b[0m     lnMwl_sel, lnMwl_weighted, lnMwl_theory \u001b[38;5;241m=\u001b[39m \u001b[43mmco\u001b[49m\u001b[38;5;241;43m.\u001b[39;49m\u001b[43mselecting_SZ_matching_lambda\u001b[49m\u001b[43m(\u001b[49m\u001b[43m)\u001b[49m\n\u001b[1;32m     11\u001b[0m     lnMwl_sel_list[ir] \u001b[38;5;241m=\u001b[39m lnMwl_sel\n\u001b[1;32m     12\u001b[0m     lnMwl_weighted_list[ir] \u001b[38;5;241m=\u001b[39m lnMwl_weighted\n",
      "Input \u001b[0;32mIn [8]\u001b[0m, in \u001b[0;36mMonteCarloObservables.selecting_SZ_matching_lambda\u001b[0;34m(self, SZ_cut)\u001b[0m\n\u001b[1;32m     75\u001b[0m lnlam_sel \u001b[38;5;241m=\u001b[39m \u001b[38;5;28mself\u001b[39m\u001b[38;5;241m.\u001b[39mlnlam[sel]\n\u001b[1;32m     76\u001b[0m nbins \u001b[38;5;241m=\u001b[39m \u001b[38;5;241m100\u001b[39m\n\u001b[0;32m---> 77\u001b[0m lnlam_bins \u001b[38;5;241m=\u001b[39m np\u001b[38;5;241m.\u001b[39mlinspace(\u001b[38;5;28;43mmin\u001b[39;49m\u001b[43m(\u001b[49m\u001b[43mlnlam_sel\u001b[49m\u001b[43m)\u001b[49m\u001b[38;5;241m-\u001b[39m\u001b[38;5;241m0.1\u001b[39m, \u001b[38;5;28mmax\u001b[39m(lnlam_sel)\u001b[38;5;241m+\u001b[39m\u001b[38;5;241m0.1\u001b[39m, nbins\u001b[38;5;241m+\u001b[39m\u001b[38;5;241m1\u001b[39m)\n\u001b[1;32m     79\u001b[0m lnMwl_weighted \u001b[38;5;241m=\u001b[39m \u001b[38;5;241m0\u001b[39m\n\u001b[1;32m     80\u001b[0m mean_mass_theory \u001b[38;5;241m=\u001b[39m \u001b[38;5;241m0\u001b[39m \u001b[38;5;66;03m# make pred one bin at a time\u001b[39;00m\n",
      "\u001b[0;31mValueError\u001b[0m: min() arg is an empty sequence"
     ]
    }
   ],
   "source": [
    "## selecting on SZ, matching lambda ## NOT WORKING\n",
    "nr = 10\n",
    "rlist = np.linspace(0, 0.99, nr)\n",
    "lnMwl_sel_list = np.zeros(nr)\n",
    "lnMwl_weighted_list = np.zeros(nr)\n",
    "lnMwl_theory_list = np.zeros(nr)\n",
    "\n",
    "for ir in range(nr):\n",
    "    mco = MonteCarloObservables(rlist[ir])\n",
    "    lnMwl_sel, lnMwl_weighted, lnMwl_theory = mco.selecting_SZ_matching_lambda()\n",
    "    lnMwl_sel_list[ir] = lnMwl_sel\n",
    "    lnMwl_weighted_list[ir] = lnMwl_weighted\n",
    "    lnMwl_theory_list[ir] = lnMwl_theory\n",
    "\n",
    "fig = plt.figure(figsize=(10,7))\n",
    "\n",
    "plt.plot(rlist, lnMwl_sel_list - lnMwl_weighted_list, label='numerical')\n",
    "#plt.plot(rlist, lnMwl_theory_list, label='theory')\n",
    "\n",
    "plt.xlabel('r')\n",
    "plt.ylabel(r'frac diff in $\\rm M_{wl}$')\n",
    "plt.title(r'$\\rm \\sigma_{wl}=0.1, \\sigma_{\\lambda}=0.3,  \\sigma_{SZ}=0.15$')"
   ]
  },
  {
   "cell_type": "markdown",
   "metadata": {},
   "source": [
    "## selecting $\\lambda$, matching mass"
   ]
  },
  {
   "cell_type": "code",
   "execution_count": null,
   "metadata": {},
   "outputs": [],
   "source": [
    "nr = 10\n",
    "rlist = np.linspace(0, 0.99, nr)\n",
    "diff_obs_list = np.zeros(nr)\n",
    "diff_theory_list = np.zeros(nr)\n",
    "\n",
    "for ir in range(nr):\n",
    "    mco = MonteCarloObservables(rlist[ir])\n",
    "    diff_obs_list[ir], diff_theory_list[ir] = mco.selecting_lambda_matching_mass()\n",
    "\n",
    "import matplotlib.gridspec as gridspec\n",
    "fig = plt.figure(figsize=(10,7))\n",
    "gs = gridspec.GridSpec(2, 1, height_ratios=[4,1], wspace=0, hspace=0)\n",
    "ax1 = plt.subplot(gs[0])\n",
    "ax2 = plt.subplot(gs[1])\n",
    "\n",
    "ax1.plot(rlist, diff_obs_list, label='numerical')\n",
    "ax1.plot(rlist, diff_theory_list, label='theory')\n",
    "ax1.set_ylabel(r'$\\rm lnM_{wl}$ bias')\n",
    "ax1.legend()\n",
    "ax1.set_title(r'selecting $\\lambda$, matching mass')\n",
    "\n",
    "diff_diff = diff_obs_list - diff_theory_list\n",
    "ax2.plot(rlist, diff_diff)\n",
    "ax2.axhline(0, c='gray', ls='--')\n",
    "ax2.set_xlabel('r')\n",
    "ax2.set_ylabel('diff')\n",
    "ax2.set_ylim(-max(abs(diff_diff))*2, max(abs(diff_diff))*2)\n",
    "plt.show()"
   ]
  },
  {
   "cell_type": "markdown",
   "metadata": {},
   "source": [
    "## selecting $\\lambda$, matching SZ"
   ]
  },
  {
   "cell_type": "code",
   "execution_count": null,
   "metadata": {},
   "outputs": [],
   "source": [
    "nr = 10\n",
    "rlist = np.linspace(0, 0.99, nr)\n",
    "diff_obs_list = np.zeros(nr)\n",
    "diff_theory_list = np.zeros(nr)\n",
    "\n",
    "for ir in range(nr):\n",
    "    mco = MonteCarloObservables(rlist[ir])\n",
    "    diff_obs_list[ir], diff_theory_list[ir] = mco.selecting_lambda_matching_SZ()\n",
    "\n",
    "import matplotlib.gridspec as gridspec\n",
    "fig = plt.figure(figsize=(10,7))\n",
    "gs = gridspec.GridSpec(2, 1, height_ratios=[4,1], wspace=0, hspace=0)\n",
    "ax1 = plt.subplot(gs[0])\n",
    "ax2 = plt.subplot(gs[1])\n",
    "\n",
    "ax1.plot(rlist, diff_obs_list, label='numerical')\n",
    "ax1.plot(rlist, diff_theory_list, label='theory')\n",
    "ax1.set_ylabel(r'$\\rm lnM_{wl}$ bias')\n",
    "ax1.legend()\n",
    "ax1.set_title(r'selecting $\\lambda$, matching SZ')\n",
    "\n",
    "diff_diff = diff_obs_list - diff_theory_list\n",
    "ax2.plot(rlist, diff_diff)\n",
    "ax2.axhline(0, c='gray', ls='--')\n",
    "ax2.set_xlabel('r')\n",
    "ax2.set_ylabel('diff')\n",
    "ax2.set_ylim(-max(abs(diff_diff))*2, max(abs(diff_diff))*2)\n",
    "plt.show()"
   ]
  },
  {
   "cell_type": "code",
   "execution_count": 2,
   "metadata": {},
   "outputs": [
    {
     "data": {
      "text/plain": [
       "1.6487212707001282"
      ]
     },
     "execution_count": 2,
     "metadata": {},
     "output_type": "execute_result"
    }
   ],
   "source": [
    "import numpy as np\n",
    "np.exp(0.5)"
   ]
  },
  {
   "cell_type": "code",
   "execution_count": 3,
   "metadata": {},
   "outputs": [
    {
     "data": {
      "text/plain": [
       "32.23619130191664"
      ]
     },
     "execution_count": 3,
     "metadata": {},
     "output_type": "execute_result"
    }
   ],
   "source": [
    "np.log(1E14)"
   ]
  },
  {
   "cell_type": "code",
   "execution_count": null,
   "metadata": {},
   "outputs": [],
   "source": []
  }
 ],
 "metadata": {
  "kernelspec": {
   "display_name": "spt_selection",
   "language": "python",
   "name": "spt_selection"
  },
  "language_info": {
   "codemirror_mode": {
    "name": "ipython",
    "version": 3
   },
   "file_extension": ".py",
   "mimetype": "text/x-python",
   "name": "python",
   "nbconvert_exporter": "python",
   "pygments_lexer": "ipython3",
   "version": "3.9.12"
  }
 },
 "nbformat": 4,
 "nbformat_minor": 4
}
