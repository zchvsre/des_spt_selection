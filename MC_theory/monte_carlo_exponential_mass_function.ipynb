{
 "cells": [
  {
   "cell_type": "code",
   "execution_count": 72,
   "metadata": {},
   "outputs": [],
   "source": [
    "import numpy as np\n",
    "import matplotlib.pyplot as plt"
   ]
  },
  {
   "cell_type": "code",
   "execution_count": 73,
   "metadata": {},
   "outputs": [],
   "source": [
    "# import h5py\n",
    "# halo_fname = 'RShalos_allprops.hdf5'\n",
    "# f = h5py.File(halo_fname,'r')\n",
    "# halos = f['halos']\n",
    "# #print(halos.dtype)\n",
    "# mass = halos['m'] # which mass is this?\n",
    "# sel = mass > 1e+13\n",
    "# lnM = np.log(mass[sel])\n",
    "# beta = 2 "
   ]
  },
  {
   "cell_type": "markdown",
   "metadata": {},
   "source": [
    "# Define exponential mass function\n",
    "\n",
    "$n_{1}(\\mu)=A e^{-\\beta_{1} \\mu}$\n",
    "\n",
    "$\\beta = 1.6$\n",
    "$M_p = 1E12$"
   ]
  },
  {
   "cell_type": "code",
   "execution_count": 74,
   "metadata": {},
   "outputs": [],
   "source": [
    "from scipy.stats import expon\n",
    "beta = 1.6\n",
    "lnM = expon.rvs(loc=np.log(1e12), scale=1/beta, size=10**8)\n",
    "lnM = lnM[lnM > np.log(1e13)]"
   ]
  },
  {
   "cell_type": "code",
   "execution_count": 75,
   "metadata": {},
   "outputs": [
    {
     "name": "stdout",
     "output_type": "stream",
     "text": [
      "29.933606355598368 39.24298484251779\n"
     ]
    }
   ],
   "source": [
    "print(min(lnM), max(lnM))"
   ]
  },
  {
   "cell_type": "code",
   "execution_count": 76,
   "metadata": {},
   "outputs": [
    {
     "data": {
      "text/plain": [
       "Text(0, 0.5, 'Count')"
      ]
     },
     "execution_count": 76,
     "metadata": {},
     "output_type": "execute_result"
    },
    {
     "data": {
      "image/png": "[encoded data removed]",
      "text/plain": [
       "<Figure size 432x288 with 1 Axes>"
      ]
     },
     "metadata": {
      "needs_background": "light"
     },
     "output_type": "display_data"
    }
   ],
   "source": [
    "bins = np.linspace(min(lnM), max(lnM), 20)\n",
    "plt.hist(lnM, alpha=0.5, label='exp', bins=bins)\n",
    "plt.xlabel(\"$\\ln M$ [Solar Mass]\")\n",
    "plt.ylabel(\"Count\")\n",
    "# plt.hist(lnM_real, density=True, alpha=0.5, label='HMF', bins=bins)\n",
    "# plt.legend()\n",
    "# plt.yscale('log')"
   ]
  },
  {
   "cell_type": "code",
   "execution_count": 77,
   "metadata": {},
   "outputs": [
    {
     "name": "stdout",
     "output_type": "stream",
     "text": [
      "1.7188694225033396 10755.506784509344\n"
     ]
    },
    {
     "data": {
      "text/plain": [
       "(array([2.516232e+06, 3.800000e+01, 5.000000e+00, 3.000000e+00,\n",
       "        0.000000e+00, 0.000000e+00, 1.000000e+00, 0.000000e+00,\n",
       "        0.000000e+00, 2.000000e+00]),\n",
       " array([1.71886942e+00, 1.07709766e+03, 2.15247645e+03, 3.22785524e+03,\n",
       "        4.30323404e+03, 5.37861283e+03, 6.45399162e+03, 7.52937041e+03,\n",
       "        8.60474920e+03, 9.68012799e+03, 1.07555068e+04]),\n",
       " <BarContainer object of 10 artists>)"
      ]
     },
     "execution_count": 77,
     "metadata": {},
     "output_type": "execute_result"
    },
    {
     "data": {
      "image/png": "[encoded data removed]",
      "text/plain": [
       "<Figure size 432x288 with 1 Axes>"
      ]
     },
     "metadata": {
      "needs_background": "light"
     },
     "output_type": "display_data"
    }
   ],
   "source": [
    "#richness scaling relation\n",
    "Alam = 0.939\n",
    "Blam = 0.32\n",
    "Mpiv = 5e+14\n",
    "z = 0.3\n",
    "lnlam0 = 4.25 - Alam * np.log(Mpiv) + Blam * np.log((1+z)/1.45)\n",
    "\n",
    "lnlam_mean = lnlam0 + Alam * lnM\n",
    "print(min(np.exp(lnlam_mean)), max(np.exp(lnlam_mean)))\n",
    "# there are several very big ones because of the exponential distribution\n",
    "\n",
    "bins = np.linspace(min(np.exp(lnlam_mean)), max(np.exp(lnlam_mean)),20)\n",
    "plt.hist(np.exp(lnlam_mean))"
   ]
  },
  {
   "cell_type": "code",
   "execution_count": 78,
   "metadata": {},
   "outputs": [],
   "source": [
    "#SZ scaling relation\n",
    "lnASZ = np.log(5.24)\n",
    "BSZ = 1.534\n",
    "CSZ = 0.465\n",
    "\n",
    "# 0.161\n",
    "lnSZ_mean = lnASZ + BSZ * (lnM - np.log(4.3e+14)) + CSZ * np.log(1) # TODO"
   ]
  },
  {
   "cell_type": "code",
   "execution_count": 79,
   "metadata": {},
   "outputs": [],
   "source": [
    "import copy\n",
    "lnMwl_mean = copy.deepcopy(lnM)\n",
    "nh = len(lnM)\n",
    "from scipy.stats import multivariate_normal\n",
    "from scipy.stats import norm"
   ]
  },
  {
   "cell_type": "markdown",
   "metadata": {},
   "source": [
    "# MonteCarlo\n",
    "\n",
    "First, Monte Carlo from the covariance matrix and the mean. How does this work? \n",
    "\n",
    "Second, define a narrow richness bin to mimic the distribution of halo mass given richness. The expectation value given no correlation should be \n",
    "$$\\frac{\\lambda-\\pi_{\\lambda}}{\\alpha_{\\lambda}}$$\n",
    "\n",
    "But the downward correction is \n",
    "$$-(\\frac{\\sigma_\\lambda}{\\alpha})^2 \\beta$$\n",
    "\n",
    "Third, "
   ]
  },
  {
   "cell_type": "code",
   "execution_count": 80,
   "metadata": {},
   "outputs": [],
   "source": [
    "class MonteCarloObservables(object):\n",
    "    def __init__(self, r, scatter_wl=0.2, scatter_lam=0.3, scatter_SZ=0.151):\n",
    "        self.r = r\n",
    "        self.scatter_wl = scatter_wl\n",
    "        self.scatter_lam = scatter_lam\n",
    "        self.scatter_SZ = scatter_SZ\n",
    "        mv = multivariate_normal([0, 0], [[1, r], [r, 1]])\n",
    "        rv = mv.rvs(size=nh)\n",
    "        x = rv[:,0]\n",
    "        y = rv[:,1] \n",
    "        \n",
    "        gauss = norm(0,1)\n",
    "        z = gauss.rvs(size=nh)\n",
    " \n",
    "        self.lnlam = lnlam_mean + scatter_lam * x\n",
    "        self.lnMwl = lnMwl_mean + scatter_wl * y\n",
    "        self.lnSZ = lnSZ_mean = scatter_SZ * z \n",
    "    \n",
    "    \n",
    "    def calculate_diff_mean_halomass_given_lambda(self, lnlam_min = np.log(20), lnlam_max = np.log(21)):        \n",
    "        \n",
    "        sel3 = (self.lnlam >= lnlam_min)&(self.lnlam < lnlam_max)\n",
    "        mean_mass_numerical = np.mean(self.lnMwl[sel3])\n",
    "    \n",
    "        # Evrard equation.\n",
    "        lnM_expected = (self.lnlam[sel3]-lnlam0) / Alam # expectation of no scatter\n",
    "        mean_mass_theory = np.mean(lnM_expected - beta * (self.scatter_lam / Alam)**2)\n",
    "\n",
    "        return mean_mass_numerical - mean_mass_theory\n",
    "    \n",
    "\n",
    "    def mass_selection_matching_lambda(self, lnM_min=np.log(1e14), lnM_max=np.log(1.1e14)):\n",
    "        \n",
    "        sel = (lnM > lnM_min)&(lnM < lnM_max) #Selecting on mass \n",
    "        lnM_sel = np.mean(lnM[sel]) #the true halo mass \n",
    "\n",
    "        lnlam_sel = self.lnlam[sel] #richness of the halos selected\n",
    "        \n",
    "        nbins = 100\n",
    "        lnlam_bins = np.linspace(min(lnlam_sel)-0.1, max(lnlam_sel)+0.1, nbins+1) \n",
    "        #very narrow lambda bins\n",
    "\n",
    "        lnM_weighted = 0 #initialize empty variable\n",
    "        mean_mass_theory = 0 # make prediction one bin at a time\n",
    "        \n",
    "        for i in range(nbins):\n",
    "            #define edges of the richness bin\n",
    "            lnlam_min = lnlam_bins[i]\n",
    "            lnlam_max = lnlam_bins[i+1]\n",
    "            \n",
    "            \n",
    "            #lambda selection to calculate the weight\n",
    "            sel2 = (lnlam_sel >= lnlam_min)&(lnlam_sel < lnlam_max)\n",
    "            weight = len(lnlam_sel[sel2])/len(lnlam_sel)\n",
    "            \n",
    "            if weight > 0:\n",
    "                \n",
    "                #Calculate the mean mass weighted by \n",
    "                sel3 = (self.lnlam >= lnlam_min)&(self.lnlam < lnlam_max)\n",
    "                lnM_weighted += np.mean(lnM[sel3]) * weight\n",
    "                \n",
    "                \n",
    "                #Calculate the theoretical mean mass \n",
    "                lnM_expected = np.mean((self.lnlam[sel3]-lnlam0) / Alam)\n",
    "                pred = lnM_expected - beta * (self.scatter_lam / Alam)**2 \n",
    "                mean_mass_theory += pred * weight\n",
    "                \n",
    "        return lnM_weighted - mean_mass_theory"
   ]
  },
  {
   "cell_type": "markdown",
   "metadata": {},
   "source": [
    "## selecting on a lambda bin"
   ]
  },
  {
   "cell_type": "code",
   "execution_count": 81,
   "metadata": {},
   "outputs": [],
   "source": [
    "mco = MonteCarloObservables(0, scatter_lam=0.2, scatter_wl=0)"
   ]
  },
  {
   "cell_type": "code",
   "execution_count": 82,
   "metadata": {},
   "outputs": [],
   "source": [
    "nlam = 20\n",
    "lam_bin_list = np.linspace(np.log(20), np.log(100), nlam+1)\n",
    "diff_list = np.zeros(nlam)\n",
    "for i in range(nlam):\n",
    "    diff_list[i] = mco.calculate_diff_mean_halomass_given_lambda(lam_bin_list[i], lam_bin_list[i+1]) #+np.log(2)\n",
    "\n",
    "lam_bin_mid = (lam_bin_list[0:-1] + lam_bin_list[1:]) / 2."
   ]
  },
  {
   "cell_type": "code",
   "execution_count": 83,
   "metadata": {},
   "outputs": [
    {
     "data": {
      "text/plain": [
       "Text(0, 0.5, '$\\\\rm \\\\langle ln M\\\\rangle$ numerical - thoery')"
      ]
     },
     "execution_count": 83,
     "metadata": {},
     "output_type": "execute_result"
    },
    {
     "data": {
      "image/png": "[encoded data removed]",
      "text/plain": [
       "<Figure size 720x504 with 1 Axes>"
      ]
     },
     "metadata": {
      "needs_background": "light"
     },
     "output_type": "display_data"
    }
   ],
   "source": [
    "plt.figure(figsize=(10,7))\n",
    "plt.semilogx(np.exp(lam_bin_mid), diff_list, 'o-')\n",
    "plt.axhline(0, c='gray')\n",
    "plt.xlabel(r'$\\lambda$ bin')\n",
    "plt.ylabel(r'$\\rm \\langle ln M\\rangle$ numerical - thoery')"
   ]
  },
  {
   "cell_type": "markdown",
   "metadata": {},
   "source": [
    "## selection on a mass bin, matching lambda"
   ]
  },
  {
   "cell_type": "code",
   "execution_count": 84,
   "metadata": {},
   "outputs": [],
   "source": [
    "mco = MonteCarloObservables(0, scatter_lam=0.2, scatter_wl=0)\n",
    "nM = 20\n",
    "lnM_bin_list = np.linspace(np.log(5e13), np.log(1e+15), nlam+1)\n",
    "diff_list = np.zeros(nM)\n",
    "for i in range(nM):\n",
    "    diff_list[i] = mco.mass_selection_matching_lambda(lnM_bin_list[i], lnM_bin_list[i+1])"
   ]
  },
  {
   "cell_type": "code",
   "execution_count": 85,
   "metadata": {},
   "outputs": [
    {
     "data": {
      "text/plain": [
       "Text(0, 0.5, '$\\\\rm \\\\langle ln M\\\\rangle$ numerical - thoery')"
      ]
     },
     "execution_count": 85,
     "metadata": {},
     "output_type": "execute_result"
    },
    {
     "data": {
      "image/png": "[encoded data removed]",
      "text/plain": [
       "<Figure size 720x504 with 1 Axes>"
      ]
     },
     "metadata": {
      "needs_background": "light"
     },
     "output_type": "display_data"
    }
   ],
   "source": [
    "plt.figure(figsize=(10,7))\n",
    "lnM_bin_mid = (lnM_bin_list[0:-1] + lnM_bin_list[1:]) / 2.\n",
    "plt.semilogx(np.exp(lnM_bin_mid), diff_list, 'o-')\n",
    "plt.axhline(0, c='gray')\n",
    "plt.xlabel(r'M bin')\n",
    "plt.ylabel(r'$\\rm \\langle ln M\\rangle$ numerical - thoery')"
   ]
  },
  {
   "cell_type": "code",
   "execution_count": 12,
   "metadata": {},
   "outputs": [],
   "source": [
    "import numpy as np\n",
    "import matplotlib.pyplot as plt"
   ]
  },
  {
   "cell_type": "code",
   "execution_count": 7,
   "metadata": {},
   "outputs": [],
   "source": [
    "x = np.logspace(1,10,10)"
   ]
  },
  {
   "cell_type": "code",
   "execution_count": 21,
   "metadata": {},
   "outputs": [],
   "source": [
    "y = 2*x + 1E10"
   ]
  },
  {
   "cell_type": "code",
   "execution_count": 22,
   "metadata": {},
   "outputs": [
    {
     "data": {
      "text/plain": [
       "<matplotlib.collections.PathCollection at 0x15551ae59c40>"
      ]
     },
     "execution_count": 22,
     "metadata": {},
     "output_type": "execute_result"
    },
    {
     "data": {
      "image/png": "[encoded data removed]",
      "text/plain": [
       "<Figure size 432x288 with 1 Axes>"
      ]
     },
     "metadata": {
      "needs_background": "light"
     },
     "output_type": "display_data"
    }
   ],
   "source": [
    "plt.scatter(x,y)"
   ]
  },
  {
   "cell_type": "code",
   "execution_count": 23,
   "metadata": {},
   "outputs": [
    {
     "data": {
      "image/png": "[encoded data removed]",
      "text/plain": [
       "<Figure size 432x288 with 1 Axes>"
      ]
     },
     "metadata": {
      "needs_background": "light"
     },
     "output_type": "display_data"
    }
   ],
   "source": [
    "plt.scatter(x,y)\n",
    "plt.xscale('log')\n",
    "plt.yscale('log')"
   ]
  },
  {
   "cell_type": "code",
   "execution_count": null,
   "metadata": {},
   "outputs": [],
   "source": []
  }
 ],
 "metadata": {
  "kernelspec": {
   "display_name": "spt_selection",
   "language": "python",
   "name": "spt_selection"
  },
  "language_info": {
   "codemirror_mode": {
    "name": "ipython",
    "version": 3
   },
   "file_extension": ".py",
   "mimetype": "text/x-python",
   "name": "python",
   "nbconvert_exporter": "python",
   "pygments_lexer": "ipython3",
   "version": "3.9.12"
  }
 },
 "nbformat": 4,
 "nbformat_minor": 4
}
