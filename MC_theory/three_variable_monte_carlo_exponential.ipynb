{
 "cells": [
  {
   "cell_type": "code",
   "execution_count": 21,
   "id": "3c96137f-98ca-4db2-af67-b7965d5126e6",
   "metadata": {},
   "outputs": [],
   "source": [
    "import numpy as np\n",
    "import matplotlib.pyplot as plt\n",
    "import pandas as pd"
   ]
  },
  {
   "cell_type": "code",
   "execution_count": 22,
   "id": "e626f7a9-a2f2-4f05-8e70-983756674352",
   "metadata": {},
   "outputs": [],
   "source": [
    "# import h5py\n",
    "# halo_fname = 'RShalos_allprops.hdf5'\n",
    "# f = h5py.File(halo_fname,'r')\n",
    "# halos = f['halos']\n",
    "# #print(halos.dtype)\n",
    "# mass = halos['m'] # which mass is this?\n",
    "# sel = mass > 1e+13\n",
    "# lnM = np.log(mass[sel])\n",
    "# beta = 2 "
   ]
  },
  {
   "cell_type": "code",
   "execution_count": 23,
   "id": "93084ae2-d5d2-4fd3-b026-625eefd543ff",
   "metadata": {},
   "outputs": [],
   "source": [
    "%run /global/project/projectdirs/des/zhou/spt_selection/header.py"
   ]
  },
  {
   "cell_type": "markdown",
   "id": "bf8c3307-1934-4667-8942-c0b7d9bcea82",
   "metadata": {
    "tags": []
   },
   "source": [
    "# Define exponential mass function\n",
    "\n",
    "$n_{1}(\\mu)=A e^{-\\beta_{1} \\mu}$\n",
    "\n",
    "$\\beta = 1.6$\n",
    "$M_p = 1E12$"
   ]
  },
  {
   "cell_type": "code",
   "execution_count": 24,
   "id": "93aad9ff-8ea9-4fd1-bacc-5b76899e3cd1",
   "metadata": {},
   "outputs": [],
   "source": [
    "from scipy.stats import expon\n",
    "beta = 1.6\n",
    "lnM = expon.rvs(loc=np.log(1e12), scale=1/beta, size=10**8)\n",
    "lnM = lnM[lnM > np.log(1e13)]"
   ]
  },
  {
   "cell_type": "code",
   "execution_count": 25,
   "id": "3ec8f996-6ebf-4feb-9726-057562e2321d",
   "metadata": {},
   "outputs": [
    {
     "name": "stdout",
     "output_type": "stream",
     "text": [
      "29.933606282971596 39.82226226203406\n"
     ]
    }
   ],
   "source": [
    "print(min(lnM), max(lnM))"
   ]
  },
  {
   "cell_type": "code",
   "execution_count": 26,
   "id": "e40d51b0-d214-4902-a6be-cb154d9d9b5c",
   "metadata": {},
   "outputs": [
    {
     "data": {
      "text/plain": [
       "Text(0, 0.5, 'Count')"
      ]
     },
     "execution_count": 26,
     "metadata": {},
     "output_type": "execute_result"
    },
    {
     "data": {
      "image/png": "[encoded data removed]",
      "text/plain": [
       "<Figure size 432x288 with 1 Axes>"
      ]
     },
     "metadata": {
      "needs_background": "light"
     },
     "output_type": "display_data"
    }
   ],
   "source": [
    "bins = np.linspace(min(lnM), max(lnM), 20)\n",
    "plt.hist(lnM, alpha=0.5, label='exp', bins=bins)\n",
    "plt.xlabel(\"$\\ln M$ [Solar Mass]\")\n",
    "plt.ylabel(\"Count\")\n",
    "# plt.hist(lnM_real, density=True, alpha=0.5, label='HMF', bins=bins)\n",
    "# plt.legend()\n",
    "# plt.yscale('log')"
   ]
  },
  {
   "cell_type": "code",
   "execution_count": 27,
   "id": "a132c9b6",
   "metadata": {},
   "outputs": [],
   "source": [
    "%run /global/project/projectdirs/des/zhou/spt_selection/header.py"
   ]
  },
  {
   "cell_type": "code",
   "execution_count": 28,
   "id": "07973ca5-a0b5-49cd-843a-1699d6ca784c",
   "metadata": {},
   "outputs": [],
   "source": [
    "import copy\n",
    "lnMwl_mean = copy.deepcopy(lnM)\n",
    "nh = len(lnM)"
   ]
  },
  {
   "cell_type": "code",
   "execution_count": 29,
   "id": "a7894875-1300-4cdc-9612-e7a099367bc3",
   "metadata": {},
   "outputs": [],
   "source": [
    "lnlam_mean = alpha_lam*lnM + pi_lam\n",
    "lnSZ_mean = alpha_SZ*lnM + pi_SZ"
   ]
  },
  {
   "cell_type": "code",
   "execution_count": 30,
   "id": "021c7e1b-cbf0-4795-b61a-26a985c78151",
   "metadata": {},
   "outputs": [],
   "source": [
    "from scipy.stats import multivariate_normal\n",
    "from scipy.stats import norm"
   ]
  },
  {
   "cell_type": "code",
   "execution_count": 31,
   "id": "3796651e-d8dc-425a-8c28-18bb0982a73c",
   "metadata": {},
   "outputs": [],
   "source": [
    "lnlam_mean = alpha_lam*lnM + pi_lam\n",
    "lnSZ_mean = alpha_SZ*lnM + pi_SZ\n",
    "\n",
    "from scipy.stats import multivariate_normal\n",
    "from scipy.stats import norm"
   ]
  },
  {
   "cell_type": "markdown",
   "id": "5b345a75-3212-4a1e-a27c-ca1eac36449f",
   "metadata": {},
   "source": [
    "# MonteCarlo\n",
    "\n",
    "First, Monte Carlo from the covariance matrix and the mean. How does this work? \n",
    "\n",
    "Second, define a narrow richness bin to mimic the distribution of halo mass given richness. The expectation value given no correlation should be \n",
    "$$\\frac{\\lambda-\\pi_{\\lambda}}{\\alpha_{\\lambda}}$$\n",
    "\n",
    "But the downward correction is \n",
    "$$-(\\frac{\\sigma_\\lambda}{\\alpha})^2 \\beta$$\n",
    "\n",
    "Third, "
   ]
  },
  {
   "cell_type": "code",
   "execution_count": 105,
   "id": "0e918211-b4cb-4097-b2d7-3fb70555c4d5",
   "metadata": {
    "tags": []
   },
   "outputs": [],
   "source": [
    "class MonteCarloObservables(object):\n",
    "    \n",
    "    def __init__(self, r, lnM, scatter_Mwl=np.nan, scatter_lam=np.nan, scatter_SZ=np.nan):\n",
    "    \n",
    "        self.r = r\n",
    "        self.scatter_Mwl = scatter_Mwl\n",
    "        self.scatter_lam = scatter_lam\n",
    "        self.scatter_SZ = scatter_SZ\n",
    "        \n",
    "        mv = multivariate_normal([0, 0], [[1, r], [r, 1]])\n",
    "        rv = mv.rvs(size=nh)\n",
    "        x = rv[:,0]\n",
    "        y = rv[:,1] \n",
    "        \n",
    "        gauss = norm(0,1)\n",
    "        z = gauss.rvs(size=nh)\n",
    " \n",
    "        self.lnlam = lnlam_mean + scatter_lam * x\n",
    "        self.lnMwl = lnMwl_mean + scatter_Mwl * y\n",
    "        self.lnSZ = lnSZ_mean + scatter_SZ * z \n",
    "    \n",
    "    def calculate_diff_mean_halomass_given_lambda(self, lnlam_min = np.log(20), lnlam_max = np.log(21)):        \n",
    "        \n",
    "        sel3 = (self.lnlam >= lnlam_min)&(self.lnlam < lnlam_max)\n",
    "        mean_mass_numerical = np.mean(self.lnMwl[sel3])\n",
    "    \n",
    "        # Evrard equation.\n",
    "        lnM_expected = (self.lnlam[sel3]-lnlam0) / Alam # expectation of no scatter\n",
    "        mean_mass_theory = np.mean(lnM_expected - beta * (self.scatter_lam / Alam)**2)\n",
    "\n",
    "        return mean_mass_numerical - mean_mass_theory\n",
    "    \n",
    "\n",
    "    def mass_selection_matching_lambda(self, lnM_min=np.log(1e14), lnM_max=np.log(1.1e14)):\n",
    "        \n",
    "        sel = (lnM > lnM_min)&(lnM < lnM_max) #Selecting on mass \n",
    "        lnM_sel = np.mean(lnM[sel]) #the true halo mass \n",
    "\n",
    "        lnlam_sel = self.lnlam[sel] #richness of the halos selected\n",
    "        \n",
    "        nbins = 100\n",
    "        lnlam_bins = np.linspace(min(lnlam_sel)-0.1, max(lnlam_sel)+0.1, nbins+1) \n",
    "        #very narrow lambda bins\n",
    "\n",
    "        lnM_weighted = 0 #initialize empty variable\n",
    "        mean_mass_theory = 0 # make prediction one bin at a time\n",
    "        \n",
    "        for i in range(nbins):\n",
    "            #define edges of the richness bin\n",
    "            lnlam_min = lnlam_bins[i]\n",
    "            lnlam_max = lnlam_bins[i+1]\n",
    "            \n",
    "            \n",
    "            #lambda selection to calculate the weight\n",
    "            sel2 = (lnlam_sel >= lnlam_min)&(lnlam_sel < lnlam_max)\n",
    "            weight = len(lnlam_sel[sel2])/len(lnlam_sel)\n",
    "            \n",
    "            if weight > 0:\n",
    "                \n",
    "                #Calculate the mean mass weighted by \n",
    "                sel3 = (self.lnlam >= lnlam_min)&(self.lnlam < lnlam_max)\n",
    "                lnM_weighted += np.mean(lnM[sel3]) * weight\n",
    "                \n",
    "                \n",
    "                #Calculate the theoretical mean mass \n",
    "                lnM_expected = np.mean((self.lnlam[sel3]-lnlam0) / Alam)\n",
    "                pred = lnM_expected - beta * (self.scatter_lam / Alam)**2 \n",
    "                mean_mass_theory += pred * weight\n",
    "                \n",
    "        return lnM_weighted - mean_mass_theory\n",
    "    \n",
    "    def TH_calculate_mean_Mwl_given_lam_SZ(self,lam,SZ,correction=True):\n",
    "        \n",
    "#         mu_lam = (lam-pi_lam)/alpha_lam\n",
    "#         mu_SZ = (SZ-pi_SZ)/alpha_SZ\n",
    "        \n",
    "#         sig_lam = scatter_lam/alpha_lam\n",
    "#         sig_SZ = scatter_SZ/alpha_SZ\n",
    "    \n",
    "#         mu_guess = (mu_lam/(sig_lam)**2 + mu_SZ/(sig_SZ)**2) / (1/sig_lam**2 + 1/sig_SZ**2)\n",
    "        \n",
    "#         if mu_guess < 30.3:\n",
    "#             beta = 1.06\n",
    "#         elif correction == True:\n",
    "#             beta = mf_slope_interp(mu_guess)\n",
    "#         else: \n",
    "#             beta= 0\n",
    "#             self.r = 0\n",
    "        \n",
    "        \n",
    "        # print(\"mu_given_SZ_lam, beta:\", mu_guess, beta)\n",
    "        \n",
    "        \n",
    "        mu_given_lam_SZ_num = (alpha_lam/self.scatter_lam**2)*(lam-pi_lam) + (alpha_SZ/self.scatter_SZ**2)*(SZ-pi_SZ) - beta\n",
    "        mu_given_lam_SZ_den = (alpha_lam/self.scatter_lam)**2 + (alpha_SZ/self.scatter_SZ)**2\n",
    "        mu_given_lam_SZ = mu_given_lam_SZ_num/mu_given_lam_SZ_den\n",
    "\n",
    "        mu_given_lam = (lam - pi_lam)/alpha_lam\n",
    "        mu_given_SZ = (SZ - pi_SZ)/alpha_SZ\n",
    "\n",
    "        third_term_num = self.r * self.scatter_Mwl * (self.scatter_lam/alpha_lam) * (mu_given_lam - mu_given_SZ + beta*(self.scatter_SZ/alpha_SZ)**2)\n",
    "        third_term_den = (self.scatter_SZ/alpha_SZ)**2 + (self.scatter_lam/alpha_lam)**2\n",
    "\n",
    "        third_term = third_term_num/third_term_den\n",
    "\n",
    "        TH_Mwl_given_lambda_SZ = pi_Mwl + alpha_Mwl*mu_given_lam_SZ + third_term\n",
    "        # TH_Mwl_given_lambda_SZ = third_term\n",
    "\n",
    "        return (TH_Mwl_given_lambda_SZ)\n",
    "    \n",
    "\n",
    "    def MC_calculate_mean_Mwl_given_lam_SZ(self, nbins, correction):\n",
    "        \n",
    "        # lnlam_bins = pd.qcut(self.lnlam[self.lnlam > 3],nbins,retbins=True)[1]\n",
    "        # lnSZ_bins = pd.qcut(self.lnSZ[self.lnSZ>1.4],nbins,retbins=True)[1]\n",
    "        \n",
    "        lnlam_bins = np.log(np.array([20,21,22,24,25,30,40,45,50]))\n",
    "        lnSZ_bins = np.log(np.array([0.2,0.3,0.4,0.5,1,4,8,10,20]))\n",
    "\n",
    "                \n",
    "        diff_array = np.empty([nbins-1])\n",
    "        SZ_array = np.empty([nbins-1])\n",
    "        lam_array = np.empty([nbins-1])\n",
    "        \n",
    "        diff_array = np.zeros([nbins-1,nbins-1])\n",
    "        count_array = np.zeros([nbins-1, nbins-1])\n",
    "        \n",
    "        for i in range(nbins-1): # go over each SZ bin\n",
    "            for j in range(nbins-1): #go over each lamdba bin\n",
    "\n",
    "                SZ_left_edge, SZ_right_edge = lnSZ_bins[i],lnSZ_bins[i+1]\n",
    "                lam_left_edge, lam_right_edge = lnlam_bins[j],lnlam_bins[j+1]\n",
    "                \n",
    "                # print(SZ_left_edge,SZ_right_edge)\n",
    "                # print(lam_left_edge,lam_right_edge)\n",
    "                \n",
    "                SZ_mid = (SZ_left_edge+SZ_right_edge)/2.\n",
    "                lam_mid = (lam_left_edge+lam_right_edge)/2.\n",
    "                \n",
    "                SZ_array[i] = SZ_mid\n",
    "                lam_array[j] = lam_mid\n",
    "\n",
    "                SZ_mask = (self.lnSZ > SZ_left_edge) & (self.lnSZ <= SZ_right_edge)\n",
    "                lam_mask = (self.lnlam > lam_left_edge) & (self.lnlam <= lam_right_edge)\n",
    "                \n",
    "                SZ_median = np.median(self.lnSZ[SZ_mask])\n",
    "                lam_median = np.median(self.lnlam[lam_mask])\n",
    "\n",
    "                total_mask = SZ_mask & lam_mask  #combine the richness and SZ mask\n",
    "                count_array[i][j] = np.sum(total_mask)\n",
    "                \n",
    "\n",
    "                # print(\"The halo numbers in SZ mask:\",np.sum(SZ_mask))\n",
    "                # print(\"The halo numebrs in richness mask:\",np.sum(lam_mask))\n",
    "                # print(\"The halo numbers in SZ mask and richness mask is:\", np.sum(total_mask))\n",
    "\n",
    "                if np.sum(total_mask) != 0:\n",
    "\n",
    "                    # print(\"The mean lensing mass of given SZ and richness bin is:\", np.mean(self.lnMwl[total_mask]))\n",
    "\n",
    "                    TH_Mwl_given_lambda_SZ = self.TH_calculate_mean_Mwl_given_lam_SZ(lam_median, SZ_median, correction)   \n",
    "\n",
    "                    diff = (TH_Mwl_given_lambda_SZ - np.mean(self.lnMwl[total_mask]))\n",
    "                    # diff = TH_Mwl_given_lambda_SZ \n",
    "                    #fractional difference\n",
    "                    diff_array[i][j] = diff\n",
    "\n",
    "                    # print(\"The difference between MC and theory is:\",diff)\n",
    "\n",
    "                else:\n",
    "                    diff_array[i][j] = np.nan\n",
    "\n",
    "                # print(\"----------------------------------------------------------\")\n",
    "\n",
    "            \n",
    "        return(lam_array,SZ_array,diff_array,count_array)\n",
    "            \n",
    "            #plot x axis r, bin by SZ and lambda\n",
    "            #plot x axis lambda, bin by SZ\n",
    "            #y axis differe"
   ]
  },
  {
   "cell_type": "code",
   "execution_count": 106,
   "id": "b5b1de38-29a4-4f33-9ced-3e3f5fb31037",
   "metadata": {},
   "outputs": [],
   "source": [
    "color_list = ['r','g','b','y','c','m','k','tab:cyan']"
   ]
  },
  {
   "cell_type": "code",
   "execution_count": 107,
   "id": "121e1ace-5ad4-4018-8dc4-00cf55603945",
   "metadata": {},
   "outputs": [],
   "source": [
    "mco = MonteCarloObservables(0.99, lnM=lnM, scatter_lam=scatter_lam, scatter_Mwl=scatter_Mwl, scatter_SZ=scatter_SZ)"
   ]
  },
  {
   "cell_type": "code",
   "execution_count": 108,
   "id": "057648d6-bd85-46a4-83cb-3ec8221856b2",
   "metadata": {},
   "outputs": [],
   "source": [
    "NBINS = 8\n",
    "lam_array, SZ_array, diff_array, count_array = mco.MC_calculate_mean_Mwl_given_lam_SZ(nbins = NBINS+1,correction=True)\n",
    "lam_array_nc, SZ_array_nc, diff_array_nc, count_array_nc = mco.MC_calculate_mean_Mwl_given_lam_SZ(nbins = NBINS+1,correction=False)"
   ]
  },
  {
   "cell_type": "code",
   "execution_count": 109,
   "id": "8459a57f-013d-4f0b-8c0f-e76fdb901133",
   "metadata": {},
   "outputs": [
    {
     "data": {
      "text/plain": [
       "array([[8.180e+02, 6.420e+02, 9.380e+02, 3.080e+02, 8.940e+02, 3.520e+02,\n",
       "        1.300e+01, 1.400e+01],\n",
       "       [6.980e+02, 6.210e+02, 9.750e+02, 3.790e+02, 1.139e+03, 6.370e+02,\n",
       "        5.100e+01, 3.000e+01],\n",
       "       [4.820e+02, 4.640e+02, 7.920e+02, 3.650e+02, 1.160e+03, 7.540e+02,\n",
       "        1.140e+02, 4.100e+01],\n",
       "       [1.029e+03, 9.810e+02, 1.870e+03, 8.570e+02, 3.625e+03, 3.770e+03,\n",
       "        8.210e+02, 4.600e+02],\n",
       "       [1.950e+02, 2.030e+02, 4.860e+02, 2.570e+02, 1.737e+03, 3.590e+03,\n",
       "        1.652e+03, 1.332e+03],\n",
       "       [0.000e+00, 0.000e+00, 0.000e+00, 1.000e+00, 5.000e+00, 6.900e+01,\n",
       "        4.900e+01, 8.800e+01],\n",
       "       [0.000e+00, 0.000e+00, 0.000e+00, 0.000e+00, 0.000e+00, 0.000e+00,\n",
       "        0.000e+00, 1.000e+00],\n",
       "       [0.000e+00, 0.000e+00, 0.000e+00, 0.000e+00, 0.000e+00, 0.000e+00,\n",
       "        1.000e+00, 2.000e+00]])"
      ]
     },
     "execution_count": 109,
     "metadata": {},
     "output_type": "execute_result"
    }
   ],
   "source": [
    "count_array"
   ]
  },
  {
   "cell_type": "code",
   "execution_count": 110,
   "id": "c8410b77-89d6-401f-a03a-bdd2c9d94aad",
   "metadata": {},
   "outputs": [
    {
     "data": {
      "text/plain": [
       "array([[ 4.37539795e-03,  7.71854417e-03,  1.04181508e-02,\n",
       "         3.36212057e-03,  2.36968802e-02,  4.25959763e-02,\n",
       "        -7.67267319e-05,  5.78494057e-02],\n",
       "       [-1.89200268e-03, -1.28019202e-03,  2.74549179e-03,\n",
       "         1.67250975e-03,  9.26265432e-03,  2.40126759e-02,\n",
       "         2.85221207e-02, -7.72926955e-04],\n",
       "       [ 1.07474331e-04,  2.38273167e-03,  5.81898473e-04,\n",
       "        -9.58280319e-04,  6.00163984e-03,  2.25844613e-02,\n",
       "         6.47059639e-03,  5.99344965e-03],\n",
       "       [ 5.25935287e-04, -7.27065621e-04,  6.33409624e-04,\n",
       "         4.11490800e-03,  3.34549346e-04,  1.21641212e-02,\n",
       "         1.84441647e-02,  2.98087214e-02],\n",
       "       [-4.46876600e-02, -3.74842326e-02, -3.79559808e-02,\n",
       "        -3.55206726e-02, -3.82328217e-02, -3.94981181e-02,\n",
       "         5.78596450e-03,  1.91566675e-02],\n",
       "       [            nan,             nan,             nan,\n",
       "        -4.98727236e-02, -5.80524164e-02, -1.25568493e-01,\n",
       "        -3.44989526e-02, -1.25837845e-02],\n",
       "       [            nan,             nan,             nan,\n",
       "                    nan,             nan,             nan,\n",
       "                    nan,  5.07136682e-02],\n",
       "       [            nan,             nan,             nan,\n",
       "                    nan,             nan,             nan,\n",
       "         8.70140015e-02,  3.31785605e-02]])"
      ]
     },
     "execution_count": 110,
     "metadata": {},
     "output_type": "execute_result"
    }
   ],
   "source": [
    "diff_array"
   ]
  },
  {
   "cell_type": "code",
   "execution_count": 111,
   "id": "262bc1ab-04d3-4eea-892a-f1ba74128e05",
   "metadata": {},
   "outputs": [
    {
     "name": "stdout",
     "output_type": "stream",
     "text": [
      "-1.0601317681000455\n"
     ]
    }
   ],
   "source": [
    "print(f\"{SZ_array[1]}\")"
   ]
  },
  {
   "cell_type": "code",
   "execution_count": 112,
   "id": "b33e129b-00d8-4c09-b261-8a871a0b535b",
   "metadata": {},
   "outputs": [
    {
     "data": {
      "text/plain": [
       "array([1.400e+01, 3.000e+01, 4.100e+01, 4.600e+02, 1.332e+03, 8.800e+01,\n",
       "       1.000e+00, 2.000e+00])"
      ]
     },
     "execution_count": 112,
     "metadata": {},
     "output_type": "execute_result"
    }
   ],
   "source": [
    "count_array[:,7]"
   ]
  },
  {
   "cell_type": "code",
   "execution_count": 113,
   "id": "ee3164ba-8410-496e-a7fa-d3e7dfd3cccb",
   "metadata": {},
   "outputs": [
    {
     "name": "stdout",
     "output_type": "stream",
     "text": [
      "[1.300e+01 5.100e+01 1.140e+02 8.210e+02 1.652e+03 4.900e+01 0.000e+00\n",
      " 1.000e+00]\n"
     ]
    }
   ],
   "source": [
    "print(count_array[:,6])"
   ]
  },
  {
   "cell_type": "code",
   "execution_count": 114,
   "id": "913c76c9-62f5-4cde-9abe-d0787bfd8b65",
   "metadata": {},
   "outputs": [
    {
     "data": {
      "text/plain": [
       "(array([1.995934e+06, 4.096270e+05, 8.451900e+04, 1.740800e+04,\n",
       "        3.551000e+03, 7.200000e+02, 1.520000e+02, 3.200000e+01,\n",
       "        6.000000e+00, 1.000000e+00]),\n",
       " array([29.93360628, 30.92247188, 31.91133748, 32.90020308, 33.88906867,\n",
       "        34.87793427, 35.86679987, 36.85566547, 37.84453107, 38.83339666,\n",
       "        39.82226226]),\n",
       " <BarContainer object of 10 artists>)"
      ]
     },
     "execution_count": 114,
     "metadata": {},
     "output_type": "execute_result"
    },
    {
     "data": {
      "image/png": "[encoded data removed]",
      "text/plain": [
       "<Figure size 432x288 with 1 Axes>"
      ]
     },
     "metadata": {
      "needs_background": "light"
     },
     "output_type": "display_data"
    }
   ],
   "source": [
    "plt.hist(lnM)"
   ]
  },
  {
   "cell_type": "code",
   "execution_count": 118,
   "id": "665e7c29-e06b-43df-8c80-2244183e6b18",
   "metadata": {},
   "outputs": [
    {
     "data": {
      "image/png": "[encoded data removed]",
      "text/plain": [
       "<Figure size 864x576 with 1 Axes>"
      ]
     },
     "metadata": {
      "needs_background": "light"
     },
     "output_type": "display_data"
    }
   ],
   "source": [
    "plt.figure(figsize=[12,8])\n",
    "for i in range(NBINS):\n",
    "    plt.plot(range(NBINS), np.exp(diff_array[i,:]), color=f'{color_list[i]}',label= f\"$<\\zeta> = {np.exp(SZ_array[i]):.3f}$\")\n",
    "    # plt.plot(range(NBINS), diff_array_nc[i,:], f'{color_list[i]}--')\n",
    "plt.plot([], [], '--', label=\"Before correlation correction\")    \n",
    "plt.legend()\n",
    "# locs, labels = plt.xticks()\n",
    "plt.xticks(np.arange(0, NBINS, step=1), [f\"{np.exp(lam):.2f}\" for lam in lam_array])\n",
    "plt.xlabel(\"$<\\lambda>$\")\n",
    "plt.ylabel(r\"$\\frac{Mass_{MC}}{Mass_{Theory}}$\")\n",
    "# plt.title(\"Comparision Before&After r Correction\")\n",
    "plt.show()"
   ]
  },
  {
   "cell_type": "code",
   "execution_count": 81,
   "id": "dde8ed09-4735-4230-8824-d77b6abfd657",
   "metadata": {},
   "outputs": [
    {
     "ename": "TypeError",
     "evalue": "MC_calculate_mean_Mwl_given_lam_SZ() missing 1 required positional argument: 'correction'",
     "output_type": "error",
     "traceback": [
      "\u001b[0;31m---------------------------------------------------------------------------\u001b[0m",
      "\u001b[0;31mTypeError\u001b[0m                                 Traceback (most recent call last)",
      "Input \u001b[0;32mIn [81]\u001b[0m, in \u001b[0;36m<cell line: 8>\u001b[0;34m()\u001b[0m\n\u001b[1;32m      8\u001b[0m \u001b[38;5;28;01mfor\u001b[39;00m i \u001b[38;5;129;01min\u001b[39;00m \u001b[38;5;28mrange\u001b[39m(\u001b[38;5;28mlen\u001b[39m(r_array)):\n\u001b[1;32m      9\u001b[0m     mco \u001b[38;5;241m=\u001b[39m MonteCarloObservables(r_array[i],lnM, scatter_lam\u001b[38;5;241m=\u001b[39mscatter_lam, scatter_Mwl\u001b[38;5;241m=\u001b[39mscatter_Mwl)\n\u001b[0;32m---> 10\u001b[0m     lam_list[i], SZ_list[i], diff_list[i], count_list[i] \u001b[38;5;241m=\u001b[39m \u001b[43mmco\u001b[49m\u001b[38;5;241;43m.\u001b[39;49m\u001b[43mMC_calculate_mean_Mwl_given_lam_SZ\u001b[49m\u001b[43m(\u001b[49m\u001b[43mnbins\u001b[49m\u001b[43m \u001b[49m\u001b[38;5;241;43m=\u001b[39;49m\u001b[43m \u001b[49m\u001b[43mNBINS\u001b[49m\u001b[38;5;241;43m+\u001b[39;49m\u001b[38;5;241;43m1\u001b[39;49m\u001b[43m)\u001b[49m\n",
      "\u001b[0;31mTypeError\u001b[0m: MC_calculate_mean_Mwl_given_lam_SZ() missing 1 required positional argument: 'correction'"
     ]
    }
   ],
   "source": [
    "r_array = [0,0.25,0.5,0.75,0.99]\n",
    "\n",
    "diff_list = [None] * len(r_array)\n",
    "lam_list = [None] * len(r_array)\n",
    "SZ_list = [None] * len(r_array)\n",
    "count_list = [None] * len(r_array)\n",
    "\n",
    "for i in range(len(r_array)):\n",
    "    mco = MonteCarloObservables(r_array[i],lnM, scatter_lam=scatter_lam, scatter_Mwl=scatter_Mwl)\n",
    "    lam_list[i], SZ_list[i], diff_list[i], count_list[i] = mco.MC_calculate_mean_Mwl_given_lam_SZ(nbins = NBINS+1)"
   ]
  },
  {
   "cell_type": "code",
   "execution_count": null,
   "id": "a56f2524-6bd5-4d19-ae7c-86ce5713ac1c",
   "metadata": {},
   "outputs": [],
   "source": [
    "diff_list"
   ]
  },
  {
   "cell_type": "code",
   "execution_count": 70,
   "id": "0e076afd-8f89-4403-8553-955ea54c5862",
   "metadata": {},
   "outputs": [
    {
     "ename": "TypeError",
     "evalue": "unsupported operand type(s) for +: 'NoneType' and 'NoneType'",
     "output_type": "error",
     "traceback": [
      "\u001b[0;31m---------------------------------------------------------------------------\u001b[0m",
      "\u001b[0;31mTypeError\u001b[0m                                 Traceback (most recent call last)",
      "Input \u001b[0;32mIn [70]\u001b[0m, in \u001b[0;36m<cell line: 1>\u001b[0;34m()\u001b[0m\n\u001b[0;32m----> 1\u001b[0m \u001b[43mnp\u001b[49m\u001b[38;5;241;43m.\u001b[39;49m\u001b[43msum\u001b[49m\u001b[43m(\u001b[49m\u001b[43mnp\u001b[49m\u001b[38;5;241;43m.\u001b[39;49m\u001b[43marray\u001b[49m\u001b[43m(\u001b[49m\u001b[43mdiff_list\u001b[49m\u001b[43m)\u001b[49m\u001b[43m,\u001b[49m\u001b[43m \u001b[49m\u001b[43maxis\u001b[49m\u001b[38;5;241;43m=\u001b[39;49m\u001b[38;5;241;43m0\u001b[39;49m\u001b[43m)\u001b[49m\n",
      "File \u001b[0;32m<__array_function__ internals>:180\u001b[0m, in \u001b[0;36msum\u001b[0;34m(*args, **kwargs)\u001b[0m\n",
      "File \u001b[0;32m~/.conda/envs/spt_lensing/lib/python3.9/site-packages/numpy/core/fromnumeric.py:2296\u001b[0m, in \u001b[0;36msum\u001b[0;34m(a, axis, dtype, out, keepdims, initial, where)\u001b[0m\n\u001b[1;32m   2293\u001b[0m         \u001b[38;5;28;01mreturn\u001b[39;00m out\n\u001b[1;32m   2294\u001b[0m     \u001b[38;5;28;01mreturn\u001b[39;00m res\n\u001b[0;32m-> 2296\u001b[0m \u001b[38;5;28;01mreturn\u001b[39;00m \u001b[43m_wrapreduction\u001b[49m\u001b[43m(\u001b[49m\u001b[43ma\u001b[49m\u001b[43m,\u001b[49m\u001b[43m \u001b[49m\u001b[43mnp\u001b[49m\u001b[38;5;241;43m.\u001b[39;49m\u001b[43madd\u001b[49m\u001b[43m,\u001b[49m\u001b[43m \u001b[49m\u001b[38;5;124;43m'\u001b[39;49m\u001b[38;5;124;43msum\u001b[39;49m\u001b[38;5;124;43m'\u001b[39;49m\u001b[43m,\u001b[49m\u001b[43m \u001b[49m\u001b[43maxis\u001b[49m\u001b[43m,\u001b[49m\u001b[43m \u001b[49m\u001b[43mdtype\u001b[49m\u001b[43m,\u001b[49m\u001b[43m \u001b[49m\u001b[43mout\u001b[49m\u001b[43m,\u001b[49m\u001b[43m \u001b[49m\u001b[43mkeepdims\u001b[49m\u001b[38;5;241;43m=\u001b[39;49m\u001b[43mkeepdims\u001b[49m\u001b[43m,\u001b[49m\n\u001b[1;32m   2297\u001b[0m \u001b[43m                      \u001b[49m\u001b[43minitial\u001b[49m\u001b[38;5;241;43m=\u001b[39;49m\u001b[43minitial\u001b[49m\u001b[43m,\u001b[49m\u001b[43m \u001b[49m\u001b[43mwhere\u001b[49m\u001b[38;5;241;43m=\u001b[39;49m\u001b[43mwhere\u001b[49m\u001b[43m)\u001b[49m\n",
      "File \u001b[0;32m~/.conda/envs/spt_lensing/lib/python3.9/site-packages/numpy/core/fromnumeric.py:86\u001b[0m, in \u001b[0;36m_wrapreduction\u001b[0;34m(obj, ufunc, method, axis, dtype, out, **kwargs)\u001b[0m\n\u001b[1;32m     83\u001b[0m         \u001b[38;5;28;01melse\u001b[39;00m:\n\u001b[1;32m     84\u001b[0m             \u001b[38;5;28;01mreturn\u001b[39;00m reduction(axis\u001b[38;5;241m=\u001b[39maxis, out\u001b[38;5;241m=\u001b[39mout, \u001b[38;5;241m*\u001b[39m\u001b[38;5;241m*\u001b[39mpasskwargs)\n\u001b[0;32m---> 86\u001b[0m \u001b[38;5;28;01mreturn\u001b[39;00m \u001b[43mufunc\u001b[49m\u001b[38;5;241;43m.\u001b[39;49m\u001b[43mreduce\u001b[49m\u001b[43m(\u001b[49m\u001b[43mobj\u001b[49m\u001b[43m,\u001b[49m\u001b[43m \u001b[49m\u001b[43maxis\u001b[49m\u001b[43m,\u001b[49m\u001b[43m \u001b[49m\u001b[43mdtype\u001b[49m\u001b[43m,\u001b[49m\u001b[43m \u001b[49m\u001b[43mout\u001b[49m\u001b[43m,\u001b[49m\u001b[43m \u001b[49m\u001b[38;5;241;43m*\u001b[39;49m\u001b[38;5;241;43m*\u001b[39;49m\u001b[43mpasskwargs\u001b[49m\u001b[43m)\u001b[49m\n",
      "\u001b[0;31mTypeError\u001b[0m: unsupported operand type(s) for +: 'NoneType' and 'NoneType'"
     ]
    }
   ],
   "source": [
    "np.sum(np.array(diff_list), axis=0)"
   ]
  },
  {
   "cell_type": "code",
   "execution_count": 71,
   "id": "3583d7b2-7dde-4cb1-8346-295459883f40",
   "metadata": {},
   "outputs": [
    {
     "ename": "AxisError",
     "evalue": "axis 1 is out of bounds for array of dimension 1",
     "output_type": "error",
     "traceback": [
      "\u001b[0;31m---------------------------------------------------------------------------\u001b[0m",
      "\u001b[0;31mAxisError\u001b[0m                                 Traceback (most recent call last)",
      "Input \u001b[0;32mIn [71]\u001b[0m, in \u001b[0;36m<cell line: 1>\u001b[0;34m()\u001b[0m\n\u001b[0;32m----> 1\u001b[0m \u001b[43mnp\u001b[49m\u001b[38;5;241;43m.\u001b[39;49m\u001b[43msum\u001b[49m\u001b[43m(\u001b[49m\u001b[43mnp\u001b[49m\u001b[38;5;241;43m.\u001b[39;49m\u001b[43marray\u001b[49m\u001b[43m(\u001b[49m\u001b[43mdiff_list\u001b[49m\u001b[43m)\u001b[49m\u001b[43m,\u001b[49m\u001b[43maxis\u001b[49m\u001b[38;5;241;43m=\u001b[39;49m\u001b[38;5;241;43m1\u001b[39;49m\u001b[43m)\u001b[49m\n",
      "File \u001b[0;32m<__array_function__ internals>:180\u001b[0m, in \u001b[0;36msum\u001b[0;34m(*args, **kwargs)\u001b[0m\n",
      "File \u001b[0;32m~/.conda/envs/spt_lensing/lib/python3.9/site-packages/numpy/core/fromnumeric.py:2296\u001b[0m, in \u001b[0;36msum\u001b[0;34m(a, axis, dtype, out, keepdims, initial, where)\u001b[0m\n\u001b[1;32m   2293\u001b[0m         \u001b[38;5;28;01mreturn\u001b[39;00m out\n\u001b[1;32m   2294\u001b[0m     \u001b[38;5;28;01mreturn\u001b[39;00m res\n\u001b[0;32m-> 2296\u001b[0m \u001b[38;5;28;01mreturn\u001b[39;00m \u001b[43m_wrapreduction\u001b[49m\u001b[43m(\u001b[49m\u001b[43ma\u001b[49m\u001b[43m,\u001b[49m\u001b[43m \u001b[49m\u001b[43mnp\u001b[49m\u001b[38;5;241;43m.\u001b[39;49m\u001b[43madd\u001b[49m\u001b[43m,\u001b[49m\u001b[43m \u001b[49m\u001b[38;5;124;43m'\u001b[39;49m\u001b[38;5;124;43msum\u001b[39;49m\u001b[38;5;124;43m'\u001b[39;49m\u001b[43m,\u001b[49m\u001b[43m \u001b[49m\u001b[43maxis\u001b[49m\u001b[43m,\u001b[49m\u001b[43m \u001b[49m\u001b[43mdtype\u001b[49m\u001b[43m,\u001b[49m\u001b[43m \u001b[49m\u001b[43mout\u001b[49m\u001b[43m,\u001b[49m\u001b[43m \u001b[49m\u001b[43mkeepdims\u001b[49m\u001b[38;5;241;43m=\u001b[39;49m\u001b[43mkeepdims\u001b[49m\u001b[43m,\u001b[49m\n\u001b[1;32m   2297\u001b[0m \u001b[43m                      \u001b[49m\u001b[43minitial\u001b[49m\u001b[38;5;241;43m=\u001b[39;49m\u001b[43minitial\u001b[49m\u001b[43m,\u001b[49m\u001b[43m \u001b[49m\u001b[43mwhere\u001b[49m\u001b[38;5;241;43m=\u001b[39;49m\u001b[43mwhere\u001b[49m\u001b[43m)\u001b[49m\n",
      "File \u001b[0;32m~/.conda/envs/spt_lensing/lib/python3.9/site-packages/numpy/core/fromnumeric.py:86\u001b[0m, in \u001b[0;36m_wrapreduction\u001b[0;34m(obj, ufunc, method, axis, dtype, out, **kwargs)\u001b[0m\n\u001b[1;32m     83\u001b[0m         \u001b[38;5;28;01melse\u001b[39;00m:\n\u001b[1;32m     84\u001b[0m             \u001b[38;5;28;01mreturn\u001b[39;00m reduction(axis\u001b[38;5;241m=\u001b[39maxis, out\u001b[38;5;241m=\u001b[39mout, \u001b[38;5;241m*\u001b[39m\u001b[38;5;241m*\u001b[39mpasskwargs)\n\u001b[0;32m---> 86\u001b[0m \u001b[38;5;28;01mreturn\u001b[39;00m \u001b[43mufunc\u001b[49m\u001b[38;5;241;43m.\u001b[39;49m\u001b[43mreduce\u001b[49m\u001b[43m(\u001b[49m\u001b[43mobj\u001b[49m\u001b[43m,\u001b[49m\u001b[43m \u001b[49m\u001b[43maxis\u001b[49m\u001b[43m,\u001b[49m\u001b[43m \u001b[49m\u001b[43mdtype\u001b[49m\u001b[43m,\u001b[49m\u001b[43m \u001b[49m\u001b[43mout\u001b[49m\u001b[43m,\u001b[49m\u001b[43m \u001b[49m\u001b[38;5;241;43m*\u001b[39;49m\u001b[38;5;241;43m*\u001b[39;49m\u001b[43mpasskwargs\u001b[49m\u001b[43m)\u001b[49m\n",
      "\u001b[0;31mAxisError\u001b[0m: axis 1 is out of bounds for array of dimension 1"
     ]
    }
   ],
   "source": [
    "np.sum(np.array(diff_list),axis=1)"
   ]
  },
  {
   "cell_type": "code",
   "execution_count": 72,
   "id": "40e0dd70-ee76-4a26-aab5-f3f0c5b86ce5",
   "metadata": {},
   "outputs": [
    {
     "ename": "AxisError",
     "evalue": "axis 2 is out of bounds for array of dimension 1",
     "output_type": "error",
     "traceback": [
      "\u001b[0;31m---------------------------------------------------------------------------\u001b[0m",
      "\u001b[0;31mAxisError\u001b[0m                                 Traceback (most recent call last)",
      "Input \u001b[0;32mIn [72]\u001b[0m, in \u001b[0;36m<cell line: 1>\u001b[0;34m()\u001b[0m\n\u001b[0;32m----> 1\u001b[0m \u001b[43mnp\u001b[49m\u001b[38;5;241;43m.\u001b[39;49m\u001b[43msum\u001b[49m\u001b[43m(\u001b[49m\u001b[43mnp\u001b[49m\u001b[38;5;241;43m.\u001b[39;49m\u001b[43marray\u001b[49m\u001b[43m(\u001b[49m\u001b[43mdiff_list\u001b[49m\u001b[43m)\u001b[49m\u001b[43m,\u001b[49m\u001b[43m \u001b[49m\u001b[43maxis\u001b[49m\u001b[38;5;241;43m=\u001b[39;49m\u001b[38;5;241;43m2\u001b[39;49m\u001b[43m)\u001b[49m\n",
      "File \u001b[0;32m<__array_function__ internals>:180\u001b[0m, in \u001b[0;36msum\u001b[0;34m(*args, **kwargs)\u001b[0m\n",
      "File \u001b[0;32m~/.conda/envs/spt_lensing/lib/python3.9/site-packages/numpy/core/fromnumeric.py:2296\u001b[0m, in \u001b[0;36msum\u001b[0;34m(a, axis, dtype, out, keepdims, initial, where)\u001b[0m\n\u001b[1;32m   2293\u001b[0m         \u001b[38;5;28;01mreturn\u001b[39;00m out\n\u001b[1;32m   2294\u001b[0m     \u001b[38;5;28;01mreturn\u001b[39;00m res\n\u001b[0;32m-> 2296\u001b[0m \u001b[38;5;28;01mreturn\u001b[39;00m \u001b[43m_wrapreduction\u001b[49m\u001b[43m(\u001b[49m\u001b[43ma\u001b[49m\u001b[43m,\u001b[49m\u001b[43m \u001b[49m\u001b[43mnp\u001b[49m\u001b[38;5;241;43m.\u001b[39;49m\u001b[43madd\u001b[49m\u001b[43m,\u001b[49m\u001b[43m \u001b[49m\u001b[38;5;124;43m'\u001b[39;49m\u001b[38;5;124;43msum\u001b[39;49m\u001b[38;5;124;43m'\u001b[39;49m\u001b[43m,\u001b[49m\u001b[43m \u001b[49m\u001b[43maxis\u001b[49m\u001b[43m,\u001b[49m\u001b[43m \u001b[49m\u001b[43mdtype\u001b[49m\u001b[43m,\u001b[49m\u001b[43m \u001b[49m\u001b[43mout\u001b[49m\u001b[43m,\u001b[49m\u001b[43m \u001b[49m\u001b[43mkeepdims\u001b[49m\u001b[38;5;241;43m=\u001b[39;49m\u001b[43mkeepdims\u001b[49m\u001b[43m,\u001b[49m\n\u001b[1;32m   2297\u001b[0m \u001b[43m                      \u001b[49m\u001b[43minitial\u001b[49m\u001b[38;5;241;43m=\u001b[39;49m\u001b[43minitial\u001b[49m\u001b[43m,\u001b[49m\u001b[43m \u001b[49m\u001b[43mwhere\u001b[49m\u001b[38;5;241;43m=\u001b[39;49m\u001b[43mwhere\u001b[49m\u001b[43m)\u001b[49m\n",
      "File \u001b[0;32m~/.conda/envs/spt_lensing/lib/python3.9/site-packages/numpy/core/fromnumeric.py:86\u001b[0m, in \u001b[0;36m_wrapreduction\u001b[0;34m(obj, ufunc, method, axis, dtype, out, **kwargs)\u001b[0m\n\u001b[1;32m     83\u001b[0m         \u001b[38;5;28;01melse\u001b[39;00m:\n\u001b[1;32m     84\u001b[0m             \u001b[38;5;28;01mreturn\u001b[39;00m reduction(axis\u001b[38;5;241m=\u001b[39maxis, out\u001b[38;5;241m=\u001b[39mout, \u001b[38;5;241m*\u001b[39m\u001b[38;5;241m*\u001b[39mpasskwargs)\n\u001b[0;32m---> 86\u001b[0m \u001b[38;5;28;01mreturn\u001b[39;00m \u001b[43mufunc\u001b[49m\u001b[38;5;241;43m.\u001b[39;49m\u001b[43mreduce\u001b[49m\u001b[43m(\u001b[49m\u001b[43mobj\u001b[49m\u001b[43m,\u001b[49m\u001b[43m \u001b[49m\u001b[43maxis\u001b[49m\u001b[43m,\u001b[49m\u001b[43m \u001b[49m\u001b[43mdtype\u001b[49m\u001b[43m,\u001b[49m\u001b[43m \u001b[49m\u001b[43mout\u001b[49m\u001b[43m,\u001b[49m\u001b[43m \u001b[49m\u001b[38;5;241;43m*\u001b[39;49m\u001b[38;5;241;43m*\u001b[39;49m\u001b[43mpasskwargs\u001b[49m\u001b[43m)\u001b[49m\n",
      "\u001b[0;31mAxisError\u001b[0m: axis 2 is out of bounds for array of dimension 1"
     ]
    }
   ],
   "source": [
    "np.sum(np.array(diff_list), axis=2)"
   ]
  },
  {
   "cell_type": "code",
   "execution_count": null,
   "id": "010be538-8bf6-4215-842c-c35c4b0fdf41",
   "metadata": {},
   "outputs": [],
   "source": [
    "np.array(lam_list)"
   ]
  },
  {
   "cell_type": "code",
   "execution_count": null,
   "id": "37bde8f5-a926-4095-97d2-06003fc7ec75",
   "metadata": {},
   "outputs": [],
   "source": [
    "#binned by lambda, marginalize SZ\n",
    "diff_array_lambda = np.sum(np.array(diff_list), axis=1)/np.sum(np.invert(np.array(diff_list)==0),axis=1)\n",
    "plt.figure(figsize=[12,8])\n",
    "for i in range(len(lam_list[0])):\n",
    "    plt.plot(range(len(r_array)), diff_array_lambda[:,i], label= f\"$<\\lambda> = {np.mean(np.array(lam_list)[:,i]):.3f}$\")\n",
    "    plt.legend()\n",
    "locs, labels = plt.xticks()\n",
    "plt.xticks(np.arange(0, 5, step=1), [f\"{r:.2f}\" for r in r_array])\n",
    "plt.xlabel(\"$r$\")\n",
    "plt.ylabel(\"Fractional Difference between Theory and MC\")\n",
    "plt.title(\"Fractional Difference Binned by $\\lambda$\")\n",
    "plt.show()"
   ]
  },
  {
   "cell_type": "code",
   "execution_count": null,
   "id": "6c497c00-8f37-47c9-a080-ef5b48be73a7",
   "metadata": {},
   "outputs": [],
   "source": [
    "diff_array_SZ"
   ]
  },
  {
   "cell_type": "code",
   "execution_count": null,
   "id": "409653ce-2a1e-4540-8508-ccaf47fdd38b",
   "metadata": {},
   "outputs": [],
   "source": [
    "#binned by SZ, marginalize lambda\n",
    "diff_array_SZ = np.sum(np.array(diff_list), axis=2)/np.sum(np.invert(np.array(diff_list)==0),axis=2)\n",
    "plt.figure(figsize=[12,8])\n",
    "for i in range(len(SZ_list[0])):\n",
    "    plt.plot(range(len(r_array)), diff_array_SZ[:,i], label= f\"$<\\zeta> = {np.mean(np.array(SZ_list)[:,i]):.3f}$\")\n",
    "    plt.legend()\n",
    "locs, labels = plt.xticks()\n",
    "plt.xticks(np.arange(0, 5, step=1), [f\"{r:.2f}\" for r in r_array])\n",
    "plt.xlabel(\"$r$\")\n",
    "plt.ylabel(\"Fractional Difference between Theory and MC\")\n",
    "plt.title(\"Fractional Difference Binned by $\\zeta$\")\n",
    "plt.show()"
   ]
  }
 ],
 "metadata": {
  "kernelspec": {
   "display_name": "spt_selection",
   "language": "python",
   "name": "spt_selection"
  },
  "language_info": {
   "codemirror_mode": {
    "name": "ipython",
    "version": 3
   },
   "file_extension": ".py",
   "mimetype": "text/x-python",
   "name": "python",
   "nbconvert_exporter": "python",
   "pygments_lexer": "ipython3",
   "version": "3.9.12"
  }
 },
 "nbformat": 4,
 "nbformat_minor": 5
}
