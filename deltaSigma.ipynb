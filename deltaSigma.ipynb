{
 "cells": [
  {
   "cell_type": "markdown",
   "metadata": {},
   "source": [
    "# Calculate $w_p$\n",
    "\n"
   ]
  },
  {
   "cell_type": "code",
   "execution_count": 5,
   "metadata": {},
   "outputs": [],
   "source": [
    "# if __name__ == \"__main__\":\n",
    "#     import argparse\n",
    "#     parser = argparse.ArgumentParser()\n",
    "#     parser.add_argument('input_file')\n",
    "#     parser.add_argument('header_file')\n",
    "#     parser.add_argument('output_file')\n",
    "#     parser.add_argument('pimax')\n",
    "#     parser.add_argument('rp_min')\n",
    "#     parser.add_argument('rp_max')\n",
    "#     parser.add_argument('nbins')\n",
    "#     args = parser.parse_args()"
   ]
  },
  {
   "cell_type": "code",
   "execution_count": 10,
   "metadata": {},
   "outputs": [],
   "source": [
    "import os.path\n",
    "import numpy as np\n",
    "import pandas as pd"
   ]
  },
  {
   "cell_type": "code",
   "execution_count": 9,
   "metadata": {},
   "outputs": [],
   "source": [
    "project_path = \"/global/cfs/cdirs/des/zhou/spt_lensing/\"\n",
    "infile_path = os.path.join(project_path,\"data/results.npz\")"
   ]
  },
  {
   "cell_type": "code",
   "execution_count": 13,
   "metadata": {},
   "outputs": [],
   "source": [
    "infile = np.load(infile_path) "
   ]
  },
  {
   "cell_type": "code",
   "execution_count": 16,
   "metadata": {},
   "outputs": [
    {
     "data": {
      "text/plain": [
       "['arr_0']"
      ]
     },
     "execution_count": 16,
     "metadata": {},
     "output_type": "execute_result"
    }
   ],
   "source": [
    "infile.files"
   ]
  },
  {
   "cell_type": "code",
   "execution_count": 17,
   "metadata": {},
   "outputs": [
    {
     "data": {
      "text/plain": [
       "array([(5.0000e-02, 6.0000e-02, 0., 18446744073709551615, 0.),\n",
       "       (6.0000e-02, 7.0000e-02, 0.,                  130, 0.),\n",
       "       (7.0000e-02, 8.0000e-02, 0.,                   48, 0.),\n",
       "       (8.0000e-02, 9.0000e-02, 0.,                   38, 0.),\n",
       "       (9.0000e-02, 1.1000e-01, 0.,                   45, 0.),\n",
       "       (1.1000e-01, 1.3000e-01, 0.,                   10, 0.),\n",
       "       (1.3000e-01, 1.5000e-01, 0.,                   25, 0.),\n",
       "       (1.5000e-01, 1.7000e-01, 0.,                   13, 0.),\n",
       "       (1.7000e-01, 2.0000e-01, 0.,                   31, 0.),\n",
       "       (2.0000e-01, 2.4000e-01, 0.,                   39, 0.),\n",
       "       (2.4000e-01, 2.8000e-01, 0.,                   13, 0.),\n",
       "       (2.8000e-01, 3.3000e-01, 0.,                   29, 0.),\n",
       "       (3.3000e-01, 3.8000e-01, 0.,                   20, 0.),\n",
       "       (3.8000e-01, 4.5000e-01, 0.,                   30, 0.),\n",
       "       (4.5000e-01, 5.2000e-01, 0.,                   33, 0.),\n",
       "       (5.2000e-01, 6.1000e-01, 0.,                   49, 0.),\n",
       "       (6.1000e-01, 7.1000e-01, 0.,                   31, 0.),\n",
       "       (7.1000e-01, 8.4000e-01, 0.,                   43, 0.),\n",
       "       (8.4000e-01, 9.8000e-01, 0.,                   13, 0.),\n",
       "       (9.8000e-01, 1.1400e+00, 0.,                   17, 0.),\n",
       "       (1.1400e+00, 1.3400e+00, 0.,                   17, 0.),\n",
       "       (1.3400e+00, 1.5600e+00, 0.,                   17, 0.),\n",
       "       (1.5600e+00, 1.8300e+00, 0.,                    1, 0.),\n",
       "       (1.8300e+00, 2.1400e+00, 0.,                    1, 0.),\n",
       "       (2.1400e+00, 2.5000e+00, 0.,                    3, 0.),\n",
       "       (2.5000e+00, 2.9200e+00, 0.,                    1, 0.),\n",
       "       (2.9200e+00, 3.4200e+00, 0.,                    3, 0.),\n",
       "       (3.4200e+00, 4.0000e+00, 0.,                    1, 0.),\n",
       "       (4.0000e+00, 4.6700e+00, 0.,                    5, 0.),\n",
       "       (4.6700e+00, 5.4700e+00, 0.,                    9, 0.),\n",
       "       (5.4700e+00, 6.3900e+00, 0.,                   19, 0.),\n",
       "       (6.3900e+00, 7.4800e+00, 0.,                   15, 0.),\n",
       "       (7.4800e+00, 8.7400e+00, 0.,                   29, 0.),\n",
       "       (8.7400e+00, 1.0220e+01, 0.,                   51, 0.),\n",
       "       (1.0220e+01, 1.1950e+01, 0.,                   69, 0.),\n",
       "       (1.1950e+01, 1.3980e+01, 0.,                   55, 0.),\n",
       "       (1.3980e+01, 1.6350e+01, 0.,                  105, 0.),\n",
       "       (1.6350e+01, 1.9120e+01, 0.,                  161, 0.),\n",
       "       (1.9120e+01, 2.2350e+01, 0.,                  251, 0.),\n",
       "       (2.2350e+01, 2.6140e+01, 0.,                  417, 0.),\n",
       "       (2.6140e+01, 3.0570e+01, 0.,                  641, 0.),\n",
       "       (3.0570e+01, 3.5750e+01, 0.,                 1055, 0.),\n",
       "       (3.5750e+01, 4.1800e+01, 0.,                 1487, 0.),\n",
       "       (4.1800e+01, 4.8880e+01, 0.,                 2453, 0.),\n",
       "       (4.8880e+01, 5.7160e+01, 0.,                 3717, 0.),\n",
       "       (5.7160e+01, 6.6850e+01, 0.,                 5825, 0.),\n",
       "       (6.6850e+01, 7.8170e+01, 0.,                 9541, 0.),\n",
       "       (7.8170e+01, 9.1410e+01, 0.,                14607, 0.),\n",
       "       (9.1410e+01, 1.0689e+02, 0.,                22877, 0.),\n",
       "       (1.0689e+02, 1.2500e+02, 0.,                35857, 0.)],\n",
       "      dtype=[('rmin', '<f8'), ('rmax', '<f8'), ('ravg', '<f8'), ('npairs', '<u8'), ('weightavg', '<f8')])"
      ]
     },
     "execution_count": 17,
     "metadata": {},
     "output_type": "execute_result"
    }
   ],
   "source": [
    "infile['arr_0']"
   ]
  },
  {
   "cell_type": "markdown",
   "metadata": {},
   "source": [
    "# Calculate $w_p$ from $\\xi$\n",
    "\n",
    "$\\begin{equation}\n",
    "w_{p, A B}\\left(r_{p}\\right)=2 \\int_{0}^{\\Pi_{\\max }} \\xi_{A B}(r, \\pi) d \\pi\n",
    "\\end{equation}$"
   ]
  },
  {
   "cell_type": "code",
   "execution_count": 3,
   "metadata": {},
   "outputs": [],
   "source": [
    "#Script passed on from A. Salcedo\n",
    "import numpy as np\n",
    "import scipy.integrate as integrate\n",
    "\n",
    "def wp(rp,binmin,binmax,xi,pimax=None):\n",
    "    \"\"\"compute wp(r_p) from tabulated xi(r).\"\"\"\n",
    "    \n",
    "    lower_bound = rp \n",
    "    upper_bound = np.sqrt(rp**2 + pimax**2)\n",
    "    binmask = np.logical_and(binmax > lower_bound, binmin < upper_bound)\n",
    "    masked_xi = xi[binmask]\n",
    "    r_i = binmin[binmask]\n",
    "    r_iplus = binmax[binmask]\n",
    "    s_plus = np.minimum(upper_bound, r_iplus)\n",
    "    s_minus = np.maximum(lower_bound, r_i)\n",
    "    # here we assume that xi is piecewise constant over the tabulated input bins\n",
    "    elementwise_integral = 2.0*masked_xi * \\\n",
    "                           (np.sqrt(s_plus**2 - rp**2) - np.sqrt(s_minus**2 - rp**2))\n",
    "    w_p = np.sum(elementwise_integral)\n",
    "\n",
    "    return w_p"
   ]
  },
  {
   "cell_type": "markdown",
   "metadata": {},
   "source": [
    "# Calcualte $\\Delta \\Sigma $ from $ w_p$ \n",
    "\n",
    "$\\begin{equation}\n",
    "\\Delta \\Sigma\\left(r_{p}\\right)=\\Omega_{m} \\rho_{\\text {crit }}\\left[\\frac{2}{r_{p}^{2}} \\int_{0}^{r_{p}} r^{\\prime} w_{p, c m}\\left(r^{\\prime}\\right) d r^{\\prime}-w_{p, c m}\\left(r_{p}\\right)\\right]\n",
    "\\end{equation}$"
   ]
  },
  {
   "cell_type": "code",
   "execution_count": 4,
   "metadata": {},
   "outputs": [],
   "source": [
    "def DeltaSigma(binmin,binmax,xi,pimax=None,mean_rho=None,H0=None, rp_min=None, rp_max=None, nbins=None):\n",
    "    # mean rho (in comoving Msun pc^-2, no little h)\n",
    "    h = H0/100.\n",
    "\n",
    "    # compute rp bins\n",
    "    #nbins = 40\n",
    "    #rp_min = 0.1\n",
    "    #rp_max = 125.0\n",
    "    rp_bins = np.logspace(np.log10(rp_min), np.log10(rp_max), nbins+1)\n",
    "    rp_binmin = rp_bins[0:-1]\n",
    "    rp_binmax = rp_bins[1:]\n",
    "    rp_mid = (rp_binmin + rp_binmax)/2.0\n",
    "\n",
    "    ds = np.zeros(rp_mid.shape[0])\n",
    "    integrand = lambda r: r*wp(r,binmin,binmax,xi,pimax=pimax)\n",
    "    for i in range(rp_mid.shape[0]):\n",
    "        integral, abserr = integrate.quad(integrand, 0., rp_mid[i], epsabs=1.0e-2, epsrel=1.0e-2)\n",
    "        ds[i] = (integral * (2.0/rp_mid[i]**2) - wp(rp_mid[i],binmin,binmax,xi,pimax=pimax)) * mean_rho\n",
    "\n",
    "    # convert Mpc/h unit to pc (no h)\n",
    "    #ds *= 1.0e6 / h\n",
    "    ds *= 1.0e6 / h**2.0 #delta sigma comes out in Msun h / pc^2 units\n",
    "    return rp_binmin, rp_binmax, ds"
   ]
  },
  {
   "cell_type": "code",
   "execution_count": 43,
   "metadata": {},
   "outputs": [],
   "source": [
    "def DeltaSigma_from_files(header_file,filename,output_file,pimax,rp_min,rp_max,nbins):\n",
    "    # read in cosmological parameters from header_file\n",
    "    # import config\n",
    "    # cf = config.AbacusConfigFile(header_file)\n",
    "    # omega_m = cf.Omega_M # at z=0\n",
    "    # H_0 = cf.H0\n",
    "    h = 0.6726\n",
    "    H_0 = 67.26\n",
    "    omega_m = 0.14212\n",
    "    \n",
    "    # compute mean_rho (comoving density units = Msun pc^-3)\n",
    "    speed_of_light_km_s = 2.998e5 # km/s\n",
    "    csq_over_G = 2.494e12 # 3c^2/(8*pi*G) Msun pc^-1\n",
    "    \n",
    "    mean_rho = omega_m * csq_over_G * (H_0/speed_of_light_km_s)**2 / 1.0e12 # Msun pc^-3\n",
    "\n",
    "    binmin,binmax,xi = np.loadtxt(filename,unpack=True)\n",
    "    \n",
    "    DS_binmin, DS_binmax, DS = DeltaSigma(binmin,binmax,xi,pimax=float(pimax),mean_rho=mean_rho,H0=H_0,rp_min=float(rp_min),rp_max=float(rp_max),nbins=int(nbins))\n",
    "    np.savetxt(output_file, np.c_[DS_binmin, DS_binmax, np.zeros(DS.shape[0]), DS],\n",
    "               delimiter='\\t')"
   ]
  },
  {
   "cell_type": "code",
   "execution_count": 44,
   "metadata": {},
   "outputs": [],
   "source": [
    "pimax = 100 #h^-1 Mpc\n",
    "rp_min = 0.05\n",
    "rp_max = 12\n",
    "nbins = 20"
   ]
  },
  {
   "cell_type": "code",
   "execution_count": 45,
   "metadata": {},
   "outputs": [],
   "source": [
    "headerfile = \"\"\n",
    "filename = os.path.join(project_path,\"data/result_DD.txt\")\n",
    "output_file = os.path.join(project_path,\"data/DSigma.txt\")"
   ]
  },
  {
   "cell_type": "code",
   "execution_count": 46,
   "metadata": {},
   "outputs": [],
   "source": [
    "DeltaSigma_from_files(headerfile,filename,output_file,pimax,rp_min,rp_max,nbins)"
   ]
  },
  {
   "cell_type": "code",
   "execution_count": 47,
   "metadata": {},
   "outputs": [],
   "source": [
    "DSigma = np.loadtxt(output_file)"
   ]
  },
  {
   "cell_type": "code",
   "execution_count": 48,
   "metadata": {},
   "outputs": [
    {
     "data": {
      "text/plain": [
       "array([[5.00000000e-02, 6.57628409e-02, 0.00000000e+00, 2.21107466e+15],\n",
       "       [6.57628409e-02, 8.64950250e-02, 0.00000000e+00, 1.52263931e+16],\n",
       "       [8.64950250e-02, 1.13763171e-01, 0.00000000e+00, 8.81385011e+15],\n",
       "       [1.13763171e-01, 1.49627787e-01, 0.00000000e+00, 5.08826973e+15],\n",
       "       [1.49627787e-01, 1.96798967e-01, 0.00000000e+00, 2.94211771e+15],\n",
       "       [1.96798967e-01, 2.58841183e-01, 0.00000000e+00, 1.70041278e+15],\n",
       "       [2.58841183e-01, 3.40442632e-01, 0.00000000e+00, 9.82960162e+14],\n",
       "       [3.40442632e-01, 4.47769493e-01, 0.00000000e+00, 5.68211131e+14],\n",
       "       [4.47769493e-01, 5.88931879e-01, 0.00000000e+00, 3.28492633e+14],\n",
       "       [5.88931879e-01, 7.74596669e-01, 0.00000000e+00, 1.89895032e+14],\n",
       "       [7.74596669e-01, 1.01879355e+00, 0.00000000e+00, 1.09637968e+14],\n",
       "       [1.01879355e+00, 1.33997517e+00, 0.00000000e+00, 6.34471321e+13],\n",
       "       [1.33997517e+00, 1.76241147e+00, 0.00000000e+00, 3.69069742e+13],\n",
       "       [1.76241147e+00, 2.31802371e+00, 0.00000000e+00, 2.12041404e+13],\n",
       "       [2.31802371e+00, 3.04879649e+00, 0.00000000e+00, 1.22557253e+13],\n",
       "       [3.04879649e+00, 4.00995037e+00, 0.00000000e+00, 7.07786866e+12],\n",
       "       [4.00995037e+00, 5.27411457e+00, 0.00000000e+00, 4.09446641e+12],\n",
       "       [5.27411457e+00, 6.93681515e+00, 0.00000000e+00, 2.36679550e+12],\n",
       "       [6.93681515e+00, 9.12369343e+00, 0.00000000e+00, 1.36893788e+12],\n",
       "       [9.12369343e+00, 1.20000000e+01, 0.00000000e+00, 7.91307215e+11]])"
      ]
     },
     "execution_count": 48,
     "metadata": {},
     "output_type": "execute_result"
    }
   ],
   "source": [
    "DSigma"
   ]
  },
  {
   "cell_type": "code",
   "execution_count": 49,
   "metadata": {},
   "outputs": [],
   "source": [
    "bins = (DSigma[:,0]+DSigma[:,1])/2"
   ]
  },
  {
   "cell_type": "code",
   "execution_count": 50,
   "metadata": {},
   "outputs": [],
   "source": [
    "import matplotlib.pyplot as plt\n",
    "import seaborn as sns\n",
    "import matplotlib\n",
    "%matplotlib inline"
   ]
  },
  {
   "cell_type": "code",
   "execution_count": 51,
   "metadata": {},
   "outputs": [
    {
     "data": {
      "image/png": "[encoded data removed]",
      "text/plain": [
       "<Figure size 432x288 with 1 Axes>"
      ]
     },
     "metadata": {
      "needs_background": "light"
     },
     "output_type": "display_data"
    }
   ],
   "source": [
    "plt.scatter(bins,DSigma[:,3])\n",
    "plt.xscale('log')\n",
    "plt.yscale('log')"
   ]
  },
  {
   "cell_type": "code",
   "execution_count": 52,
   "metadata": {},
   "outputs": [
    {
     "name": "stdout",
     "output_type": "stream",
     "text": [
      "[ 0.05788142  0.07612893  0.1001291   0.13169548  0.17321338  0.22782008\n",
      "  0.29964191  0.39410606  0.51835069  0.68176427  0.89669511  1.17938436\n",
      "  1.55119332  2.04021759  2.6834101   3.52937343  4.64203247  6.10546486\n",
      "  8.03025429 10.56184672]\n"
     ]
    }
   ],
   "source": [
    "print(bins)"
   ]
  },
  {
   "cell_type": "code",
   "execution_count": 41,
   "metadata": {},
   "outputs": [
    {
     "data": {
      "text/plain": [
       "array([4.88753276e+15, 3.36576131e+16, 1.94828252e+16, 1.12475103e+16,\n",
       "       6.50348762e+15, 3.75872571e+15, 2.17281220e+15, 1.25601843e+15,\n",
       "       7.26125867e+14, 4.19758864e+14, 2.42352359e+14, 1.40248515e+14,\n",
       "       8.15820691e+13, 4.68712941e+13, 2.70910160e+13, 1.56454757e+13,\n",
       "       9.05072953e+12, 5.23175032e+12, 3.02600760e+12, 1.74916750e+12])"
      ]
     },
     "execution_count": 41,
     "metadata": {},
     "output_type": "execute_result"
    }
   ],
   "source": [
    "DSigma[:,3]"
   ]
  },
  {
   "cell_type": "code",
   "execution_count": null,
   "metadata": {},
   "outputs": [],
   "source": []
  }
 ],
 "metadata": {
  "kernelspec": {
   "display_name": "DESDESI",
   "language": "python",
   "name": "desdesi"
  },
  "language_info": {
   "codemirror_mode": {
    "name": "ipython",
    "version": 3
   },
   "file_extension": ".py",
   "mimetype": "text/x-python",
   "name": "python",
   "nbconvert_exporter": "python",
   "pygments_lexer": "ipython3",
   "version": "3.8.3"
  }
 },
 "nbformat": 4,
 "nbformat_minor": 4
}
