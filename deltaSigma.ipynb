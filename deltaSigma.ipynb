{
 "cells": [
  {
   "cell_type": "markdown",
   "metadata": {},
   "source": [
    "# Calculate $w_p$\n",
    "\n"
   ]
  },
  {
   "cell_type": "code",
   "execution_count": null,
   "metadata": {},
   "outputs": [],
   "source": [
    "# if __name__ == \"__main__\":\n",
    "#     import argparse\n",
    "#     parser = argparse.ArgumentParser()\n",
    "#     parser.add_argument('input_file')\n",
    "#     parser.add_argument('header_file')\n",
    "#     parser.add_argument('output_file')\n",
    "#     parser.add_argument('pimax')\n",
    "#     parser.add_argument('rp_min')\n",
    "#     parser.add_argument('rp_max')\n",
    "#     parser.add_argument('nbins')\n",
    "#     args = parser.parse_args()"
   ]
  },
  {
   "cell_type": "code",
   "execution_count": 3,
   "metadata": {},
   "outputs": [],
   "source": [
    "#Script passed on from A. Salcedo\n",
    "import numpy as np\n",
    "import scipy.integrate as integrate\n",
    "\n",
    "def wp(rp,binmin,binmax,xi,pimax=None):\n",
    "    \"\"\"compute wp(r_p) from tabulated xi(r).\"\"\"\n",
    "\n",
    "    lower_bound = rp\n",
    "    upper_bound = np.sqrt(rp**2 + pimax**2)\n",
    "    binmask = np.logical_and(binmax > lower_bound, binmin < upper_bound)\n",
    "    masked_xi = xi[binmask]\n",
    "    r_i = binmin[binmask]\n",
    "    r_iplus = binmax[binmask]\n",
    "    s_plus = np.minimum(upper_bound, r_iplus)\n",
    "    s_minus = np.maximum(lower_bound, r_i)\n",
    "    # here we assume that xi is piecewise constant over the tabulated input bins\n",
    "    elementwise_integral = 2.0*masked_xi * \\\n",
    "                           (np.sqrt(s_plus**2 - rp**2) - np.sqrt(s_minus**2 - rp**2))\n",
    "    w_p = np.sum(elementwise_integral)\n",
    "\n",
    "    return w_p"
   ]
  },
  {
   "cell_type": "code",
   "execution_count": 4,
   "metadata": {},
   "outputs": [],
   "source": [
    "def DeltaSigma(binmin,binmax,xi,pimax=None,mean_rho=None,H0=None, rp_min=None, rp_max=None, nbins=None):\n",
    "    # mean rho (in comoving Msun pc^-2, no little h)\n",
    "    h = H0/100.\n",
    "\n",
    "    # compute rp bins\n",
    "    #nbins = 40\n",
    "    #rp_min = 0.1\n",
    "    #rp_max = 125.0\n",
    "    rp_bins = np.logspace(np.log10(rp_min), np.log10(rp_max), nbins+1)\n",
    "    rp_binmin = rp_bins[0:-1]\n",
    "    rp_binmax = rp_bins[1:]\n",
    "    rp_mid = (rp_binmin + rp_binmax)/2.0\n",
    "\n",
    "    ds = np.zeros(rp_mid.shape[0])\n",
    "    integrand = lambda r: r*wp(r,binmin,binmax,xi,pimax=pimax)\n",
    "    for i in range(rp_mid.shape[0]):\n",
    "        integral, abserr = integrate.quad(integrand, 0., rp_mid[i], epsabs=1.0e-2, epsrel=1.0e-2)\n",
    "        ds[i] = (integral * (2.0/rp_mid[i]**2) - wp(rp_mid[i],binmin,binmax,xi,pimax=pimax)) * mean_rho\n",
    "\n",
    "    # convert Mpc/h unit to pc (no h)\n",
    "    #ds *= 1.0e6 / h\n",
    "    ds *= 1.0e6 / h**2.0 #delta sigma comes out in Msun h / pc^2 units\n",
    "    return rp_binmin, rp_binmax, ds"
   ]
  },
  {
   "cell_type": "code",
   "execution_count": null,
   "metadata": {},
   "outputs": [],
   "source": [
    "input_file\n",
    "output_file\n",
    "pimax\n",
    "rp_min\n",
    "rp_max\n",
    "nbins\n"
   ]
  },
  {
   "cell_type": "code",
   "execution_count": 2,
   "metadata": {},
   "outputs": [],
   "source": [
    "def DeltaSigma_from_files(header_file,filename,output_file,pimax,rp_min,rp_max,nbins):\n",
    "    # read in cosmological parameters from header_file\n",
    "    import config\n",
    "    cf = config.AbacusConfigFile(header_file)\n",
    "    omega_m = cf.Omega_M # at z=0\n",
    "    H_0 = cf.H0\n",
    "    \n",
    "    # compute mean_rho (comoving density units = Msun pc^-3)\n",
    "    speed_of_light_km_s = 2.998e5 # km/s\n",
    "    csq_over_G = 2.494e12 # 3c^2/(8*pi*G) Msun pc^-1\n",
    "    mean_rho = omega_m * csq_over_G * (H_0/speed_of_light_km_s)**2 / 1.0e12 # Msun pc^-3\n",
    "\n",
    "    binmin,binmax,null,xi = np.loadtxt(filename,unpack=True)\n",
    "    DS_binmin, DS_binmax, DS = DeltaSigma(binmin,binmax,xi,pimax=float(pimax),mean_rho=mean_rho,H0=H_0,rp_min=float(rp_min),rp_max=float(rp_max),nbins=int(nbins))\n",
    "    np.savetxt(output_file, np.c_[DS_binmin, DS_binmax, np.zeros(DS.shape[0]), DS],\n",
    "               delimiter='\\t')"
   ]
  },
  {
   "cell_type": "code",
   "execution_count": null,
   "metadata": {},
   "outputs": [],
   "source": [
    "DeltaSigma_from_files(args.header_file, args.input_file, args.output_file, args.pimax, args.rp_min, args.rp_max, args.nbins)"
   ]
  }
 ],
 "metadata": {
  "kernelspec": {
   "display_name": "DESDESI",
   "language": "python",
   "name": "desdesi"
  },
  "language_info": {
   "codemirror_mode": {
    "name": "ipython",
    "version": 3
   },
   "file_extension": ".py",
   "mimetype": "text/x-python",
   "name": "python",
   "nbconvert_exporter": "python",
   "pygments_lexer": "ipython3",
   "version": "3.8.3"
  }
 },
 "nbformat": 4,
 "nbformat_minor": 4
}
